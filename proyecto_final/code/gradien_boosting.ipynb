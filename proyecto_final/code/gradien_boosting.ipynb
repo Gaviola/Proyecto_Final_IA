{
 "cells": [
  {
   "cell_type": "code",
   "execution_count": 23,
   "id": "initial_id",
   "metadata": {
    "collapsed": true,
    "ExecuteTime": {
     "end_time": "2023-12-02T15:18:42.049438400Z",
     "start_time": "2023-12-02T15:18:42.032444300Z"
    }
   },
   "outputs": [],
   "source": [
    "import xgboost as xgb\n",
    "from sklearn.model_selection import train_test_split\n",
    "from sklearn.metrics import precision_score, recall_score, f1_score, accuracy_score, confusion_matrix\n",
    "import pandas as pd\n",
    "from sklearn.preprocessing import LabelEncoder"
   ]
  },
  {
   "cell_type": "code",
   "execution_count": 8,
   "outputs": [],
   "source": [
    "match_data = pd.read_csv('C:\\\\Users\\\\Facu\\\\PycharmProjects\\\\Proyecto_Final_IA\\\\proyecto_final\\\\data\\\\matchData.csv')\n",
    "#Serializamos el data frame\n",
    "match_data['teams'] = match_data['teams'].apply(eval)  # Convierte la cadena JSON a una lista de diccionarios\n"
   ],
   "metadata": {
    "collapsed": false,
    "ExecuteTime": {
     "end_time": "2023-12-02T15:09:28.709462200Z",
     "start_time": "2023-12-02T15:08:50.910159Z"
    }
   },
   "id": "aaf8c0597b463e8f"
  },
  {
   "cell_type": "code",
   "execution_count": 9,
   "outputs": [],
   "source": [
    "# agrega las columnas: firstBloodTeam1', 'firstTowerTeam1,'firstBaronTeam1','firstDragonTeam1', 'firstRiftHeraldTeam1', 'ban1Team1', 'ban2Team1', 'ban3Team1', 'ban4Team1', 'ban5Team1', champ1Team1, champ2Team1, champ3Team1, champ4Team1, champ5Team1, 'firstBloodTeam2', 'firstTowerTeam2', 'firstBaronTeam2', 'firstDragonTeam2', 'firstRiftHeraldTeam2', 'ban1Team2', 'ban2Team2', 'ban3Team2', 'ban4Team2', 'ban5Team2', champ1Team2, champ2Team2, champ3Team2, champ4Team2, champ5Team2.\n",
    "match_data['firstBloodTeam1'] = [None for _ in range(len(match_data))]\n",
    "match_data['firstTowerTeam1'] = [None for _ in range(len(match_data))]\n",
    "match_data['firstBaronTeam1'] = [None for _ in range(len(match_data))]\n",
    "match_data['firstDragonTeam1'] = [None for _ in range(len(match_data))]\n",
    "match_data['firstRiftHeraldTeam1'] = [None for _ in range(len(match_data))]\n",
    "match_data['ban1Team1'] = [None for _ in range(len(match_data))]\n",
    "match_data['ban2Team1'] = [None for _ in range(len(match_data))]\n",
    "match_data['ban3Team1'] = [None for _ in range(len(match_data))]\n",
    "match_data['ban4Team1'] = [None for _ in range(len(match_data))]\n",
    "match_data['ban5Team1'] = [None for _ in range(len(match_data))]\n",
    "match_data['champ1Team1'] = [None for _ in range(len(match_data))]\n",
    "match_data['champ2Team1'] = [None for _ in range(len(match_data))]\n",
    "match_data['champ3Team1'] = [None for _ in range(len(match_data))]\n",
    "match_data['champ4Team1'] = [None for _ in range(len(match_data))]\n",
    "match_data['champ5Team1'] = [None for _ in range(len(match_data))]\n",
    "match_data['firstBloodTeam2'] = [None for _ in range(len(match_data))]\n",
    "match_data['firstTowerTeam2'] = [None for _ in range(len(match_data))]\n",
    "match_data['firstBaronTeam2'] = [None for _ in range(len(match_data))]\n",
    "match_data['firstDragonTeam2'] = [None for _ in range(len(match_data))]\n",
    "match_data['firstRiftHeraldTeam2'] = [None for _ in range(len(match_data))]\n",
    "match_data['ban1Team2'] = [None for _ in range(len(match_data))]\n",
    "match_data['ban2Team2'] = [None for _ in range(len(match_data))]\n",
    "match_data['ban3Team2'] = [None for _ in range(len(match_data))]\n",
    "match_data['ban4Team2'] = [None for _ in range(len(match_data))]\n",
    "match_data['ban5Team2'] = [None for _ in range(len(match_data))]\n",
    "match_data['champ1Team2'] = [None for _ in range(len(match_data))]\n",
    "match_data['champ2Team2'] = [None for _ in range(len(match_data))]\n",
    "match_data['champ3Team2'] = [None for _ in range(len(match_data))]\n",
    "match_data['champ4Team2'] = [None for _ in range(len(match_data))]\n",
    "match_data['champ5Team2'] = [None for _ in range(len(match_data))]"
   ],
   "metadata": {
    "collapsed": false,
    "ExecuteTime": {
     "end_time": "2023-12-02T15:09:41.817300500Z",
     "start_time": "2023-12-02T15:09:40.527594600Z"
    }
   },
   "id": "9b5ee95389cbab7c"
  },
  {
   "cell_type": "code",
   "execution_count": 10,
   "outputs": [],
   "source": [
    "# Busca los valores de las columnas anteriores en la columna 'teams' y los agrega en las columnas correspondientes\n",
    "def get_team_data(teams, n):\n",
    "    team1 = None  \n",
    "    team2 = None  \n",
    "    for team in teams:\n",
    "        if team['teamId'] == 100:\n",
    "            team1 = team\n",
    "        else:\n",
    "            team2 = team\n",
    "    match_data.at[match_data.index[n], 'firstBloodTeam1'] = team1.get('firstBlood', None)\n",
    "    match_data.at[match_data.index[n], 'firstTowerTeam1'] = team1.get('firstTower', None)\n",
    "    match_data.at[match_data.index[n], 'firstBaronTeam1'] = team1.get('firstBaron', None)\n",
    "    match_data.at[match_data.index[n], 'firstDragonTeam1'] = team1.get('firstDragon', None)\n",
    "    match_data.at[match_data.index[n], 'firstRiftHeraldTeam1'] = team1.get('firstRiftHerald', None)\n",
    "    \n",
    "    if team1['bans']:\n",
    "        match_data.at[match_data.index[n], 'ban1Team1'] = team1['bans'][0].get('championId', None)\n",
    "        match_data.at[match_data.index[n], 'ban2Team1'] = team1['bans'][1].get('championId', None)\n",
    "        match_data.at[match_data.index[n], 'ban3Team1'] = team1['bans'][2].get('championId', None)\n",
    "        match_data.at[match_data.index[n], 'ban4Team1'] = team1['bans'][3].get('championId', None)\n",
    "        match_data.at[match_data.index[n], 'ban5Team1'] = team1['bans'][4].get('championId', None)\n",
    "\n",
    "    match_data.at[match_data.index[n], 'champ1Team1'] = team1.get('championId', None)\n",
    "    match_data.at[match_data.index[n], 'champ2Team1'] = team1.get('championId', None)\n",
    "    match_data.at[match_data.index[n], 'champ3Team1'] = team1.get('championId', None)\n",
    "    match_data.at[match_data.index[n], 'champ4Team1'] = team1.get('championId', None)\n",
    "    match_data.at[match_data.index[n], 'champ5Team1'] = team1.get('championId', None)\n",
    "    match_data.at[match_data.index[n], 'firstBloodTeam2'] = team2.get('firstBlood', None)\n",
    "    match_data.at[match_data.index[n], 'firstTowerTeam2'] = team2.get('firstTower', None)\n",
    "    match_data.at[match_data.index[n], 'firstBaronTeam2'] = team2.get('firstBaron', None)\n",
    "    match_data.at[match_data.index[n], 'firstDragonTeam2'] = team2.get('firstDragon', None)\n",
    "    match_data.at[match_data.index[n], 'firstRiftHeraldTeam2'] = team2.get('firstRiftHerald', None)\n",
    "    \n",
    "    if team2['bans']:\n",
    "        match_data.at[match_data.index[n], 'ban1Team2'] = team2['bans'][0].get('championId', None)\n",
    "        match_data.at[match_data.index[n], 'ban2Team2'] = team2['bans'][1].get('championId', None)\n",
    "        match_data.at[match_data.index[n], 'ban3Team2'] = team2['bans'][2].get('championId', None)\n",
    "        match_data.at[match_data.index[n], 'ban4Team2'] = team2['bans'][3].get('championId', None)\n",
    "        match_data.at[match_data.index[n], 'ban5Team2'] = team2['bans'][4].get('championId', None)\n",
    "\n",
    "    match_data.at[match_data.index[n], 'champ1Team2'] = team2.get('championId', None)\n",
    "    match_data.at[match_data.index[n], 'champ2Team2'] = team2.get('championId', None)\n",
    "    match_data.at[match_data.index[n], 'champ3Team2'] = team2.get('championId', None)\n",
    "    match_data.at[match_data.index[n], 'champ4Team2'] = team2.get('championId', None)\n",
    "    match_data.at[match_data.index[n], 'champ5Team2'] = team2.get('championId', None)\n",
    "    return n+1\n",
    "\n",
    "match_data['index'] = match_data.index\n",
    "match_data.apply(lambda row: get_team_data(row['teams'], row['index']), axis=1)  # Aplica la función a cada fila del dataframe\n",
    "match_data.drop('index', axis=1, inplace=True)  # Elimina la columna temporal 'index'\n"
   ],
   "metadata": {
    "collapsed": false,
    "ExecuteTime": {
     "end_time": "2023-12-02T15:11:03.377453600Z",
     "start_time": "2023-12-02T15:09:43.552624Z"
    }
   },
   "id": "25a6a0a1197fc96a"
  },
  {
   "cell_type": "code",
   "execution_count": 11,
   "outputs": [],
   "source": [
    "match_data['participants'] = match_data['participants'].apply(eval)"
   ],
   "metadata": {
    "collapsed": false,
    "ExecuteTime": {
     "end_time": "2023-12-02T15:12:36.650326200Z",
     "start_time": "2023-12-02T15:11:08.974971200Z"
    }
   },
   "id": "302141c2a80d2ef5"
  },
  {
   "cell_type": "code",
   "execution_count": 12,
   "outputs": [],
   "source": [
    "# rellena las columas de campeones con el ID del campeón que seleccionó cada jugador\n",
    "def get_champ_data(participants, n):\n",
    "    for participant in participants:\n",
    "        if participant['teamId'] == 100:\n",
    "            if participant['participantId'] == 1:\n",
    "                match_data.at[match_data.index[n], 'champ1Team1'] = participant.get('championId', None)\n",
    "            elif participant['participantId'] == 2:\n",
    "                match_data.at[match_data.index[n], 'champ2Team1'] = participant.get('championId', None)\n",
    "            elif participant['participantId'] == 3:\n",
    "                match_data.at[match_data.index[n], 'champ3Team1'] = participant.get('championId', None)\n",
    "            elif participant['participantId'] == 4:\n",
    "                match_data.at[match_data.index[n], 'champ4Team1'] = participant.get('championId', None)\n",
    "            elif participant['participantId'] == 5:\n",
    "                match_data.at[match_data.index[n], 'champ5Team1'] = participant.get('championId', None)\n",
    "        else:\n",
    "            if participant['participantId'] == 6:\n",
    "                match_data.at[match_data.index[n], 'champ1Team2'] = participant.get('championId', None)\n",
    "            elif participant['participantId'] == 7:\n",
    "                match_data.at[match_data.index[n], 'champ2Team2'] = participant.get('championId', None)\n",
    "            elif participant['participantId'] == 8:\n",
    "                match_data.at[match_data.index[n], 'champ3Team2'] = participant.get('championId', None)\n",
    "            elif participant['participantId'] == 9:\n",
    "                match_data.at[match_data.index[n], 'champ4Team2'] = participant.get('championId', None)\n",
    "            elif participant['participantId'] == 10:\n",
    "                match_data.at[match_data.index[n], 'champ5Team2'] = participant.get('championId', None)\n",
    "    return n+1\n",
    "\n",
    "match_data['index'] = match_data.index\n",
    "match_data.apply(lambda row: get_champ_data(row['participants'], row['index']), axis=1)\n",
    "match_data.drop('index', axis=1, inplace=True)  # Elimina la columna temporal 'index'\n"
   ],
   "metadata": {
    "collapsed": false,
    "ExecuteTime": {
     "end_time": "2023-12-02T15:13:18.297705Z",
     "start_time": "2023-12-02T15:12:47.467123500Z"
    }
   },
   "id": "a354028966c23e2e"
  },
  {
   "cell_type": "code",
   "execution_count": 13,
   "outputs": [],
   "source": [
    "# Elimina las filas con valores nulos\n",
    "match_data.dropna(inplace=True)"
   ],
   "metadata": {
    "collapsed": false,
    "ExecuteTime": {
     "end_time": "2023-12-02T15:13:27.821757800Z",
     "start_time": "2023-12-02T15:13:27.327009900Z"
    }
   },
   "id": "70e0ba0e7cc2182e"
  },
  {
   "cell_type": "code",
   "execution_count": 7,
   "outputs": [
    {
     "ename": "TypeError",
     "evalue": "unhashable type: 'list'",
     "output_type": "error",
     "traceback": [
      "\u001B[1;31m---------------------------------------------------------------------------\u001B[0m",
      "\u001B[1;31mTypeError\u001B[0m                                 Traceback (most recent call last)",
      "File \u001B[1;32m~\\PycharmProjects\\Proyecto_Final_IA\\venv\\Lib\\site-packages\\pandas\\core\\arrays\\categorical.py:449\u001B[0m, in \u001B[0;36mCategorical.__init__\u001B[1;34m(self, values, categories, ordered, dtype, fastpath, copy)\u001B[0m\n\u001B[0;32m    448\u001B[0m \u001B[38;5;28;01mtry\u001B[39;00m:\n\u001B[1;32m--> 449\u001B[0m     codes, categories \u001B[38;5;241m=\u001B[39m \u001B[43mfactorize\u001B[49m\u001B[43m(\u001B[49m\u001B[43mvalues\u001B[49m\u001B[43m,\u001B[49m\u001B[43m \u001B[49m\u001B[43msort\u001B[49m\u001B[38;5;241;43m=\u001B[39;49m\u001B[38;5;28;43;01mTrue\u001B[39;49;00m\u001B[43m)\u001B[49m\n\u001B[0;32m    450\u001B[0m \u001B[38;5;28;01mexcept\u001B[39;00m \u001B[38;5;167;01mTypeError\u001B[39;00m \u001B[38;5;28;01mas\u001B[39;00m err:\n",
      "File \u001B[1;32m~\\PycharmProjects\\Proyecto_Final_IA\\venv\\Lib\\site-packages\\pandas\\core\\algorithms.py:795\u001B[0m, in \u001B[0;36mfactorize\u001B[1;34m(values, sort, use_na_sentinel, size_hint)\u001B[0m\n\u001B[0;32m    793\u001B[0m             values \u001B[38;5;241m=\u001B[39m np\u001B[38;5;241m.\u001B[39mwhere(null_mask, na_value, values)\n\u001B[1;32m--> 795\u001B[0m     codes, uniques \u001B[38;5;241m=\u001B[39m \u001B[43mfactorize_array\u001B[49m\u001B[43m(\u001B[49m\n\u001B[0;32m    796\u001B[0m \u001B[43m        \u001B[49m\u001B[43mvalues\u001B[49m\u001B[43m,\u001B[49m\n\u001B[0;32m    797\u001B[0m \u001B[43m        \u001B[49m\u001B[43muse_na_sentinel\u001B[49m\u001B[38;5;241;43m=\u001B[39;49m\u001B[43muse_na_sentinel\u001B[49m\u001B[43m,\u001B[49m\n\u001B[0;32m    798\u001B[0m \u001B[43m        \u001B[49m\u001B[43msize_hint\u001B[49m\u001B[38;5;241;43m=\u001B[39;49m\u001B[43msize_hint\u001B[49m\u001B[43m,\u001B[49m\n\u001B[0;32m    799\u001B[0m \u001B[43m    \u001B[49m\u001B[43m)\u001B[49m\n\u001B[0;32m    801\u001B[0m \u001B[38;5;28;01mif\u001B[39;00m sort \u001B[38;5;129;01mand\u001B[39;00m \u001B[38;5;28mlen\u001B[39m(uniques) \u001B[38;5;241m>\u001B[39m \u001B[38;5;241m0\u001B[39m:\n",
      "File \u001B[1;32m~\\PycharmProjects\\Proyecto_Final_IA\\venv\\Lib\\site-packages\\pandas\\core\\algorithms.py:595\u001B[0m, in \u001B[0;36mfactorize_array\u001B[1;34m(values, use_na_sentinel, size_hint, na_value, mask)\u001B[0m\n\u001B[0;32m    594\u001B[0m table \u001B[38;5;241m=\u001B[39m hash_klass(size_hint \u001B[38;5;129;01mor\u001B[39;00m \u001B[38;5;28mlen\u001B[39m(values))\n\u001B[1;32m--> 595\u001B[0m uniques, codes \u001B[38;5;241m=\u001B[39m \u001B[43mtable\u001B[49m\u001B[38;5;241;43m.\u001B[39;49m\u001B[43mfactorize\u001B[49m\u001B[43m(\u001B[49m\n\u001B[0;32m    596\u001B[0m \u001B[43m    \u001B[49m\u001B[43mvalues\u001B[49m\u001B[43m,\u001B[49m\n\u001B[0;32m    597\u001B[0m \u001B[43m    \u001B[49m\u001B[43mna_sentinel\u001B[49m\u001B[38;5;241;43m=\u001B[39;49m\u001B[38;5;241;43m-\u001B[39;49m\u001B[38;5;241;43m1\u001B[39;49m\u001B[43m,\u001B[49m\n\u001B[0;32m    598\u001B[0m \u001B[43m    \u001B[49m\u001B[43mna_value\u001B[49m\u001B[38;5;241;43m=\u001B[39;49m\u001B[43mna_value\u001B[49m\u001B[43m,\u001B[49m\n\u001B[0;32m    599\u001B[0m \u001B[43m    \u001B[49m\u001B[43mmask\u001B[49m\u001B[38;5;241;43m=\u001B[39;49m\u001B[43mmask\u001B[49m\u001B[43m,\u001B[49m\n\u001B[0;32m    600\u001B[0m \u001B[43m    \u001B[49m\u001B[43mignore_na\u001B[49m\u001B[38;5;241;43m=\u001B[39;49m\u001B[43muse_na_sentinel\u001B[49m\u001B[43m,\u001B[49m\n\u001B[0;32m    601\u001B[0m \u001B[43m\u001B[49m\u001B[43m)\u001B[49m\n\u001B[0;32m    603\u001B[0m \u001B[38;5;66;03m# re-cast e.g. i8->dt64/td64, uint8->bool\u001B[39;00m\n",
      "File \u001B[1;32mpandas\\_libs\\hashtable_class_helper.pxi:7280\u001B[0m, in \u001B[0;36mpandas._libs.hashtable.PyObjectHashTable.factorize\u001B[1;34m()\u001B[0m\n",
      "File \u001B[1;32mpandas\\_libs\\hashtable_class_helper.pxi:7194\u001B[0m, in \u001B[0;36mpandas._libs.hashtable.PyObjectHashTable._unique\u001B[1;34m()\u001B[0m\n",
      "\u001B[1;31mTypeError\u001B[0m: unhashable type: 'list'",
      "\nDuring handling of the above exception, another exception occurred:\n",
      "\u001B[1;31mTypeError\u001B[0m                                 Traceback (most recent call last)",
      "Cell \u001B[1;32mIn[7], line 1\u001B[0m\n\u001B[1;32m----> 1\u001B[0m match_data \u001B[38;5;241m=\u001B[39m \u001B[43mpd\u001B[49m\u001B[38;5;241;43m.\u001B[39;49m\u001B[43mget_dummies\u001B[49m\u001B[43m(\u001B[49m\u001B[43mdata\u001B[49m\u001B[38;5;241;43m=\u001B[39;49m\u001B[43mmatch_data\u001B[49m\u001B[43m)\u001B[49m\n",
      "File \u001B[1;32m~\\PycharmProjects\\Proyecto_Final_IA\\venv\\Lib\\site-packages\\pandas\\core\\reshape\\encoding.py:209\u001B[0m, in \u001B[0;36mget_dummies\u001B[1;34m(data, prefix, prefix_sep, dummy_na, columns, sparse, drop_first, dtype)\u001B[0m\n\u001B[0;32m    205\u001B[0m     with_dummies \u001B[38;5;241m=\u001B[39m [data\u001B[38;5;241m.\u001B[39mselect_dtypes(exclude\u001B[38;5;241m=\u001B[39mdtypes_to_encode)]\n\u001B[0;32m    207\u001B[0m \u001B[38;5;28;01mfor\u001B[39;00m col, pre, sep \u001B[38;5;129;01min\u001B[39;00m \u001B[38;5;28mzip\u001B[39m(data_to_encode\u001B[38;5;241m.\u001B[39mitems(), prefix, prefix_sep):\n\u001B[0;32m    208\u001B[0m     \u001B[38;5;66;03m# col is (column_name, column), use just column data here\u001B[39;00m\n\u001B[1;32m--> 209\u001B[0m     dummy \u001B[38;5;241m=\u001B[39m \u001B[43m_get_dummies_1d\u001B[49m\u001B[43m(\u001B[49m\n\u001B[0;32m    210\u001B[0m \u001B[43m        \u001B[49m\u001B[43mcol\u001B[49m\u001B[43m[\u001B[49m\u001B[38;5;241;43m1\u001B[39;49m\u001B[43m]\u001B[49m\u001B[43m,\u001B[49m\n\u001B[0;32m    211\u001B[0m \u001B[43m        \u001B[49m\u001B[43mprefix\u001B[49m\u001B[38;5;241;43m=\u001B[39;49m\u001B[43mpre\u001B[49m\u001B[43m,\u001B[49m\n\u001B[0;32m    212\u001B[0m \u001B[43m        \u001B[49m\u001B[43mprefix_sep\u001B[49m\u001B[38;5;241;43m=\u001B[39;49m\u001B[43msep\u001B[49m\u001B[43m,\u001B[49m\n\u001B[0;32m    213\u001B[0m \u001B[43m        \u001B[49m\u001B[43mdummy_na\u001B[49m\u001B[38;5;241;43m=\u001B[39;49m\u001B[43mdummy_na\u001B[49m\u001B[43m,\u001B[49m\n\u001B[0;32m    214\u001B[0m \u001B[43m        \u001B[49m\u001B[43msparse\u001B[49m\u001B[38;5;241;43m=\u001B[39;49m\u001B[43msparse\u001B[49m\u001B[43m,\u001B[49m\n\u001B[0;32m    215\u001B[0m \u001B[43m        \u001B[49m\u001B[43mdrop_first\u001B[49m\u001B[38;5;241;43m=\u001B[39;49m\u001B[43mdrop_first\u001B[49m\u001B[43m,\u001B[49m\n\u001B[0;32m    216\u001B[0m \u001B[43m        \u001B[49m\u001B[43mdtype\u001B[49m\u001B[38;5;241;43m=\u001B[39;49m\u001B[43mdtype\u001B[49m\u001B[43m,\u001B[49m\n\u001B[0;32m    217\u001B[0m \u001B[43m    \u001B[49m\u001B[43m)\u001B[49m\n\u001B[0;32m    218\u001B[0m     with_dummies\u001B[38;5;241m.\u001B[39mappend(dummy)\n\u001B[0;32m    219\u001B[0m result \u001B[38;5;241m=\u001B[39m concat(with_dummies, axis\u001B[38;5;241m=\u001B[39m\u001B[38;5;241m1\u001B[39m)\n",
      "File \u001B[1;32m~\\PycharmProjects\\Proyecto_Final_IA\\venv\\Lib\\site-packages\\pandas\\core\\reshape\\encoding.py:245\u001B[0m, in \u001B[0;36m_get_dummies_1d\u001B[1;34m(data, prefix, prefix_sep, dummy_na, sparse, drop_first, dtype)\u001B[0m\n\u001B[0;32m    242\u001B[0m \u001B[38;5;28;01mfrom\u001B[39;00m \u001B[38;5;21;01mpandas\u001B[39;00m\u001B[38;5;21;01m.\u001B[39;00m\u001B[38;5;21;01mcore\u001B[39;00m\u001B[38;5;21;01m.\u001B[39;00m\u001B[38;5;21;01mreshape\u001B[39;00m\u001B[38;5;21;01m.\u001B[39;00m\u001B[38;5;21;01mconcat\u001B[39;00m \u001B[38;5;28;01mimport\u001B[39;00m concat\n\u001B[0;32m    244\u001B[0m \u001B[38;5;66;03m# Series avoids inconsistent NaN handling\u001B[39;00m\n\u001B[1;32m--> 245\u001B[0m codes, levels \u001B[38;5;241m=\u001B[39m \u001B[43mfactorize_from_iterable\u001B[49m\u001B[43m(\u001B[49m\u001B[43mSeries\u001B[49m\u001B[43m(\u001B[49m\u001B[43mdata\u001B[49m\u001B[43m,\u001B[49m\u001B[43m \u001B[49m\u001B[43mcopy\u001B[49m\u001B[38;5;241;43m=\u001B[39;49m\u001B[38;5;28;43;01mFalse\u001B[39;49;00m\u001B[43m)\u001B[49m\u001B[43m)\u001B[49m\n\u001B[0;32m    247\u001B[0m \u001B[38;5;28;01mif\u001B[39;00m dtype \u001B[38;5;129;01mis\u001B[39;00m \u001B[38;5;28;01mNone\u001B[39;00m:\n\u001B[0;32m    248\u001B[0m     dtype \u001B[38;5;241m=\u001B[39m np\u001B[38;5;241m.\u001B[39mdtype(\u001B[38;5;28mbool\u001B[39m)\n",
      "File \u001B[1;32m~\\PycharmProjects\\Proyecto_Final_IA\\venv\\Lib\\site-packages\\pandas\\core\\arrays\\categorical.py:2996\u001B[0m, in \u001B[0;36mfactorize_from_iterable\u001B[1;34m(values)\u001B[0m\n\u001B[0;32m   2991\u001B[0m     codes \u001B[38;5;241m=\u001B[39m values\u001B[38;5;241m.\u001B[39mcodes\n\u001B[0;32m   2992\u001B[0m \u001B[38;5;28;01melse\u001B[39;00m:\n\u001B[0;32m   2993\u001B[0m     \u001B[38;5;66;03m# The value of ordered is irrelevant since we don't use cat as such,\u001B[39;00m\n\u001B[0;32m   2994\u001B[0m     \u001B[38;5;66;03m# but only the resulting categories, the order of which is independent\u001B[39;00m\n\u001B[0;32m   2995\u001B[0m     \u001B[38;5;66;03m# from ordered. Set ordered to False as default. See GH #15457\u001B[39;00m\n\u001B[1;32m-> 2996\u001B[0m     cat \u001B[38;5;241m=\u001B[39m \u001B[43mCategorical\u001B[49m\u001B[43m(\u001B[49m\u001B[43mvalues\u001B[49m\u001B[43m,\u001B[49m\u001B[43m \u001B[49m\u001B[43mordered\u001B[49m\u001B[38;5;241;43m=\u001B[39;49m\u001B[38;5;28;43;01mFalse\u001B[39;49;00m\u001B[43m)\u001B[49m\n\u001B[0;32m   2997\u001B[0m     categories \u001B[38;5;241m=\u001B[39m cat\u001B[38;5;241m.\u001B[39mcategories\n\u001B[0;32m   2998\u001B[0m     codes \u001B[38;5;241m=\u001B[39m cat\u001B[38;5;241m.\u001B[39mcodes\n",
      "File \u001B[1;32m~\\PycharmProjects\\Proyecto_Final_IA\\venv\\Lib\\site-packages\\pandas\\core\\arrays\\categorical.py:451\u001B[0m, in \u001B[0;36mCategorical.__init__\u001B[1;34m(self, values, categories, ordered, dtype, fastpath, copy)\u001B[0m\n\u001B[0;32m    449\u001B[0m     codes, categories \u001B[38;5;241m=\u001B[39m factorize(values, sort\u001B[38;5;241m=\u001B[39m\u001B[38;5;28;01mTrue\u001B[39;00m)\n\u001B[0;32m    450\u001B[0m \u001B[38;5;28;01mexcept\u001B[39;00m \u001B[38;5;167;01mTypeError\u001B[39;00m \u001B[38;5;28;01mas\u001B[39;00m err:\n\u001B[1;32m--> 451\u001B[0m     codes, categories \u001B[38;5;241m=\u001B[39m \u001B[43mfactorize\u001B[49m\u001B[43m(\u001B[49m\u001B[43mvalues\u001B[49m\u001B[43m,\u001B[49m\u001B[43m \u001B[49m\u001B[43msort\u001B[49m\u001B[38;5;241;43m=\u001B[39;49m\u001B[38;5;28;43;01mFalse\u001B[39;49;00m\u001B[43m)\u001B[49m\n\u001B[0;32m    452\u001B[0m     \u001B[38;5;28;01mif\u001B[39;00m dtype\u001B[38;5;241m.\u001B[39mordered:\n\u001B[0;32m    453\u001B[0m         \u001B[38;5;66;03m# raise, as we don't have a sortable data structure and so\u001B[39;00m\n\u001B[0;32m    454\u001B[0m         \u001B[38;5;66;03m# the user should give us one by specifying categories\u001B[39;00m\n\u001B[0;32m    455\u001B[0m         \u001B[38;5;28;01mraise\u001B[39;00m \u001B[38;5;167;01mTypeError\u001B[39;00m(\n\u001B[0;32m    456\u001B[0m             \u001B[38;5;124m\"\u001B[39m\u001B[38;5;124m'\u001B[39m\u001B[38;5;124mvalues\u001B[39m\u001B[38;5;124m'\u001B[39m\u001B[38;5;124m is not ordered, please \u001B[39m\u001B[38;5;124m\"\u001B[39m\n\u001B[0;32m    457\u001B[0m             \u001B[38;5;124m\"\u001B[39m\u001B[38;5;124mexplicitly specify the categories order \u001B[39m\u001B[38;5;124m\"\u001B[39m\n\u001B[0;32m    458\u001B[0m             \u001B[38;5;124m\"\u001B[39m\u001B[38;5;124mby passing in a categories argument.\u001B[39m\u001B[38;5;124m\"\u001B[39m\n\u001B[0;32m    459\u001B[0m         ) \u001B[38;5;28;01mfrom\u001B[39;00m \u001B[38;5;21;01merr\u001B[39;00m\n",
      "File \u001B[1;32m~\\PycharmProjects\\Proyecto_Final_IA\\venv\\Lib\\site-packages\\pandas\\core\\algorithms.py:795\u001B[0m, in \u001B[0;36mfactorize\u001B[1;34m(values, sort, use_na_sentinel, size_hint)\u001B[0m\n\u001B[0;32m    792\u001B[0m             \u001B[38;5;66;03m# Don't modify (potentially user-provided) array\u001B[39;00m\n\u001B[0;32m    793\u001B[0m             values \u001B[38;5;241m=\u001B[39m np\u001B[38;5;241m.\u001B[39mwhere(null_mask, na_value, values)\n\u001B[1;32m--> 795\u001B[0m     codes, uniques \u001B[38;5;241m=\u001B[39m \u001B[43mfactorize_array\u001B[49m\u001B[43m(\u001B[49m\n\u001B[0;32m    796\u001B[0m \u001B[43m        \u001B[49m\u001B[43mvalues\u001B[49m\u001B[43m,\u001B[49m\n\u001B[0;32m    797\u001B[0m \u001B[43m        \u001B[49m\u001B[43muse_na_sentinel\u001B[49m\u001B[38;5;241;43m=\u001B[39;49m\u001B[43muse_na_sentinel\u001B[49m\u001B[43m,\u001B[49m\n\u001B[0;32m    798\u001B[0m \u001B[43m        \u001B[49m\u001B[43msize_hint\u001B[49m\u001B[38;5;241;43m=\u001B[39;49m\u001B[43msize_hint\u001B[49m\u001B[43m,\u001B[49m\n\u001B[0;32m    799\u001B[0m \u001B[43m    \u001B[49m\u001B[43m)\u001B[49m\n\u001B[0;32m    801\u001B[0m \u001B[38;5;28;01mif\u001B[39;00m sort \u001B[38;5;129;01mand\u001B[39;00m \u001B[38;5;28mlen\u001B[39m(uniques) \u001B[38;5;241m>\u001B[39m \u001B[38;5;241m0\u001B[39m:\n\u001B[0;32m    802\u001B[0m     uniques, codes \u001B[38;5;241m=\u001B[39m safe_sort(\n\u001B[0;32m    803\u001B[0m         uniques,\n\u001B[0;32m    804\u001B[0m         codes,\n\u001B[1;32m   (...)\u001B[0m\n\u001B[0;32m    807\u001B[0m         verify\u001B[38;5;241m=\u001B[39m\u001B[38;5;28;01mFalse\u001B[39;00m,\n\u001B[0;32m    808\u001B[0m     )\n",
      "File \u001B[1;32m~\\PycharmProjects\\Proyecto_Final_IA\\venv\\Lib\\site-packages\\pandas\\core\\algorithms.py:595\u001B[0m, in \u001B[0;36mfactorize_array\u001B[1;34m(values, use_na_sentinel, size_hint, na_value, mask)\u001B[0m\n\u001B[0;32m    592\u001B[0m hash_klass, values \u001B[38;5;241m=\u001B[39m _get_hashtable_algo(values)\n\u001B[0;32m    594\u001B[0m table \u001B[38;5;241m=\u001B[39m hash_klass(size_hint \u001B[38;5;129;01mor\u001B[39;00m \u001B[38;5;28mlen\u001B[39m(values))\n\u001B[1;32m--> 595\u001B[0m uniques, codes \u001B[38;5;241m=\u001B[39m \u001B[43mtable\u001B[49m\u001B[38;5;241;43m.\u001B[39;49m\u001B[43mfactorize\u001B[49m\u001B[43m(\u001B[49m\n\u001B[0;32m    596\u001B[0m \u001B[43m    \u001B[49m\u001B[43mvalues\u001B[49m\u001B[43m,\u001B[49m\n\u001B[0;32m    597\u001B[0m \u001B[43m    \u001B[49m\u001B[43mna_sentinel\u001B[49m\u001B[38;5;241;43m=\u001B[39;49m\u001B[38;5;241;43m-\u001B[39;49m\u001B[38;5;241;43m1\u001B[39;49m\u001B[43m,\u001B[49m\n\u001B[0;32m    598\u001B[0m \u001B[43m    \u001B[49m\u001B[43mna_value\u001B[49m\u001B[38;5;241;43m=\u001B[39;49m\u001B[43mna_value\u001B[49m\u001B[43m,\u001B[49m\n\u001B[0;32m    599\u001B[0m \u001B[43m    \u001B[49m\u001B[43mmask\u001B[49m\u001B[38;5;241;43m=\u001B[39;49m\u001B[43mmask\u001B[49m\u001B[43m,\u001B[49m\n\u001B[0;32m    600\u001B[0m \u001B[43m    \u001B[49m\u001B[43mignore_na\u001B[49m\u001B[38;5;241;43m=\u001B[39;49m\u001B[43muse_na_sentinel\u001B[49m\u001B[43m,\u001B[49m\n\u001B[0;32m    601\u001B[0m \u001B[43m\u001B[49m\u001B[43m)\u001B[49m\n\u001B[0;32m    603\u001B[0m \u001B[38;5;66;03m# re-cast e.g. i8->dt64/td64, uint8->bool\u001B[39;00m\n\u001B[0;32m    604\u001B[0m uniques \u001B[38;5;241m=\u001B[39m _reconstruct_data(uniques, original\u001B[38;5;241m.\u001B[39mdtype, original)\n",
      "File \u001B[1;32mpandas\\_libs\\hashtable_class_helper.pxi:7280\u001B[0m, in \u001B[0;36mpandas._libs.hashtable.PyObjectHashTable.factorize\u001B[1;34m()\u001B[0m\n",
      "File \u001B[1;32mpandas\\_libs\\hashtable_class_helper.pxi:7194\u001B[0m, in \u001B[0;36mpandas._libs.hashtable.PyObjectHashTable._unique\u001B[1;34m()\u001B[0m\n",
      "\u001B[1;31mTypeError\u001B[0m: unhashable type: 'list'"
     ]
    }
   ],
   "source": [
    "match_data = pd.get_dummies(data=match_data)"
   ],
   "metadata": {
    "collapsed": false,
    "ExecuteTime": {
     "end_time": "2023-12-02T15:07:59.596091100Z",
     "start_time": "2023-12-02T15:06:10.477643Z"
    }
   },
   "id": "c8e4075b415bbe1d"
  },
  {
   "cell_type": "code",
   "execution_count": 14,
   "outputs": [],
   "source": [
    "def get_win(team_list):\n",
    "    wins = [team.get('win', None) for team in team_list]\n",
    "    return wins\n",
    "\n",
    "# Aplica la función a la columna 'teams' para obtener la columna 'win'\n",
    "wins = match_data['teams'].apply(get_win)"
   ],
   "metadata": {
    "collapsed": false,
    "ExecuteTime": {
     "end_time": "2023-12-02T15:13:47.453370200Z",
     "start_time": "2023-12-02T15:13:47.347392300Z"
    }
   },
   "id": "f7135d1fe481a7b6"
  },
  {
   "cell_type": "code",
   "execution_count": 15,
   "outputs": [],
   "source": [
    "# Elimina las columas 'participantsIdentities', 'participants', y 'teams'\n",
    "match_data.drop('participantIdentities', axis=1, inplace=True)\n",
    "match_data.drop('participants', axis=1, inplace=True)\n",
    "match_data.drop('teams', axis=1, inplace=True)"
   ],
   "metadata": {
    "collapsed": false,
    "ExecuteTime": {
     "end_time": "2023-12-02T15:13:52.342780Z",
     "start_time": "2023-12-02T15:13:51.530256300Z"
    }
   },
   "id": "879a5e80ecf685f8"
  },
  {
   "cell_type": "code",
   "execution_count": 16,
   "outputs": [],
   "source": [
    "match_data.drop('gameId', axis=1, inplace=True)"
   ],
   "metadata": {
    "collapsed": false,
    "ExecuteTime": {
     "end_time": "2023-12-02T15:14:00.087642100Z",
     "start_time": "2023-12-02T15:14:00.005899200Z"
    }
   },
   "id": "edda2ac7cd20733"
  },
  {
   "cell_type": "code",
   "execution_count": 26,
   "outputs": [],
   "source": [
    "win_team1 = [win[0] for win in wins]\n",
    "win_team2 = [win[1] for win in wins]"
   ],
   "metadata": {
    "collapsed": false,
    "ExecuteTime": {
     "end_time": "2023-12-02T15:19:43.502980600Z",
     "start_time": "2023-12-02T15:19:43.308348900Z"
    }
   },
   "id": "e3cad1c7f7a8eb3"
  },
  {
   "cell_type": "code",
   "execution_count": 30,
   "outputs": [],
   "source": [
    "# Transformamos las variables categóricas en variables numéricas\n",
    "label_encoder = LabelEncoder()\n",
    "win_team1 = label_encoder.fit_transform(win_team1)\n",
    "win_team2 = label_encoder.fit_transform(win_team2)\n",
    "# transformamos las variables categoricas de match_data\n",
    "match_data = match_data.apply(label_encoder.fit_transform)"
   ],
   "metadata": {
    "collapsed": false,
    "ExecuteTime": {
     "end_time": "2023-12-02T15:21:10.753614900Z",
     "start_time": "2023-12-02T15:21:09.806501100Z"
    }
   },
   "id": "239169dcb0d504ac"
  },
  {
   "cell_type": "code",
   "execution_count": 28,
   "outputs": [],
   "source": [
    "# Dividir los datos en conjunto de entrenamiento y conjunto de prueba\n",
    "predictors = match_data\n",
    "predictors_train, predictors_test, wins_team1_train, wins_team1_test, wins_team2_train, wins_team2_test = train_test_split(predictors, win_team1, win_team2, test_size=0.2, random_state=42)"
   ],
   "metadata": {
    "collapsed": false,
    "ExecuteTime": {
     "end_time": "2023-12-02T15:19:49.896692300Z",
     "start_time": "2023-12-02T15:19:49.783467Z"
    }
   },
   "id": "6103987fa29a1b7f"
  },
  {
   "cell_type": "code",
   "execution_count": 33,
   "outputs": [
    {
     "ename": "ValueError",
     "evalue": "DataFrame.dtypes for data must be int, float, bool or category. When categorical type is supplied, The experimental DMatrix parameter`enable_categorical` must be set to `True`.  Invalid columns:firstBloodTeam1: object, firstTowerTeam1: object, firstBaronTeam1: object, firstDragonTeam1: object, firstRiftHeraldTeam1: object, ban1Team1: object, ban2Team1: object, ban3Team1: object, ban4Team1: object, ban5Team1: object, champ1Team1: object, champ2Team1: object, champ3Team1: object, champ4Team1: object, champ5Team1: object, firstBloodTeam2: object, firstTowerTeam2: object, firstBaronTeam2: object, firstDragonTeam2: object, firstRiftHeraldTeam2: object, ban1Team2: object, ban2Team2: object, ban3Team2: object, ban4Team2: object, ban5Team2: object, champ1Team2: object, champ2Team2: object, champ3Team2: object, champ4Team2: object, champ5Team2: object",
     "output_type": "error",
     "traceback": [
      "\u001B[1;31m---------------------------------------------------------------------------\u001B[0m",
      "\u001B[1;31mValueError\u001B[0m                                Traceback (most recent call last)",
      "Cell \u001B[1;32mIn[33], line 4\u001B[0m\n\u001B[0;32m      1\u001B[0m \u001B[38;5;66;03m# Configuración del clasificador XGBoost\u001B[39;00m\n\u001B[0;32m      2\u001B[0m model \u001B[38;5;241m=\u001B[39m xgb\u001B[38;5;241m.\u001B[39mXGBClassifier(objective\u001B[38;5;241m=\u001B[39m\u001B[38;5;124m\"\u001B[39m\u001B[38;5;124mbinary:logistic\u001B[39m\u001B[38;5;124m\"\u001B[39m, random_state\u001B[38;5;241m=\u001B[39m\u001B[38;5;241m42\u001B[39m,enable_categorical\u001B[38;5;241m=\u001B[39m\u001B[38;5;28;01mTrue\u001B[39;00m,eval_metric\u001B[38;5;241m=\u001B[39m\u001B[38;5;124m'\u001B[39m\u001B[38;5;124mlogloss\u001B[39m\u001B[38;5;124m'\u001B[39m,use_label_encoder\u001B[38;5;241m=\u001B[39m\u001B[38;5;28;01mFalse\u001B[39;00m)\n\u001B[1;32m----> 4\u001B[0m \u001B[43mmodel\u001B[49m\u001B[38;5;241;43m.\u001B[39;49m\u001B[43mfit\u001B[49m\u001B[43m(\u001B[49m\u001B[43mpredictors_train\u001B[49m\u001B[43m,\u001B[49m\u001B[43m \u001B[49m\u001B[43mwins_team1_train\u001B[49m\u001B[43m)\u001B[49m\n\u001B[0;32m      6\u001B[0m wins_pred \u001B[38;5;241m=\u001B[39m model\u001B[38;5;241m.\u001B[39mpredict(wins_team1_test)\n",
      "File \u001B[1;32m~\\PycharmProjects\\Proyecto_Final_IA\\venv\\Lib\\site-packages\\xgboost\\core.py:729\u001B[0m, in \u001B[0;36mrequire_keyword_args.<locals>.throw_if.<locals>.inner_f\u001B[1;34m(*args, **kwargs)\u001B[0m\n\u001B[0;32m    727\u001B[0m \u001B[38;5;28;01mfor\u001B[39;00m k, arg \u001B[38;5;129;01min\u001B[39;00m \u001B[38;5;28mzip\u001B[39m(sig\u001B[38;5;241m.\u001B[39mparameters, args):\n\u001B[0;32m    728\u001B[0m     kwargs[k] \u001B[38;5;241m=\u001B[39m arg\n\u001B[1;32m--> 729\u001B[0m \u001B[38;5;28;01mreturn\u001B[39;00m \u001B[43mfunc\u001B[49m\u001B[43m(\u001B[49m\u001B[38;5;241;43m*\u001B[39;49m\u001B[38;5;241;43m*\u001B[39;49m\u001B[43mkwargs\u001B[49m\u001B[43m)\u001B[49m\n",
      "File \u001B[1;32m~\\PycharmProjects\\Proyecto_Final_IA\\venv\\Lib\\site-packages\\xgboost\\sklearn.py:1496\u001B[0m, in \u001B[0;36mXGBClassifier.fit\u001B[1;34m(self, X, y, sample_weight, base_margin, eval_set, eval_metric, early_stopping_rounds, verbose, xgb_model, sample_weight_eval_set, base_margin_eval_set, feature_weights, callbacks)\u001B[0m\n\u001B[0;32m   1485\u001B[0m     params[\u001B[38;5;124m\"\u001B[39m\u001B[38;5;124mnum_class\u001B[39m\u001B[38;5;124m\"\u001B[39m] \u001B[38;5;241m=\u001B[39m \u001B[38;5;28mself\u001B[39m\u001B[38;5;241m.\u001B[39mn_classes_\n\u001B[0;32m   1487\u001B[0m (\n\u001B[0;32m   1488\u001B[0m     model,\n\u001B[0;32m   1489\u001B[0m     metric,\n\u001B[1;32m   (...)\u001B[0m\n\u001B[0;32m   1494\u001B[0m     xgb_model, eval_metric, params, early_stopping_rounds, callbacks\n\u001B[0;32m   1495\u001B[0m )\n\u001B[1;32m-> 1496\u001B[0m train_dmatrix, evals \u001B[38;5;241m=\u001B[39m \u001B[43m_wrap_evaluation_matrices\u001B[49m\u001B[43m(\u001B[49m\n\u001B[0;32m   1497\u001B[0m \u001B[43m    \u001B[49m\u001B[43mmissing\u001B[49m\u001B[38;5;241;43m=\u001B[39;49m\u001B[38;5;28;43mself\u001B[39;49m\u001B[38;5;241;43m.\u001B[39;49m\u001B[43mmissing\u001B[49m\u001B[43m,\u001B[49m\n\u001B[0;32m   1498\u001B[0m \u001B[43m    \u001B[49m\u001B[43mX\u001B[49m\u001B[38;5;241;43m=\u001B[39;49m\u001B[43mX\u001B[49m\u001B[43m,\u001B[49m\n\u001B[0;32m   1499\u001B[0m \u001B[43m    \u001B[49m\u001B[43my\u001B[49m\u001B[38;5;241;43m=\u001B[39;49m\u001B[43my\u001B[49m\u001B[43m,\u001B[49m\n\u001B[0;32m   1500\u001B[0m \u001B[43m    \u001B[49m\u001B[43mgroup\u001B[49m\u001B[38;5;241;43m=\u001B[39;49m\u001B[38;5;28;43;01mNone\u001B[39;49;00m\u001B[43m,\u001B[49m\n\u001B[0;32m   1501\u001B[0m \u001B[43m    \u001B[49m\u001B[43mqid\u001B[49m\u001B[38;5;241;43m=\u001B[39;49m\u001B[38;5;28;43;01mNone\u001B[39;49;00m\u001B[43m,\u001B[49m\n\u001B[0;32m   1502\u001B[0m \u001B[43m    \u001B[49m\u001B[43msample_weight\u001B[49m\u001B[38;5;241;43m=\u001B[39;49m\u001B[43msample_weight\u001B[49m\u001B[43m,\u001B[49m\n\u001B[0;32m   1503\u001B[0m \u001B[43m    \u001B[49m\u001B[43mbase_margin\u001B[49m\u001B[38;5;241;43m=\u001B[39;49m\u001B[43mbase_margin\u001B[49m\u001B[43m,\u001B[49m\n\u001B[0;32m   1504\u001B[0m \u001B[43m    \u001B[49m\u001B[43mfeature_weights\u001B[49m\u001B[38;5;241;43m=\u001B[39;49m\u001B[43mfeature_weights\u001B[49m\u001B[43m,\u001B[49m\n\u001B[0;32m   1505\u001B[0m \u001B[43m    \u001B[49m\u001B[43meval_set\u001B[49m\u001B[38;5;241;43m=\u001B[39;49m\u001B[43meval_set\u001B[49m\u001B[43m,\u001B[49m\n\u001B[0;32m   1506\u001B[0m \u001B[43m    \u001B[49m\u001B[43msample_weight_eval_set\u001B[49m\u001B[38;5;241;43m=\u001B[39;49m\u001B[43msample_weight_eval_set\u001B[49m\u001B[43m,\u001B[49m\n\u001B[0;32m   1507\u001B[0m \u001B[43m    \u001B[49m\u001B[43mbase_margin_eval_set\u001B[49m\u001B[38;5;241;43m=\u001B[39;49m\u001B[43mbase_margin_eval_set\u001B[49m\u001B[43m,\u001B[49m\n\u001B[0;32m   1508\u001B[0m \u001B[43m    \u001B[49m\u001B[43meval_group\u001B[49m\u001B[38;5;241;43m=\u001B[39;49m\u001B[38;5;28;43;01mNone\u001B[39;49;00m\u001B[43m,\u001B[49m\n\u001B[0;32m   1509\u001B[0m \u001B[43m    \u001B[49m\u001B[43meval_qid\u001B[49m\u001B[38;5;241;43m=\u001B[39;49m\u001B[38;5;28;43;01mNone\u001B[39;49;00m\u001B[43m,\u001B[49m\n\u001B[0;32m   1510\u001B[0m \u001B[43m    \u001B[49m\u001B[43mcreate_dmatrix\u001B[49m\u001B[38;5;241;43m=\u001B[39;49m\u001B[38;5;28;43mself\u001B[39;49m\u001B[38;5;241;43m.\u001B[39;49m\u001B[43m_create_dmatrix\u001B[49m\u001B[43m,\u001B[49m\n\u001B[0;32m   1511\u001B[0m \u001B[43m    \u001B[49m\u001B[43menable_categorical\u001B[49m\u001B[38;5;241;43m=\u001B[39;49m\u001B[38;5;28;43mself\u001B[39;49m\u001B[38;5;241;43m.\u001B[39;49m\u001B[43menable_categorical\u001B[49m\u001B[43m,\u001B[49m\n\u001B[0;32m   1512\u001B[0m \u001B[43m    \u001B[49m\u001B[43mfeature_types\u001B[49m\u001B[38;5;241;43m=\u001B[39;49m\u001B[38;5;28;43mself\u001B[39;49m\u001B[38;5;241;43m.\u001B[39;49m\u001B[43mfeature_types\u001B[49m\u001B[43m,\u001B[49m\n\u001B[0;32m   1513\u001B[0m \u001B[43m\u001B[49m\u001B[43m)\u001B[49m\n\u001B[0;32m   1515\u001B[0m \u001B[38;5;28mself\u001B[39m\u001B[38;5;241m.\u001B[39m_Booster \u001B[38;5;241m=\u001B[39m train(\n\u001B[0;32m   1516\u001B[0m     params,\n\u001B[0;32m   1517\u001B[0m     train_dmatrix,\n\u001B[1;32m   (...)\u001B[0m\n\u001B[0;32m   1526\u001B[0m     callbacks\u001B[38;5;241m=\u001B[39mcallbacks,\n\u001B[0;32m   1527\u001B[0m )\n\u001B[0;32m   1529\u001B[0m \u001B[38;5;28;01mif\u001B[39;00m \u001B[38;5;129;01mnot\u001B[39;00m \u001B[38;5;28mcallable\u001B[39m(\u001B[38;5;28mself\u001B[39m\u001B[38;5;241m.\u001B[39mobjective):\n",
      "File \u001B[1;32m~\\PycharmProjects\\Proyecto_Final_IA\\venv\\Lib\\site-packages\\xgboost\\sklearn.py:534\u001B[0m, in \u001B[0;36m_wrap_evaluation_matrices\u001B[1;34m(missing, X, y, group, qid, sample_weight, base_margin, feature_weights, eval_set, sample_weight_eval_set, base_margin_eval_set, eval_group, eval_qid, create_dmatrix, enable_categorical, feature_types)\u001B[0m\n\u001B[0;32m    514\u001B[0m \u001B[38;5;28;01mdef\u001B[39;00m \u001B[38;5;21m_wrap_evaluation_matrices\u001B[39m(\n\u001B[0;32m    515\u001B[0m     missing: \u001B[38;5;28mfloat\u001B[39m,\n\u001B[0;32m    516\u001B[0m     X: Any,\n\u001B[1;32m   (...)\u001B[0m\n\u001B[0;32m    530\u001B[0m     feature_types: Optional[FeatureTypes],\n\u001B[0;32m    531\u001B[0m ) \u001B[38;5;241m-\u001B[39m\u001B[38;5;241m>\u001B[39m Tuple[Any, List[Tuple[Any, \u001B[38;5;28mstr\u001B[39m]]]:\n\u001B[0;32m    532\u001B[0m \u001B[38;5;250m    \u001B[39m\u001B[38;5;124;03m\"\"\"Convert array_like evaluation matrices into DMatrix.  Perform validation on the\u001B[39;00m\n\u001B[0;32m    533\u001B[0m \u001B[38;5;124;03m    way.\"\"\"\u001B[39;00m\n\u001B[1;32m--> 534\u001B[0m     train_dmatrix \u001B[38;5;241m=\u001B[39m \u001B[43mcreate_dmatrix\u001B[49m\u001B[43m(\u001B[49m\n\u001B[0;32m    535\u001B[0m \u001B[43m        \u001B[49m\u001B[43mdata\u001B[49m\u001B[38;5;241;43m=\u001B[39;49m\u001B[43mX\u001B[49m\u001B[43m,\u001B[49m\n\u001B[0;32m    536\u001B[0m \u001B[43m        \u001B[49m\u001B[43mlabel\u001B[49m\u001B[38;5;241;43m=\u001B[39;49m\u001B[43my\u001B[49m\u001B[43m,\u001B[49m\n\u001B[0;32m    537\u001B[0m \u001B[43m        \u001B[49m\u001B[43mgroup\u001B[49m\u001B[38;5;241;43m=\u001B[39;49m\u001B[43mgroup\u001B[49m\u001B[43m,\u001B[49m\n\u001B[0;32m    538\u001B[0m \u001B[43m        \u001B[49m\u001B[43mqid\u001B[49m\u001B[38;5;241;43m=\u001B[39;49m\u001B[43mqid\u001B[49m\u001B[43m,\u001B[49m\n\u001B[0;32m    539\u001B[0m \u001B[43m        \u001B[49m\u001B[43mweight\u001B[49m\u001B[38;5;241;43m=\u001B[39;49m\u001B[43msample_weight\u001B[49m\u001B[43m,\u001B[49m\n\u001B[0;32m    540\u001B[0m \u001B[43m        \u001B[49m\u001B[43mbase_margin\u001B[49m\u001B[38;5;241;43m=\u001B[39;49m\u001B[43mbase_margin\u001B[49m\u001B[43m,\u001B[49m\n\u001B[0;32m    541\u001B[0m \u001B[43m        \u001B[49m\u001B[43mfeature_weights\u001B[49m\u001B[38;5;241;43m=\u001B[39;49m\u001B[43mfeature_weights\u001B[49m\u001B[43m,\u001B[49m\n\u001B[0;32m    542\u001B[0m \u001B[43m        \u001B[49m\u001B[43mmissing\u001B[49m\u001B[38;5;241;43m=\u001B[39;49m\u001B[43mmissing\u001B[49m\u001B[43m,\u001B[49m\n\u001B[0;32m    543\u001B[0m \u001B[43m        \u001B[49m\u001B[43menable_categorical\u001B[49m\u001B[38;5;241;43m=\u001B[39;49m\u001B[43menable_categorical\u001B[49m\u001B[43m,\u001B[49m\n\u001B[0;32m    544\u001B[0m \u001B[43m        \u001B[49m\u001B[43mfeature_types\u001B[49m\u001B[38;5;241;43m=\u001B[39;49m\u001B[43mfeature_types\u001B[49m\u001B[43m,\u001B[49m\n\u001B[0;32m    545\u001B[0m \u001B[43m        \u001B[49m\u001B[43mref\u001B[49m\u001B[38;5;241;43m=\u001B[39;49m\u001B[38;5;28;43;01mNone\u001B[39;49;00m\u001B[43m,\u001B[49m\n\u001B[0;32m    546\u001B[0m \u001B[43m    \u001B[49m\u001B[43m)\u001B[49m\n\u001B[0;32m    548\u001B[0m     n_validation \u001B[38;5;241m=\u001B[39m \u001B[38;5;241m0\u001B[39m \u001B[38;5;28;01mif\u001B[39;00m eval_set \u001B[38;5;129;01mis\u001B[39;00m \u001B[38;5;28;01mNone\u001B[39;00m \u001B[38;5;28;01melse\u001B[39;00m \u001B[38;5;28mlen\u001B[39m(eval_set)\n\u001B[0;32m    550\u001B[0m     \u001B[38;5;28;01mdef\u001B[39;00m \u001B[38;5;21mvalidate_or_none\u001B[39m(meta: Optional[Sequence], name: \u001B[38;5;28mstr\u001B[39m) \u001B[38;5;241m-\u001B[39m\u001B[38;5;241m>\u001B[39m Sequence:\n",
      "File \u001B[1;32m~\\PycharmProjects\\Proyecto_Final_IA\\venv\\Lib\\site-packages\\xgboost\\sklearn.py:954\u001B[0m, in \u001B[0;36mXGBModel._create_dmatrix\u001B[1;34m(self, ref, **kwargs)\u001B[0m\n\u001B[0;32m    952\u001B[0m \u001B[38;5;28;01mif\u001B[39;00m _can_use_qdm(\u001B[38;5;28mself\u001B[39m\u001B[38;5;241m.\u001B[39mtree_method) \u001B[38;5;129;01mand\u001B[39;00m \u001B[38;5;28mself\u001B[39m\u001B[38;5;241m.\u001B[39mbooster \u001B[38;5;241m!=\u001B[39m \u001B[38;5;124m\"\u001B[39m\u001B[38;5;124mgblinear\u001B[39m\u001B[38;5;124m\"\u001B[39m:\n\u001B[0;32m    953\u001B[0m     \u001B[38;5;28;01mtry\u001B[39;00m:\n\u001B[1;32m--> 954\u001B[0m         \u001B[38;5;28;01mreturn\u001B[39;00m \u001B[43mQuantileDMatrix\u001B[49m\u001B[43m(\u001B[49m\n\u001B[0;32m    955\u001B[0m \u001B[43m            \u001B[49m\u001B[38;5;241;43m*\u001B[39;49m\u001B[38;5;241;43m*\u001B[39;49m\u001B[43mkwargs\u001B[49m\u001B[43m,\u001B[49m\u001B[43m \u001B[49m\u001B[43mref\u001B[49m\u001B[38;5;241;43m=\u001B[39;49m\u001B[43mref\u001B[49m\u001B[43m,\u001B[49m\u001B[43m \u001B[49m\u001B[43mnthread\u001B[49m\u001B[38;5;241;43m=\u001B[39;49m\u001B[38;5;28;43mself\u001B[39;49m\u001B[38;5;241;43m.\u001B[39;49m\u001B[43mn_jobs\u001B[49m\u001B[43m,\u001B[49m\u001B[43m \u001B[49m\u001B[43mmax_bin\u001B[49m\u001B[38;5;241;43m=\u001B[39;49m\u001B[38;5;28;43mself\u001B[39;49m\u001B[38;5;241;43m.\u001B[39;49m\u001B[43mmax_bin\u001B[49m\n\u001B[0;32m    956\u001B[0m \u001B[43m        \u001B[49m\u001B[43m)\u001B[49m\n\u001B[0;32m    957\u001B[0m     \u001B[38;5;28;01mexcept\u001B[39;00m \u001B[38;5;167;01mTypeError\u001B[39;00m:  \u001B[38;5;66;03m# `QuantileDMatrix` supports lesser types than DMatrix\u001B[39;00m\n\u001B[0;32m    958\u001B[0m         \u001B[38;5;28;01mpass\u001B[39;00m\n",
      "File \u001B[1;32m~\\PycharmProjects\\Proyecto_Final_IA\\venv\\Lib\\site-packages\\xgboost\\core.py:729\u001B[0m, in \u001B[0;36mrequire_keyword_args.<locals>.throw_if.<locals>.inner_f\u001B[1;34m(*args, **kwargs)\u001B[0m\n\u001B[0;32m    727\u001B[0m \u001B[38;5;28;01mfor\u001B[39;00m k, arg \u001B[38;5;129;01min\u001B[39;00m \u001B[38;5;28mzip\u001B[39m(sig\u001B[38;5;241m.\u001B[39mparameters, args):\n\u001B[0;32m    728\u001B[0m     kwargs[k] \u001B[38;5;241m=\u001B[39m arg\n\u001B[1;32m--> 729\u001B[0m \u001B[38;5;28;01mreturn\u001B[39;00m \u001B[43mfunc\u001B[49m\u001B[43m(\u001B[49m\u001B[38;5;241;43m*\u001B[39;49m\u001B[38;5;241;43m*\u001B[39;49m\u001B[43mkwargs\u001B[49m\u001B[43m)\u001B[49m\n",
      "File \u001B[1;32m~\\PycharmProjects\\Proyecto_Final_IA\\venv\\Lib\\site-packages\\xgboost\\core.py:1528\u001B[0m, in \u001B[0;36mQuantileDMatrix.__init__\u001B[1;34m(self, data, label, weight, base_margin, missing, silent, feature_names, feature_types, nthread, max_bin, ref, group, qid, label_lower_bound, label_upper_bound, feature_weights, enable_categorical, data_split_mode)\u001B[0m\n\u001B[0;32m   1508\u001B[0m     \u001B[38;5;28;01mif\u001B[39;00m \u001B[38;5;28many\u001B[39m(\n\u001B[0;32m   1509\u001B[0m         info \u001B[38;5;129;01mis\u001B[39;00m \u001B[38;5;129;01mnot\u001B[39;00m \u001B[38;5;28;01mNone\u001B[39;00m\n\u001B[0;32m   1510\u001B[0m         \u001B[38;5;28;01mfor\u001B[39;00m info \u001B[38;5;129;01min\u001B[39;00m (\n\u001B[1;32m   (...)\u001B[0m\n\u001B[0;32m   1521\u001B[0m         )\n\u001B[0;32m   1522\u001B[0m     ):\n\u001B[0;32m   1523\u001B[0m         \u001B[38;5;28;01mraise\u001B[39;00m \u001B[38;5;167;01mValueError\u001B[39;00m(\n\u001B[0;32m   1524\u001B[0m             \u001B[38;5;124m\"\u001B[39m\u001B[38;5;124mIf data iterator is used as input, data like label should be \u001B[39m\u001B[38;5;124m\"\u001B[39m\n\u001B[0;32m   1525\u001B[0m             \u001B[38;5;124m\"\u001B[39m\u001B[38;5;124mspecified as batch argument.\u001B[39m\u001B[38;5;124m\"\u001B[39m\n\u001B[0;32m   1526\u001B[0m         )\n\u001B[1;32m-> 1528\u001B[0m \u001B[38;5;28;43mself\u001B[39;49m\u001B[38;5;241;43m.\u001B[39;49m\u001B[43m_init\u001B[49m\u001B[43m(\u001B[49m\n\u001B[0;32m   1529\u001B[0m \u001B[43m    \u001B[49m\u001B[43mdata\u001B[49m\u001B[43m,\u001B[49m\n\u001B[0;32m   1530\u001B[0m \u001B[43m    \u001B[49m\u001B[43mref\u001B[49m\u001B[38;5;241;43m=\u001B[39;49m\u001B[43mref\u001B[49m\u001B[43m,\u001B[49m\n\u001B[0;32m   1531\u001B[0m \u001B[43m    \u001B[49m\u001B[43mlabel\u001B[49m\u001B[38;5;241;43m=\u001B[39;49m\u001B[43mlabel\u001B[49m\u001B[43m,\u001B[49m\n\u001B[0;32m   1532\u001B[0m \u001B[43m    \u001B[49m\u001B[43mweight\u001B[49m\u001B[38;5;241;43m=\u001B[39;49m\u001B[43mweight\u001B[49m\u001B[43m,\u001B[49m\n\u001B[0;32m   1533\u001B[0m \u001B[43m    \u001B[49m\u001B[43mbase_margin\u001B[49m\u001B[38;5;241;43m=\u001B[39;49m\u001B[43mbase_margin\u001B[49m\u001B[43m,\u001B[49m\n\u001B[0;32m   1534\u001B[0m \u001B[43m    \u001B[49m\u001B[43mgroup\u001B[49m\u001B[38;5;241;43m=\u001B[39;49m\u001B[43mgroup\u001B[49m\u001B[43m,\u001B[49m\n\u001B[0;32m   1535\u001B[0m \u001B[43m    \u001B[49m\u001B[43mqid\u001B[49m\u001B[38;5;241;43m=\u001B[39;49m\u001B[43mqid\u001B[49m\u001B[43m,\u001B[49m\n\u001B[0;32m   1536\u001B[0m \u001B[43m    \u001B[49m\u001B[43mlabel_lower_bound\u001B[49m\u001B[38;5;241;43m=\u001B[39;49m\u001B[43mlabel_lower_bound\u001B[49m\u001B[43m,\u001B[49m\n\u001B[0;32m   1537\u001B[0m \u001B[43m    \u001B[49m\u001B[43mlabel_upper_bound\u001B[49m\u001B[38;5;241;43m=\u001B[39;49m\u001B[43mlabel_upper_bound\u001B[49m\u001B[43m,\u001B[49m\n\u001B[0;32m   1538\u001B[0m \u001B[43m    \u001B[49m\u001B[43mfeature_weights\u001B[49m\u001B[38;5;241;43m=\u001B[39;49m\u001B[43mfeature_weights\u001B[49m\u001B[43m,\u001B[49m\n\u001B[0;32m   1539\u001B[0m \u001B[43m    \u001B[49m\u001B[43mfeature_names\u001B[49m\u001B[38;5;241;43m=\u001B[39;49m\u001B[43mfeature_names\u001B[49m\u001B[43m,\u001B[49m\n\u001B[0;32m   1540\u001B[0m \u001B[43m    \u001B[49m\u001B[43mfeature_types\u001B[49m\u001B[38;5;241;43m=\u001B[39;49m\u001B[43mfeature_types\u001B[49m\u001B[43m,\u001B[49m\n\u001B[0;32m   1541\u001B[0m \u001B[43m    \u001B[49m\u001B[43menable_categorical\u001B[49m\u001B[38;5;241;43m=\u001B[39;49m\u001B[43menable_categorical\u001B[49m\u001B[43m,\u001B[49m\n\u001B[0;32m   1542\u001B[0m \u001B[43m\u001B[49m\u001B[43m)\u001B[49m\n",
      "File \u001B[1;32m~\\PycharmProjects\\Proyecto_Final_IA\\venv\\Lib\\site-packages\\xgboost\\core.py:1587\u001B[0m, in \u001B[0;36mQuantileDMatrix._init\u001B[1;34m(self, data, ref, enable_categorical, **meta)\u001B[0m\n\u001B[0;32m   1575\u001B[0m config \u001B[38;5;241m=\u001B[39m make_jcargs(\n\u001B[0;32m   1576\u001B[0m     nthread\u001B[38;5;241m=\u001B[39m\u001B[38;5;28mself\u001B[39m\u001B[38;5;241m.\u001B[39mnthread, missing\u001B[38;5;241m=\u001B[39m\u001B[38;5;28mself\u001B[39m\u001B[38;5;241m.\u001B[39mmissing, max_bin\u001B[38;5;241m=\u001B[39m\u001B[38;5;28mself\u001B[39m\u001B[38;5;241m.\u001B[39mmax_bin\n\u001B[0;32m   1577\u001B[0m )\n\u001B[0;32m   1578\u001B[0m ret \u001B[38;5;241m=\u001B[39m _LIB\u001B[38;5;241m.\u001B[39mXGQuantileDMatrixCreateFromCallback(\n\u001B[0;32m   1579\u001B[0m     \u001B[38;5;28;01mNone\u001B[39;00m,\n\u001B[0;32m   1580\u001B[0m     it\u001B[38;5;241m.\u001B[39mproxy\u001B[38;5;241m.\u001B[39mhandle,\n\u001B[1;32m   (...)\u001B[0m\n\u001B[0;32m   1585\u001B[0m     ctypes\u001B[38;5;241m.\u001B[39mbyref(handle),\n\u001B[0;32m   1586\u001B[0m )\n\u001B[1;32m-> 1587\u001B[0m \u001B[43mit\u001B[49m\u001B[38;5;241;43m.\u001B[39;49m\u001B[43mreraise\u001B[49m\u001B[43m(\u001B[49m\u001B[43m)\u001B[49m\n\u001B[0;32m   1588\u001B[0m \u001B[38;5;66;03m# delay check_call to throw intermediate exception first\u001B[39;00m\n\u001B[0;32m   1589\u001B[0m _check_call(ret)\n",
      "File \u001B[1;32m~\\PycharmProjects\\Proyecto_Final_IA\\venv\\Lib\\site-packages\\xgboost\\core.py:575\u001B[0m, in \u001B[0;36mDataIter.reraise\u001B[1;34m(self)\u001B[0m\n\u001B[0;32m    573\u001B[0m exc \u001B[38;5;241m=\u001B[39m \u001B[38;5;28mself\u001B[39m\u001B[38;5;241m.\u001B[39m_exception\n\u001B[0;32m    574\u001B[0m \u001B[38;5;28mself\u001B[39m\u001B[38;5;241m.\u001B[39m_exception \u001B[38;5;241m=\u001B[39m \u001B[38;5;28;01mNone\u001B[39;00m\n\u001B[1;32m--> 575\u001B[0m \u001B[38;5;28;01mraise\u001B[39;00m exc\n",
      "File \u001B[1;32m~\\PycharmProjects\\Proyecto_Final_IA\\venv\\Lib\\site-packages\\xgboost\\core.py:556\u001B[0m, in \u001B[0;36mDataIter._handle_exception\u001B[1;34m(self, fn, dft_ret)\u001B[0m\n\u001B[0;32m    553\u001B[0m     \u001B[38;5;28;01mreturn\u001B[39;00m dft_ret\n\u001B[0;32m    555\u001B[0m \u001B[38;5;28;01mtry\u001B[39;00m:\n\u001B[1;32m--> 556\u001B[0m     \u001B[38;5;28;01mreturn\u001B[39;00m \u001B[43mfn\u001B[49m\u001B[43m(\u001B[49m\u001B[43m)\u001B[49m\n\u001B[0;32m    557\u001B[0m \u001B[38;5;28;01mexcept\u001B[39;00m \u001B[38;5;167;01mException\u001B[39;00m \u001B[38;5;28;01mas\u001B[39;00m e:  \u001B[38;5;66;03m# pylint: disable=broad-except\u001B[39;00m\n\u001B[0;32m    558\u001B[0m     \u001B[38;5;66;03m# Defer the exception in order to return 0 and stop the iteration.\u001B[39;00m\n\u001B[0;32m    559\u001B[0m     \u001B[38;5;66;03m# Exception inside a ctype callback function has no effect except\u001B[39;00m\n\u001B[0;32m    560\u001B[0m     \u001B[38;5;66;03m# for printing to stderr (doesn't stop the execution).\u001B[39;00m\n\u001B[0;32m    561\u001B[0m     tb \u001B[38;5;241m=\u001B[39m sys\u001B[38;5;241m.\u001B[39mexc_info()[\u001B[38;5;241m2\u001B[39m]\n",
      "File \u001B[1;32m~\\PycharmProjects\\Proyecto_Final_IA\\venv\\Lib\\site-packages\\xgboost\\core.py:640\u001B[0m, in \u001B[0;36mDataIter._next_wrapper.<locals>.<lambda>\u001B[1;34m()\u001B[0m\n\u001B[0;32m    637\u001B[0m     \u001B[38;5;28mself\u001B[39m\u001B[38;5;241m.\u001B[39m_data_ref \u001B[38;5;241m=\u001B[39m ref\n\u001B[0;32m    639\u001B[0m \u001B[38;5;66;03m# pylint: disable=not-callable\u001B[39;00m\n\u001B[1;32m--> 640\u001B[0m \u001B[38;5;28;01mreturn\u001B[39;00m \u001B[38;5;28mself\u001B[39m\u001B[38;5;241m.\u001B[39m_handle_exception(\u001B[38;5;28;01mlambda\u001B[39;00m: \u001B[38;5;28;43mself\u001B[39;49m\u001B[38;5;241;43m.\u001B[39;49m\u001B[43mnext\u001B[49m\u001B[43m(\u001B[49m\u001B[43minput_data\u001B[49m\u001B[43m)\u001B[49m, \u001B[38;5;241m0\u001B[39m)\n",
      "File \u001B[1;32m~\\PycharmProjects\\Proyecto_Final_IA\\venv\\Lib\\site-packages\\xgboost\\data.py:1280\u001B[0m, in \u001B[0;36mSingleBatchInternalIter.next\u001B[1;34m(self, input_data)\u001B[0m\n\u001B[0;32m   1278\u001B[0m     \u001B[38;5;28;01mreturn\u001B[39;00m \u001B[38;5;241m0\u001B[39m\n\u001B[0;32m   1279\u001B[0m \u001B[38;5;28mself\u001B[39m\u001B[38;5;241m.\u001B[39mit \u001B[38;5;241m+\u001B[39m\u001B[38;5;241m=\u001B[39m \u001B[38;5;241m1\u001B[39m\n\u001B[1;32m-> 1280\u001B[0m \u001B[43minput_data\u001B[49m\u001B[43m(\u001B[49m\u001B[38;5;241;43m*\u001B[39;49m\u001B[38;5;241;43m*\u001B[39;49m\u001B[38;5;28;43mself\u001B[39;49m\u001B[38;5;241;43m.\u001B[39;49m\u001B[43mkwargs\u001B[49m\u001B[43m)\u001B[49m\n\u001B[0;32m   1281\u001B[0m \u001B[38;5;28;01mreturn\u001B[39;00m \u001B[38;5;241m1\u001B[39m\n",
      "File \u001B[1;32m~\\PycharmProjects\\Proyecto_Final_IA\\venv\\Lib\\site-packages\\xgboost\\core.py:729\u001B[0m, in \u001B[0;36mrequire_keyword_args.<locals>.throw_if.<locals>.inner_f\u001B[1;34m(*args, **kwargs)\u001B[0m\n\u001B[0;32m    727\u001B[0m \u001B[38;5;28;01mfor\u001B[39;00m k, arg \u001B[38;5;129;01min\u001B[39;00m \u001B[38;5;28mzip\u001B[39m(sig\u001B[38;5;241m.\u001B[39mparameters, args):\n\u001B[0;32m    728\u001B[0m     kwargs[k] \u001B[38;5;241m=\u001B[39m arg\n\u001B[1;32m--> 729\u001B[0m \u001B[38;5;28;01mreturn\u001B[39;00m \u001B[43mfunc\u001B[49m\u001B[43m(\u001B[49m\u001B[38;5;241;43m*\u001B[39;49m\u001B[38;5;241;43m*\u001B[39;49m\u001B[43mkwargs\u001B[49m\u001B[43m)\u001B[49m\n",
      "File \u001B[1;32m~\\PycharmProjects\\Proyecto_Final_IA\\venv\\Lib\\site-packages\\xgboost\\core.py:623\u001B[0m, in \u001B[0;36mDataIter._next_wrapper.<locals>.input_data\u001B[1;34m(data, feature_names, feature_types, **kwargs)\u001B[0m\n\u001B[0;32m    621\u001B[0m     new, cat_codes, feature_names, feature_types \u001B[38;5;241m=\u001B[39m \u001B[38;5;28mself\u001B[39m\u001B[38;5;241m.\u001B[39m_temporary_data\n\u001B[0;32m    622\u001B[0m \u001B[38;5;28;01melse\u001B[39;00m:\n\u001B[1;32m--> 623\u001B[0m     new, cat_codes, feature_names, feature_types \u001B[38;5;241m=\u001B[39m \u001B[43m_proxy_transform\u001B[49m\u001B[43m(\u001B[49m\n\u001B[0;32m    624\u001B[0m \u001B[43m        \u001B[49m\u001B[43mdata\u001B[49m\u001B[43m,\u001B[49m\n\u001B[0;32m    625\u001B[0m \u001B[43m        \u001B[49m\u001B[43mfeature_names\u001B[49m\u001B[43m,\u001B[49m\n\u001B[0;32m    626\u001B[0m \u001B[43m        \u001B[49m\u001B[43mfeature_types\u001B[49m\u001B[43m,\u001B[49m\n\u001B[0;32m    627\u001B[0m \u001B[43m        \u001B[49m\u001B[38;5;28;43mself\u001B[39;49m\u001B[38;5;241;43m.\u001B[39;49m\u001B[43m_enable_categorical\u001B[49m\u001B[43m,\u001B[49m\n\u001B[0;32m    628\u001B[0m \u001B[43m    \u001B[49m\u001B[43m)\u001B[49m\n\u001B[0;32m    629\u001B[0m \u001B[38;5;66;03m# Stage the data, meta info are copied inside C++ MetaInfo.\u001B[39;00m\n\u001B[0;32m    630\u001B[0m \u001B[38;5;28mself\u001B[39m\u001B[38;5;241m.\u001B[39m_temporary_data \u001B[38;5;241m=\u001B[39m (new, cat_codes, feature_names, feature_types)\n",
      "File \u001B[1;32m~\\PycharmProjects\\Proyecto_Final_IA\\venv\\Lib\\site-packages\\xgboost\\data.py:1315\u001B[0m, in \u001B[0;36m_proxy_transform\u001B[1;34m(data, feature_names, feature_types, enable_categorical)\u001B[0m\n\u001B[0;32m   1313\u001B[0m     data \u001B[38;5;241m=\u001B[39m pd\u001B[38;5;241m.\u001B[39mDataFrame(data)\n\u001B[0;32m   1314\u001B[0m \u001B[38;5;28;01mif\u001B[39;00m _is_pandas_df(data):\n\u001B[1;32m-> 1315\u001B[0m     arr, feature_names, feature_types \u001B[38;5;241m=\u001B[39m \u001B[43m_transform_pandas_df\u001B[49m\u001B[43m(\u001B[49m\n\u001B[0;32m   1316\u001B[0m \u001B[43m        \u001B[49m\u001B[43mdata\u001B[49m\u001B[43m,\u001B[49m\u001B[43m \u001B[49m\u001B[43menable_categorical\u001B[49m\u001B[43m,\u001B[49m\u001B[43m \u001B[49m\u001B[43mfeature_names\u001B[49m\u001B[43m,\u001B[49m\u001B[43m \u001B[49m\u001B[43mfeature_types\u001B[49m\n\u001B[0;32m   1317\u001B[0m \u001B[43m    \u001B[49m\u001B[43m)\u001B[49m\n\u001B[0;32m   1318\u001B[0m     arr, _ \u001B[38;5;241m=\u001B[39m _ensure_np_dtype(arr, arr\u001B[38;5;241m.\u001B[39mdtype)\n\u001B[0;32m   1319\u001B[0m     \u001B[38;5;28;01mreturn\u001B[39;00m arr, \u001B[38;5;28;01mNone\u001B[39;00m, feature_names, feature_types\n",
      "File \u001B[1;32m~\\PycharmProjects\\Proyecto_Final_IA\\venv\\Lib\\site-packages\\xgboost\\data.py:490\u001B[0m, in \u001B[0;36m_transform_pandas_df\u001B[1;34m(data, enable_categorical, feature_names, feature_types, meta, meta_type)\u001B[0m\n\u001B[0;32m    483\u001B[0m \u001B[38;5;28;01mfor\u001B[39;00m dtype \u001B[38;5;129;01min\u001B[39;00m data\u001B[38;5;241m.\u001B[39mdtypes:\n\u001B[0;32m    484\u001B[0m     \u001B[38;5;28;01mif\u001B[39;00m \u001B[38;5;129;01mnot\u001B[39;00m (\n\u001B[0;32m    485\u001B[0m         (dtype\u001B[38;5;241m.\u001B[39mname \u001B[38;5;129;01min\u001B[39;00m _pandas_dtype_mapper)\n\u001B[0;32m    486\u001B[0m         \u001B[38;5;129;01mor\u001B[39;00m is_pd_sparse_dtype(dtype)\n\u001B[0;32m    487\u001B[0m         \u001B[38;5;129;01mor\u001B[39;00m (is_pd_cat_dtype(dtype) \u001B[38;5;129;01mand\u001B[39;00m enable_categorical)\n\u001B[0;32m    488\u001B[0m         \u001B[38;5;129;01mor\u001B[39;00m is_pa_ext_dtype(dtype)\n\u001B[0;32m    489\u001B[0m     ):\n\u001B[1;32m--> 490\u001B[0m         \u001B[43m_invalid_dataframe_dtype\u001B[49m\u001B[43m(\u001B[49m\u001B[43mdata\u001B[49m\u001B[43m)\u001B[49m\n\u001B[0;32m    491\u001B[0m     \u001B[38;5;28;01mif\u001B[39;00m is_pa_ext_dtype(dtype):\n\u001B[0;32m    492\u001B[0m         pyarrow_extension \u001B[38;5;241m=\u001B[39m \u001B[38;5;28;01mTrue\u001B[39;00m\n",
      "File \u001B[1;32m~\\PycharmProjects\\Proyecto_Final_IA\\venv\\Lib\\site-packages\\xgboost\\data.py:308\u001B[0m, in \u001B[0;36m_invalid_dataframe_dtype\u001B[1;34m(data)\u001B[0m\n\u001B[0;32m    306\u001B[0m type_err \u001B[38;5;241m=\u001B[39m \u001B[38;5;124m\"\u001B[39m\u001B[38;5;124mDataFrame.dtypes for data must be int, float, bool or category.\u001B[39m\u001B[38;5;124m\"\u001B[39m\n\u001B[0;32m    307\u001B[0m msg \u001B[38;5;241m=\u001B[39m \u001B[38;5;124mf\u001B[39m\u001B[38;5;124m\"\"\"\u001B[39m\u001B[38;5;132;01m{\u001B[39;00mtype_err\u001B[38;5;132;01m}\u001B[39;00m\u001B[38;5;124m \u001B[39m\u001B[38;5;132;01m{\u001B[39;00m_ENABLE_CAT_ERR\u001B[38;5;132;01m}\u001B[39;00m\u001B[38;5;124m \u001B[39m\u001B[38;5;132;01m{\u001B[39;00merr\u001B[38;5;132;01m}\u001B[39;00m\u001B[38;5;124m\"\"\"\u001B[39m\n\u001B[1;32m--> 308\u001B[0m \u001B[38;5;28;01mraise\u001B[39;00m \u001B[38;5;167;01mValueError\u001B[39;00m(msg)\n",
      "\u001B[1;31mValueError\u001B[0m: DataFrame.dtypes for data must be int, float, bool or category. When categorical type is supplied, The experimental DMatrix parameter`enable_categorical` must be set to `True`.  Invalid columns:firstBloodTeam1: object, firstTowerTeam1: object, firstBaronTeam1: object, firstDragonTeam1: object, firstRiftHeraldTeam1: object, ban1Team1: object, ban2Team1: object, ban3Team1: object, ban4Team1: object, ban5Team1: object, champ1Team1: object, champ2Team1: object, champ3Team1: object, champ4Team1: object, champ5Team1: object, firstBloodTeam2: object, firstTowerTeam2: object, firstBaronTeam2: object, firstDragonTeam2: object, firstRiftHeraldTeam2: object, ban1Team2: object, ban2Team2: object, ban3Team2: object, ban4Team2: object, ban5Team2: object, champ1Team2: object, champ2Team2: object, champ3Team2: object, champ4Team2: object, champ5Team2: object"
     ]
    }
   ],
   "source": [
    "# Configuración del clasificador XGBoost\n",
    "model = xgb.XGBClassifier(objective=\"binary:logistic\", random_state=42,enable_categorical=True,eval_metric='logloss',use_label_encoder=False)\n",
    "\n",
    "model.fit(predictors_train, wins_team1_train)\n",
    "\n",
    "wins_pred = model.predict(wins_team1_test)"
   ],
   "metadata": {
    "collapsed": false,
    "ExecuteTime": {
     "end_time": "2023-12-02T15:22:31.908251900Z",
     "start_time": "2023-12-02T15:22:31.693645900Z"
    }
   },
   "id": "c20f04227524fdc2"
  },
  {
   "cell_type": "code",
   "execution_count": null,
   "outputs": [],
   "source": [
    "# Evaluación del rendimiento\n",
    "accuracy = accuracy_score(wins_team1_test, wins_pred)\n",
    "print(f'Accuracy: {accuracy}')"
   ],
   "metadata": {
    "collapsed": false
   },
   "id": "7d9d81dc05637ea8"
  }
 ],
 "metadata": {
  "kernelspec": {
   "display_name": "Python 3",
   "language": "python",
   "name": "python3"
  },
  "language_info": {
   "codemirror_mode": {
    "name": "ipython",
    "version": 2
   },
   "file_extension": ".py",
   "mimetype": "text/x-python",
   "name": "python",
   "nbconvert_exporter": "python",
   "pygments_lexer": "ipython2",
   "version": "2.7.6"
  }
 },
 "nbformat": 4,
 "nbformat_minor": 5
}
