{
 "cells": [
  {
   "cell_type": "code",
   "execution_count": 22,
   "id": "initial_id",
   "metadata": {
    "collapsed": true,
    "ExecuteTime": {
     "end_time": "2023-11-23T21:22:50.855187900Z",
     "start_time": "2023-11-23T21:22:50.846137700Z"
    }
   },
   "outputs": [],
   "source": [
    "import numpy as np\n",
    "import pandas as pd\n",
    "import pickle\n",
    "import matplotlib.pyplot as plt\n",
    "import json\n",
    "import re \n",
    "import time"
   ]
  },
  {
   "cell_type": "code",
   "execution_count": 2,
   "outputs": [],
   "source": [
    "# Carga de datos\n",
    "match_df = pd.read_pickle('C:\\\\Users\\\\Facu\\\\PycharmProjects\\\\Proyecto_Final_IA\\\\proyecto_final\\\\data\\\\match_data_version2.pickle')\n",
    "winner_df =  pd.read_pickle('C:\\\\Users\\\\Facu\\\\PycharmProjects\\\\Proyecto_Final_IA\\\\proyecto_final\\\\data\\\\match_loser_data_version1.pickle')\n",
    "loser_df = pd.read_pickle('C:\\\\Users\\\\Facu\\\\PycharmProjects\\\\Proyecto_Final_IA\\\\proyecto_final\\\\data\\\\match_winner_data_version1.pickle')"
   ],
   "metadata": {
    "collapsed": false,
    "ExecuteTime": {
     "end_time": "2023-11-23T19:15:05.669318100Z",
     "start_time": "2023-11-23T19:07:54.193066600Z"
    }
   },
   "id": "a594fb5f2bd2ef03"
  },
  {
   "cell_type": "code",
   "execution_count": 15,
   "outputs": [
    {
     "name": "stdout",
     "output_type": "stream",
     "text": [
      "<class 'pandas.core.frame.DataFrame'>\n",
      "Index: 145796 entries, 0 to 0\n",
      "Data columns (total 15 columns):\n",
      " #   Column                 Non-Null Count   Dtype  \n",
      "---  ------                 --------------   -----  \n",
      " 0   gameCreation           145796 non-null  float64\n",
      " 1   gameDuration           145796 non-null  float64\n",
      " 2   gameId                 145796 non-null  int64  \n",
      " 3   gameMode               145796 non-null  object \n",
      " 4   gameType               145796 non-null  object \n",
      " 5   gameVersion            145796 non-null  object \n",
      " 6   mapId                  145796 non-null  float64\n",
      " 7   participantIdentities  145796 non-null  object \n",
      " 8   participants           145796 non-null  object \n",
      " 9   platformId             145796 non-null  object \n",
      " 10  queueId                145796 non-null  float64\n",
      " 11  seasonId               145796 non-null  float64\n",
      " 12  status.message         0 non-null       object \n",
      " 13  status.status_code     0 non-null       float64\n",
      " 14  teams                  145796 non-null  object \n",
      "dtypes: float64(6), int64(1), object(8)\n",
      "memory usage: 21.8+ MB\n",
      "<class 'pandas.core.frame.DataFrame'>\n",
      "RangeIndex: 108829 entries, 0 to 108828\n",
      "Data columns (total 17 columns):\n",
      " #   Column                Non-Null Count   Dtype  \n",
      "---  ------                --------------   -----  \n",
      " 0   teamId                108829 non-null  int64  \n",
      " 1   win                   108817 non-null  object \n",
      " 2   firstBlood            108829 non-null  bool   \n",
      " 3   firstTower            108829 non-null  bool   \n",
      " 4   firstInhibitor        108829 non-null  bool   \n",
      " 5   firstBaron            108829 non-null  bool   \n",
      " 6   firstDragon           108829 non-null  bool   \n",
      " 7   firstRiftHerald       108829 non-null  bool   \n",
      " 8   towerKills            108829 non-null  int64  \n",
      " 9   inhibitorKills        108829 non-null  int64  \n",
      " 10  baronKills            108829 non-null  int64  \n",
      " 11  dragonKills           108829 non-null  int64  \n",
      " 12  vilemawKills          108829 non-null  int64  \n",
      " 13  riftHeraldKills       108829 non-null  int64  \n",
      " 14  dominionVictoryScore  108829 non-null  int64  \n",
      " 15  bans                  108829 non-null  object \n",
      " 16  gameId                108829 non-null  float64\n",
      "dtypes: bool(6), float64(1), int64(8), object(2)\n",
      "memory usage: 9.8+ MB\n",
      "<class 'pandas.core.frame.DataFrame'>\n",
      "RangeIndex: 108829 entries, 0 to 108828\n",
      "Data columns (total 17 columns):\n",
      " #   Column                Non-Null Count   Dtype  \n",
      "---  ------                --------------   -----  \n",
      " 0   teamId                108829 non-null  int64  \n",
      " 1   win                   108829 non-null  object \n",
      " 2   firstBlood            108829 non-null  bool   \n",
      " 3   firstTower            108829 non-null  bool   \n",
      " 4   firstInhibitor        108829 non-null  bool   \n",
      " 5   firstBaron            108829 non-null  bool   \n",
      " 6   firstDragon           108829 non-null  bool   \n",
      " 7   firstRiftHerald       108829 non-null  bool   \n",
      " 8   towerKills            108829 non-null  int64  \n",
      " 9   inhibitorKills        108829 non-null  int64  \n",
      " 10  baronKills            108829 non-null  int64  \n",
      " 11  dragonKills           108829 non-null  int64  \n",
      " 12  vilemawKills          108829 non-null  int64  \n",
      " 13  riftHeraldKills       108829 non-null  int64  \n",
      " 14  dominionVictoryScore  108829 non-null  int64  \n",
      " 15  bans                  108829 non-null  object \n",
      " 16  gameId                108829 non-null  float64\n",
      "dtypes: bool(6), float64(1), int64(8), object(2)\n",
      "memory usage: 9.8+ MB\n"
     ]
    },
    {
     "data": {
      "text/plain": "{'participantId': 1,\n 'creepsPerMinDeltas': {'10-20': 6.199999999999999, '0-10': 6.1},\n 'xpPerMinDeltas': {'10-20': 473.5, '0-10': 386.6},\n 'goldPerMinDeltas': {'10-20': 277, '0-10': 315.6},\n 'damageTakenPerMinDeltas': {'10-20': 906, '0-10': 473.79999999999995},\n 'role': 'DUO_CARRY',\n 'lane': 'MIDDLE'}"
     },
     "execution_count": 15,
     "metadata": {},
     "output_type": "execute_result"
    }
   ],
   "source": [
    "# Informacion de los dataframes\n",
    "match_df.info()\n",
    "winner_df.info()\n",
    "loser_df.info()\n",
    "match_df['participants'].iloc[0][0]['timeline']"
   ],
   "metadata": {
    "collapsed": false,
    "ExecuteTime": {
     "end_time": "2023-11-23T20:59:53.163993400Z",
     "start_time": "2023-11-23T20:59:52.961726600Z"
    }
   },
   "id": "b20dab81cdcd328f"
  },
  {
   "cell_type": "markdown",
   "source": [
    "\n",
    "Seleccionamos las columnas utiles para la prediccion de las partidas\n",
    "* columnas match_df: [participants, gameVersion, seasonId]\n",
    "* columnas winner_df: [win, firtsBlood, firstTower, firstInhibitor, firstBaron, firstDragon, firstRiftHerald, towerKills, inhibitorKills, baronKills, dragonKills, riftHeraldKills, bans]\n",
    "* columnas loser_df: [win, firtsBlood, firstTower, firstInhibitor, firstBaron, firstDragon, firstRiftHerald, towerKills, inhibitorKills, baronKills, dragonKills, riftHeraldKills, bans]\n",
    "\n",
    "* Dentro de 'participants' utilizaremos los siguientes datos: [championId, spell1Id, spell2Id, timeline], dentro de timeline utilizaremos: [creepsPerMinDeltas, xpPerMinDeltas, goldPerMinDeltas, damageTakenPerMinDeltas, role, lane] donde se utilizara los intervalos de tiempo de los primeros 10 mins."
   ],
   "metadata": {
    "collapsed": false
   },
   "id": "a0ce8a41f9f4ca5e"
  },
  {
   "cell_type": "code",
   "execution_count": 34,
   "outputs": [],
   "source": [
    "# Modificamos los nombres de las columnas para evitar confusiones agregando \"_winner\" y \"_loser\"\n",
    "winner_df = winner_df.rename(columns={'win': 'win_winner', 'firstBlood': 'firstBlood_winner', 'firstTower': 'firstTower_winner', 'firstInhibitor': 'firstInhibitor_winner', 'firstBaron': 'firstBaron_winner', 'firstDragon': 'firstDragon_winner', 'firstRiftHerald': 'firstRiftHerald_winner', 'towerKills': 'towerKills_winner', 'inhibitorKills': 'inhibitorKills_winner', 'baronKills': 'baronKills_winner', 'dragonKills': 'dragonKills_winner', 'riftHeraldKills': 'riftHeraldKills_winner', 'bans': 'bans_winner'})\n",
    "loser_df = loser_df.rename(columns={'win': 'win_loser', 'firstBlood': 'firstBlood_loser', 'firstTower': 'firstTower_loser', 'firstInhibitor': 'firstInhibitor_loser', 'firstBaron': 'firstBaron_loser', 'firstDragon': 'firstDragon_loser', 'firstRiftHerald': 'firstRiftHerald_loser', 'towerKills': 'towerKills_loser', 'inhibitorKills': 'inhibitorKills_loser', 'baronKills': 'baronKills_loser', 'dragonKills': 'dragonKills_loser', 'riftHeraldKills': 'riftHeraldKills_loser', 'bans': 'bans_loser'})\n"
   ],
   "metadata": {
    "collapsed": false,
    "ExecuteTime": {
     "end_time": "2023-11-23T21:37:41.558894900Z",
     "start_time": "2023-11-23T21:37:41.527440900Z"
    }
   },
   "id": "4cdcc20b1f87df79"
  },
  {
   "cell_type": "code",
   "execution_count": 37,
   "outputs": [],
   "source": [
    "# Seleccionamos las columnas utiles para la prediccion de las partidas\n",
    "prediction_data = pd.concat([\n",
    "    match_df[['gameId','participants', 'gameVersion', 'seasonId']].reset_index(drop=True),\n",
    "    winner_df[['win_winner', 'firstBlood_winner', 'firstTower_winner', 'firstInhibitor_winner', 'firstBaron_winner', 'firstDragon_winner', 'firstRiftHerald_winner', 'towerKills_winner', 'inhibitorKills_winner', 'baronKills_winner', 'dragonKills_winner', 'riftHeraldKills_winner', 'bans_winner']].reset_index(drop=True),\n",
    "    loser_df[['win_loser', 'firstBlood_loser', 'firstTower_loser', 'firstInhibitor_loser', 'firstBaron_loser', 'firstDragon_loser', 'firstRiftHerald_loser', 'towerKills_loser', 'inhibitorKills_loser', 'baronKills_loser', 'dragonKills_loser', 'riftHeraldKills_loser', 'bans_loser']].reset_index(drop=True)\n",
    "], axis=1)"
   ],
   "metadata": {
    "collapsed": false,
    "ExecuteTime": {
     "end_time": "2023-11-23T22:00:34.192066300Z",
     "start_time": "2023-11-23T22:00:34.039942800Z"
    }
   },
   "id": "e297ae035b9e7c11"
  },
  {
   "cell_type": "code",
   "execution_count": null,
   "outputs": [],
   "source": [],
   "metadata": {
    "collapsed": false
   },
   "id": "93a0dc884601d451"
  }
 ],
 "metadata": {
  "kernelspec": {
   "display_name": "Python 3",
   "language": "python",
   "name": "python3"
  },
  "language_info": {
   "codemirror_mode": {
    "name": "ipython",
    "version": 2
   },
   "file_extension": ".py",
   "mimetype": "text/x-python",
   "name": "python",
   "nbconvert_exporter": "python",
   "pygments_lexer": "ipython2",
   "version": "2.7.6"
  }
 },
 "nbformat": 4,
 "nbformat_minor": 5
}
