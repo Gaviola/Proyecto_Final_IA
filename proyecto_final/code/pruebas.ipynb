{
 "cells": [
  {
   "cell_type": "code",
   "execution_count": 1,
   "id": "initial_id",
   "metadata": {
    "collapsed": true,
    "ExecuteTime": {
     "end_time": "2023-11-24T19:22:28.717828Z",
     "start_time": "2023-11-24T19:22:27.707024400Z"
    }
   },
   "outputs": [],
   "source": [
    "import pandas as pd"
   ]
  },
  {
   "cell_type": "code",
   "execution_count": 32,
   "outputs": [],
   "source": [
    "# Carga de datos\n",
    "match_df = pd.read_pickle('C:\\\\Users\\\\Facu\\\\PycharmProjects\\\\Proyecto_Final_IA\\\\proyecto_final\\\\data\\\\match_data_version1.pickle')\n",
    "winner_df =  pd.read_pickle('C:\\\\Users\\\\Facu\\\\PycharmProjects\\\\Proyecto_Final_IA\\\\proyecto_final\\\\data\\\\match_loser_data_version1.pickle')\n",
    "loser_df = pd.read_pickle('C:\\\\Users\\\\Facu\\\\PycharmProjects\\\\Proyecto_Final_IA\\\\proyecto_final\\\\data\\\\match_winner_data_version1.pickle')"
   ],
   "metadata": {
    "collapsed": false,
    "ExecuteTime": {
     "end_time": "2023-11-24T20:11:51.072295200Z",
     "start_time": "2023-11-24T19:55:56.963183100Z"
    }
   },
   "id": "a594fb5f2bd2ef03"
  },
  {
   "cell_type": "code",
   "execution_count": 33,
   "outputs": [
    {
     "name": "stdout",
     "output_type": "stream",
     "text": [
      "<class 'pandas.core.frame.DataFrame'>\n",
      "Index: 108829 entries, 0 to 0\n",
      "Data columns (total 14 columns):\n",
      " #   Column                 Non-Null Count   Dtype  \n",
      "---  ------                 --------------   -----  \n",
      " 0   gameCreation           108829 non-null  float64\n",
      " 1   gameDuration           108829 non-null  float64\n",
      " 2   gameId                 108829 non-null  float64\n",
      " 3   gameMode               108829 non-null  object \n",
      " 4   gameType               108829 non-null  object \n",
      " 5   gameVersion            108829 non-null  object \n",
      " 6   mapId                  108829 non-null  float64\n",
      " 7   participantIdentities  108829 non-null  object \n",
      " 8   participants           108829 non-null  object \n",
      " 9   platformId             108829 non-null  object \n",
      " 10  queueId                108829 non-null  float64\n",
      " 11  seasonId               108829 non-null  float64\n",
      " 12  status.message         0 non-null       object \n",
      " 13  status.status_code     0 non-null       float64\n",
      "dtypes: float64(7), object(7)\n",
      "memory usage: 12.5+ MB\n",
      "<class 'pandas.core.frame.DataFrame'>\n",
      "RangeIndex: 108829 entries, 0 to 108828\n",
      "Data columns (total 17 columns):\n",
      " #   Column                Non-Null Count   Dtype  \n",
      "---  ------                --------------   -----  \n",
      " 0   teamId                108829 non-null  int64  \n",
      " 1   win                   108817 non-null  object \n",
      " 2   firstBlood            108829 non-null  bool   \n",
      " 3   firstTower            108829 non-null  bool   \n",
      " 4   firstInhibitor        108829 non-null  bool   \n",
      " 5   firstBaron            108829 non-null  bool   \n",
      " 6   firstDragon           108829 non-null  bool   \n",
      " 7   firstRiftHerald       108829 non-null  bool   \n",
      " 8   towerKills            108829 non-null  int64  \n",
      " 9   inhibitorKills        108829 non-null  int64  \n",
      " 10  baronKills            108829 non-null  int64  \n",
      " 11  dragonKills           108829 non-null  int64  \n",
      " 12  vilemawKills          108829 non-null  int64  \n",
      " 13  riftHeraldKills       108829 non-null  int64  \n",
      " 14  dominionVictoryScore  108829 non-null  int64  \n",
      " 15  bans                  108829 non-null  object \n",
      " 16  gameId                108829 non-null  float64\n",
      "dtypes: bool(6), float64(1), int64(8), object(2)\n",
      "memory usage: 9.8+ MB\n",
      "<class 'pandas.core.frame.DataFrame'>\n",
      "RangeIndex: 108829 entries, 0 to 108828\n",
      "Data columns (total 17 columns):\n",
      " #   Column                Non-Null Count   Dtype  \n",
      "---  ------                --------------   -----  \n",
      " 0   teamId                108829 non-null  int64  \n",
      " 1   win                   108829 non-null  object \n",
      " 2   firstBlood            108829 non-null  bool   \n",
      " 3   firstTower            108829 non-null  bool   \n",
      " 4   firstInhibitor        108829 non-null  bool   \n",
      " 5   firstBaron            108829 non-null  bool   \n",
      " 6   firstDragon           108829 non-null  bool   \n",
      " 7   firstRiftHerald       108829 non-null  bool   \n",
      " 8   towerKills            108829 non-null  int64  \n",
      " 9   inhibitorKills        108829 non-null  int64  \n",
      " 10  baronKills            108829 non-null  int64  \n",
      " 11  dragonKills           108829 non-null  int64  \n",
      " 12  vilemawKills          108829 non-null  int64  \n",
      " 13  riftHeraldKills       108829 non-null  int64  \n",
      " 14  dominionVictoryScore  108829 non-null  int64  \n",
      " 15  bans                  108829 non-null  object \n",
      " 16  gameId                108829 non-null  float64\n",
      "dtypes: bool(6), float64(1), int64(8), object(2)\n",
      "memory usage: 9.8+ MB\n"
     ]
    },
    {
     "data": {
      "text/plain": "{'participantId': 1,\n 'creepsPerMinDeltas': {'10-20': 6.199999999999999, '0-10': 6.1},\n 'xpPerMinDeltas': {'10-20': 473.5, '0-10': 386.6},\n 'goldPerMinDeltas': {'10-20': 277, '0-10': 315.6},\n 'damageTakenPerMinDeltas': {'10-20': 906, '0-10': 473.79999999999995},\n 'role': 'DUO_CARRY',\n 'lane': 'MIDDLE'}"
     },
     "execution_count": 33,
     "metadata": {},
     "output_type": "execute_result"
    }
   ],
   "source": [
    "# Informacion de los dataframes\n",
    "match_df.info()\n",
    "winner_df.info()\n",
    "loser_df.info()\n",
    "match_df['participants'].iloc[0][0]['timeline']"
   ],
   "metadata": {
    "collapsed": false,
    "ExecuteTime": {
     "end_time": "2023-11-24T20:11:58.120956500Z",
     "start_time": "2023-11-24T20:11:57.958368200Z"
    }
   },
   "id": "b20dab81cdcd328f"
  },
  {
   "cell_type": "code",
   "execution_count": 34,
   "outputs": [],
   "source": [
    "# First, we need to drop gameCreation, gameType, gameVersion, mapId, platformId, queueId, seasonId\n",
    "# status.message, status.status_code\n",
    "# since these are either unique value column or null or irrelevant to our app.\n",
    "# It will help us to reduce the size of the file and be able to process the data furether locally\n",
    "match_df.drop(['gameCreation', 'gameType', 'gameVersion', 'mapId',\n",
    "                    'platformId', 'queueId', 'seasonId', 'status.message', 'status.status_code'], axis=1, inplace=True)"
   ],
   "metadata": {
    "collapsed": false,
    "ExecuteTime": {
     "end_time": "2023-11-24T20:12:01.178178900Z",
     "start_time": "2023-11-24T20:12:01.131026600Z"
    }
   },
   "id": "c9c461bc7e7ac15f"
  },
  {
   "cell_type": "code",
   "execution_count": 35,
   "outputs": [
    {
     "name": "stdout",
     "output_type": "stream",
     "text": [
      "Dropping non-classic games...\n",
      "Succeed!\n"
     ]
    }
   ],
   "source": [
    "# Second, we need to remove the games data that are not CLASSIC gameMode\n",
    "# since we are focusing of classic mode game (90% of the data)\n",
    "indexList = [i for i in match_df[match_df.gameMode != 'CLASSIC'].index if i != 0]\n",
    "\n",
    "print('Dropping non-classic games...')\n",
    "match_df.drop(indexList, inplace=True)\n",
    "match_df.drop(['gameMode'], axis=1, inplace=True)\n",
    "\n",
    "print(\"Succeed!\")"
   ],
   "metadata": {
    "collapsed": false,
    "ExecuteTime": {
     "end_time": "2023-11-24T20:12:03.179232900Z",
     "start_time": "2023-11-24T20:12:02.555552Z"
    }
   },
   "id": "ebe2b47d047e3edf"
  },
  {
   "cell_type": "code",
   "execution_count": 37,
   "outputs": [
    {
     "name": "stdout",
     "output_type": "stream",
     "text": [
      "Succeed!\n"
     ]
    }
   ],
   "source": [
    "# Remove unused data from participants:\n",
    "# participants: spell1Id, spell2Id (no table to specify other info)\n",
    "#               stats:    (no table to specify other info, or irrelevant)\n",
    "#                         combatPlayerScore, objectivePlayerScore, totalPlayerScore\n",
    "#                         totalScoreRank, playerScore0, playerScore1, playerScore2\n",
    "#                         playerScore3, playerScore4, playerScore5, playerScore6\n",
    "#                         playerScore7, playerScore8, playerScore9, perk0\n",
    "#                         perk0Var1, perk0Var2, perk0Var3, perk1, perk1Var1\n",
    "#                         perk1Var2, perk1Var3, perk2, perk2Var1, perk2Var2,\n",
    "#                         perk2Var3, perk3, perk3Var1, perk3Var2, perk3Var3,\n",
    "#                         perk4, perk4Var1, perk4Var2, perk4Var3, perk5,\n",
    "#                         perk5Var1, perk5Var2, perk5Var3, perkPrimaryStyle,\n",
    "#                         perkSubStyle, statPerk0, statPerk1, statPerk2\n",
    "#               timeline: we are going to extract the 'role', 'lane' from timeline\n",
    "#                         and put them inside 'participants' directly\n",
    "entriesToRemoveMain = ['spell1Id', 'spell2Id']\n",
    "entriesToRemoveStats = ['combatPlayerScore', 'objectivePlayerScore', 'totalPlayerScore',\n",
    "                        'totalScoreRank', 'playerScore0', 'playerScore1', 'playerScore2',\n",
    "                        'playerScore3', 'playerScore4', 'playerScore5', 'playerScore6',\n",
    "                        'playerScore7', 'playerScore8', 'playerScore9', 'perk0',\n",
    "                        'perk0Var1', 'perk0Var2', 'perk0Var3', 'perk1', 'perk1Var1',\n",
    "                        'perk1Var2', 'perk1Var3', 'perk2', 'perk2Var1', 'perk2Var2',\n",
    "                        'perk2Var3', 'perk3', 'perk3Var1', 'perk3Var2', 'perk3Var3',\n",
    "                        'perk4', 'perk4Var1', 'perk4Var2', 'perk4Var3', 'perk5',\n",
    "                        'perk5Var1', 'perk5Var2', 'perk5Var3', 'perkPrimaryStyle',\n",
    "                        'perkSubStyle', 'statPerk0', 'statPerk1', 'statPerk2']\n",
    "\n",
    "def deleteKeysParticipants(participantsData):\n",
    "    for participant in participantsData:\n",
    "        for mainKey in entriesToRemoveMain:\n",
    "            participant.pop(mainKey, None)\n",
    "        for statsKey in entriesToRemoveStats:\n",
    "            try:\n",
    "                participant['stats'].pop(statsKey, None)\n",
    "            except:\n",
    "                # During the data diving, we found that some participant does not have 'stats',\n",
    "                # which is resulted by disconnection, we will delete the this participant since\n",
    "                # it is useless\n",
    "                participantsData = [p for p in participantsData if p != participant]\n",
    "                break\n",
    "        # Extraction\n",
    "        roleValue = participant['timeline']['role']\n",
    "        laneValue = participant['timeline']['lane']\n",
    "        participant.pop('timeline', None)\n",
    "        participant['role'] = roleValue\n",
    "        participant['lane'] = laneValue\n",
    "\n",
    "    return participantsData\n",
    "\n",
    "match_df['participants'].apply(lambda x: deleteKeysParticipants(x))\n",
    "\n",
    "print(\"Succeed!\")"
   ],
   "metadata": {
    "collapsed": false,
    "ExecuteTime": {
     "end_time": "2023-11-24T20:12:30.809058400Z",
     "start_time": "2023-11-24T20:12:13.007068700Z"
    }
   },
   "id": "f93daf88cdd8fa4d"
  },
  {
   "cell_type": "code",
   "execution_count": 38,
   "outputs": [],
   "source": [
    "# There are some data in participantIdentities missing summonerId\n",
    "# We will get rid of these rows\n",
    "def is_summoner_id_misssing(participantsData):\n",
    "    for participant in participantsData:\n",
    "        if 'summonerId' not in participant['player']:\n",
    "            return False\n",
    "    return True\n",
    "\n",
    "match_df = match_df[match_df.apply(lambda row: is_summoner_id_misssing(row['participantIdentities']), axis=1)]"
   ],
   "metadata": {
    "collapsed": false,
    "ExecuteTime": {
     "end_time": "2023-11-24T20:12:37.948186600Z",
     "start_time": "2023-11-24T20:12:35.664253700Z"
    }
   },
   "id": "edcf0226a5aaf0bf"
  },
  {
   "cell_type": "code",
   "execution_count": 39,
   "outputs": [],
   "source": [
    "# There are some games that the participantIdentities or participants are not equal to 10 (LOL classical games must have 10 player)\n",
    "# We will get rid of these data\n",
    "def is_number_participant_identities_ten(participantsData, gamID):\n",
    "    if len(participantsData) != 10:\n",
    "        return False\n",
    "    return True\n",
    "\n",
    "def is_number_participant_ten(participantsData):\n",
    "    if len(participantsData) != 10:\n",
    "        return False\n",
    "    return True\n",
    "\n",
    "match_df = match_df[match_df.apply(lambda row: is_number_participant_identities_ten(row['participantIdentities'], row['gameId']), axis=1)]\n",
    "match_df = match_df[match_df.apply(lambda row: is_number_participant_ten(row['participants']), axis=1)]"
   ],
   "metadata": {
    "collapsed": false,
    "ExecuteTime": {
     "end_time": "2023-11-24T20:12:58.660709500Z",
     "start_time": "2023-11-24T20:12:55.203478700Z"
    }
   },
   "id": "f3a91b83d926500d"
  },
  {
   "cell_type": "code",
   "execution_count": 40,
   "outputs": [
    {
     "name": "stdout",
     "output_type": "stream",
     "text": [
      "Succeed!\n"
     ]
    }
   ],
   "source": [
    "# A player can have multiple summoners under the same account, and each summoner has its own summonerId.\n",
    "# However, each player account has only one accountId.\n",
    "# Since we have summoner name and do not have account name in the dataset,\n",
    "# we expect the potential user for our application to use summonerName property to identify itself.\n",
    "\n",
    "# Remove unused data from participantIdentities:\n",
    "# player:\n",
    "#        platformId (Dataset is Korea only)\n",
    "#        accountId\n",
    "#        currentPlatformId (Dataset is Korea only)\n",
    "#        currentAccountId\n",
    "#        matchHistoryUri\n",
    "#        profileIcon\n",
    "entriesToRemovePlayer = ['platformId', 'accountId', 'currentPlatformId',\n",
    "                         'currentAccountId', 'matchHistoryUri', 'profileIcon']\n",
    "\n",
    "def deleteKeysParticipantIdentities(participantsData):\n",
    "    for participant in participantsData:\n",
    "        for playerKey in entriesToRemovePlayer:\n",
    "            participant['player'].pop(playerKey, None)\n",
    "    return participantsData\n",
    "\n",
    "match_df['participantIdentities'].apply(lambda x: deleteKeysParticipantIdentities(x))\n",
    "\n",
    "print(\"Succeed!\")"
   ],
   "metadata": {
    "collapsed": false,
    "ExecuteTime": {
     "end_time": "2023-11-24T20:13:14.606840400Z",
     "start_time": "2023-11-24T20:13:12.034755900Z"
    }
   },
   "id": "147c80880ef401e7"
  },
  {
   "cell_type": "code",
   "execution_count": 41,
   "outputs": [],
   "source": [
    "# Finally, drop duplicated gameId rows\n",
    "match_df = match_df.drop_duplicates(subset=['gameId'])"
   ],
   "metadata": {
    "collapsed": false,
    "ExecuteTime": {
     "end_time": "2023-11-24T20:13:21.095332800Z",
     "start_time": "2023-11-24T20:13:21.042329300Z"
    }
   },
   "id": "1fcc1c7fea47c301"
  },
  {
   "cell_type": "code",
   "execution_count": 42,
   "outputs": [
    {
     "data": {
      "text/plain": "   gameDuration        gameId  \\\n0        1323.0  4.247263e+09   \n1        1317.0  4.247156e+09   \n2         932.0  4.243963e+09   \n3        2098.0  4.241678e+09   \n4        2344.0  4.241539e+09   \n\n                               participantIdentities  \\\n0  [{'participantId': 1, 'player': {'summonerName...   \n1  [{'participantId': 1, 'player': {'summonerName...   \n2  [{'participantId': 1, 'player': {'summonerName...   \n3  [{'participantId': 1, 'player': {'summonerName...   \n4  [{'participantId': 1, 'player': {'summonerName...   \n\n                                        participants  \n0  [{'participantId': 1, 'teamId': 100, 'champion...  \n1  [{'participantId': 1, 'teamId': 100, 'champion...  \n2  [{'participantId': 1, 'teamId': 100, 'champion...  \n3  [{'participantId': 1, 'teamId': 100, 'champion...  \n4  [{'participantId': 1, 'teamId': 100, 'champion...  ",
      "text/html": "<div>\n<style scoped>\n    .dataframe tbody tr th:only-of-type {\n        vertical-align: middle;\n    }\n\n    .dataframe tbody tr th {\n        vertical-align: top;\n    }\n\n    .dataframe thead th {\n        text-align: right;\n    }\n</style>\n<table border=\"1\" class=\"dataframe\">\n  <thead>\n    <tr style=\"text-align: right;\">\n      <th></th>\n      <th>gameDuration</th>\n      <th>gameId</th>\n      <th>participantIdentities</th>\n      <th>participants</th>\n    </tr>\n  </thead>\n  <tbody>\n    <tr>\n      <th>0</th>\n      <td>1323.0</td>\n      <td>4.247263e+09</td>\n      <td>[{'participantId': 1, 'player': {'summonerName...</td>\n      <td>[{'participantId': 1, 'teamId': 100, 'champion...</td>\n    </tr>\n    <tr>\n      <th>1</th>\n      <td>1317.0</td>\n      <td>4.247156e+09</td>\n      <td>[{'participantId': 1, 'player': {'summonerName...</td>\n      <td>[{'participantId': 1, 'teamId': 100, 'champion...</td>\n    </tr>\n    <tr>\n      <th>2</th>\n      <td>932.0</td>\n      <td>4.243963e+09</td>\n      <td>[{'participantId': 1, 'player': {'summonerName...</td>\n      <td>[{'participantId': 1, 'teamId': 100, 'champion...</td>\n    </tr>\n    <tr>\n      <th>3</th>\n      <td>2098.0</td>\n      <td>4.241678e+09</td>\n      <td>[{'participantId': 1, 'player': {'summonerName...</td>\n      <td>[{'participantId': 1, 'teamId': 100, 'champion...</td>\n    </tr>\n    <tr>\n      <th>4</th>\n      <td>2344.0</td>\n      <td>4.241539e+09</td>\n      <td>[{'participantId': 1, 'player': {'summonerName...</td>\n      <td>[{'participantId': 1, 'teamId': 100, 'champion...</td>\n    </tr>\n  </tbody>\n</table>\n</div>"
     },
     "execution_count": 42,
     "metadata": {},
     "output_type": "execute_result"
    }
   ],
   "source": [
    "# Note, we will get rid of the index when saving to csv file\n",
    "match_df.head()"
   ],
   "metadata": {
    "collapsed": false,
    "ExecuteTime": {
     "end_time": "2023-11-24T20:13:22.513775500Z",
     "start_time": "2023-11-24T20:13:22.353839Z"
    }
   },
   "id": "a498eee90eb798e9"
  },
  {
   "cell_type": "code",
   "execution_count": 43,
   "outputs": [
    {
     "data": {
      "text/plain": "{'participantId': 1,\n 'teamId': 100,\n 'championId': 7,\n 'stats': {'participantId': 1,\n  'win': False,\n  'item0': 2033,\n  'item1': 3285,\n  'item2': 3108,\n  'item3': 1082,\n  'item4': 3020,\n  'item5': 2055,\n  'item6': 3364,\n  'kills': 3,\n  'deaths': 6,\n  'assists': 3,\n  'largestKillingSpree': 2,\n  'largestMultiKill': 1,\n  'killingSprees': 1,\n  'longestTimeSpentLiving': 564,\n  'doubleKills': 0,\n  'tripleKills': 0,\n  'quadraKills': 0,\n  'pentaKills': 0,\n  'unrealKills': 0,\n  'totalDamageDealt': 71369,\n  'magicDamageDealt': 56332,\n  'physicalDamageDealt': 13037,\n  'trueDamageDealt': 1999,\n  'largestCriticalStrike': 0,\n  'totalDamageDealtToChampions': 10844,\n  'magicDamageDealtToChampions': 8926,\n  'physicalDamageDealtToChampions': 1918,\n  'trueDamageDealtToChampions': 0,\n  'totalHeal': 4006,\n  'totalUnitsHealed': 1,\n  'damageSelfMitigated': 6742,\n  'damageDealtToObjectives': 1055,\n  'damageDealtToTurrets': 1008,\n  'visionScore': 14,\n  'timeCCingOthers': 12,\n  'totalDamageTaken': 17255,\n  'magicalDamageTaken': 5282,\n  'physicalDamageTaken': 11203,\n  'trueDamageTaken': 770,\n  'goldEarned': 6844,\n  'goldSpent': 6710,\n  'turretKills': 0,\n  'inhibitorKills': 0,\n  'totalMinionsKilled': 133,\n  'neutralMinionsKilled': 0,\n  'neutralMinionsKilledTeamJungle': 0,\n  'neutralMinionsKilledEnemyJungle': 0,\n  'totalTimeCrowdControlDealt': 19,\n  'champLevel': 12,\n  'visionWardsBoughtInGame': 3,\n  'sightWardsBoughtInGame': 0,\n  'wardsPlaced': 6,\n  'wardsKilled': 1,\n  'firstBloodKill': True,\n  'firstBloodAssist': False,\n  'firstTowerKill': False,\n  'firstTowerAssist': False,\n  'firstInhibitorKill': False,\n  'firstInhibitorAssist': False},\n 'role': 'DUO_CARRY',\n 'lane': 'MIDDLE'}"
     },
     "execution_count": 43,
     "metadata": {},
     "output_type": "execute_result"
    }
   ],
   "source": [
    "# Participant data in participants list per game\n",
    "match_df['participants'].iloc[0][0]"
   ],
   "metadata": {
    "collapsed": false,
    "ExecuteTime": {
     "end_time": "2023-11-24T20:13:24.497644900Z",
     "start_time": "2023-11-24T20:13:24.477710200Z"
    }
   },
   "id": "f17a725531c5670c"
  },
  {
   "cell_type": "code",
   "execution_count": 44,
   "outputs": [
    {
     "data": {
      "text/plain": "{'participantId': 1,\n 'player': {'summonerName': '쪼렙이다말로하자',\n  'summonerId': 'YTMZt7CQ7cHXiADp1ZtI1GjNHdAE_HQbbSxxq_gllWinqQ'}}"
     },
     "execution_count": 44,
     "metadata": {},
     "output_type": "execute_result"
    }
   ],
   "source": [
    "# ParticipantIdentities data in participantIdentities list per game\n",
    "match_df['participantIdentities'].iloc[0][0]"
   ],
   "metadata": {
    "collapsed": false,
    "ExecuteTime": {
     "end_time": "2023-11-24T20:13:27.645825700Z",
     "start_time": "2023-11-24T20:13:27.630433200Z"
    }
   },
   "id": "2a2c81c1d4cb6e17"
  },
  {
   "cell_type": "code",
   "execution_count": 46,
   "outputs": [],
   "source": [
    "match_df.to_csv('matchData.csv', index=False, encoding='utf-8')"
   ],
   "metadata": {
    "collapsed": false,
    "ExecuteTime": {
     "end_time": "2023-11-24T20:18:54.533153200Z",
     "start_time": "2023-11-24T20:15:58.152378600Z"
    }
   },
   "id": "93a0dc884601d451"
  },
  {
   "cell_type": "code",
   "execution_count": 47,
   "outputs": [
    {
     "ename": "UnicodeDecodeError",
     "evalue": "'charmap' codec can't decode byte 0x9d in position 134: character maps to <undefined>",
     "output_type": "error",
     "traceback": [
      "\u001B[1;31m---------------------------------------------------------------------------\u001B[0m",
      "\u001B[1;31mUnicodeDecodeError\u001B[0m                        Traceback (most recent call last)",
      "Cell \u001B[1;32mIn[47], line 9\u001B[0m\n\u001B[0;32m      7\u001B[0m \u001B[38;5;28;01mwith\u001B[39;00m \u001B[38;5;28mopen\u001B[39m(\u001B[38;5;124m\"\u001B[39m\u001B[38;5;124mC:\u001B[39m\u001B[38;5;130;01m\\\\\u001B[39;00m\u001B[38;5;124mUsers\u001B[39m\u001B[38;5;130;01m\\\\\u001B[39;00m\u001B[38;5;124mFacu\u001B[39m\u001B[38;5;130;01m\\\\\u001B[39;00m\u001B[38;5;124mPycharmProjects\u001B[39m\u001B[38;5;130;01m\\\\\u001B[39;00m\u001B[38;5;124mProyecto_Final_IA\u001B[39m\u001B[38;5;130;01m\\\\\u001B[39;00m\u001B[38;5;124mproyecto_final\u001B[39m\u001B[38;5;130;01m\\\\\u001B[39;00m\u001B[38;5;124mdata\u001B[39m\u001B[38;5;130;01m\\\\\u001B[39;00m\u001B[38;5;124mmatchData.csv\u001B[39m\u001B[38;5;124m\"\u001B[39m, \u001B[38;5;124m\"\u001B[39m\u001B[38;5;124mr\u001B[39m\u001B[38;5;124m\"\u001B[39m) \u001B[38;5;28;01mas\u001B[39;00m f:\n\u001B[0;32m      8\u001B[0m     count \u001B[38;5;241m=\u001B[39m \u001B[38;5;241m0\u001B[39m\n\u001B[1;32m----> 9\u001B[0m     header \u001B[38;5;241m=\u001B[39m \u001B[43mf\u001B[49m\u001B[38;5;241;43m.\u001B[39;49m\u001B[43mreadline\u001B[49m\u001B[43m(\u001B[49m\u001B[43m)\u001B[49m\n\u001B[0;32m     10\u001B[0m     lines \u001B[38;5;241m=\u001B[39m []\n\u001B[0;32m     11\u001B[0m     \u001B[38;5;28;01mfor\u001B[39;00m line \u001B[38;5;129;01min\u001B[39;00m f:\n",
      "File \u001B[1;32mC:\\Python312\\Lib\\encodings\\cp1252.py:23\u001B[0m, in \u001B[0;36mIncrementalDecoder.decode\u001B[1;34m(self, input, final)\u001B[0m\n\u001B[0;32m     22\u001B[0m \u001B[38;5;28;01mdef\u001B[39;00m \u001B[38;5;21mdecode\u001B[39m(\u001B[38;5;28mself\u001B[39m, \u001B[38;5;28minput\u001B[39m, final\u001B[38;5;241m=\u001B[39m\u001B[38;5;28;01mFalse\u001B[39;00m):\n\u001B[1;32m---> 23\u001B[0m     \u001B[38;5;28;01mreturn\u001B[39;00m \u001B[43mcodecs\u001B[49m\u001B[38;5;241;43m.\u001B[39;49m\u001B[43mcharmap_decode\u001B[49m\u001B[43m(\u001B[49m\u001B[38;5;28;43minput\u001B[39;49m\u001B[43m,\u001B[49m\u001B[38;5;28;43mself\u001B[39;49m\u001B[38;5;241;43m.\u001B[39;49m\u001B[43merrors\u001B[49m\u001B[43m,\u001B[49m\u001B[43mdecoding_table\u001B[49m\u001B[43m)\u001B[49m[\u001B[38;5;241m0\u001B[39m]\n",
      "\u001B[1;31mUnicodeDecodeError\u001B[0m: 'charmap' codec can't decode byte 0x9d in position 134: character maps to <undefined>"
     ]
    }
   ],
   "source": [
    "chunk_size = 20000\n",
    "def write_chunk(part, lines):\n",
    "    with open('matchDataPart'+ str(part) +'.csv', 'w') as f_out:\n",
    "        f_out.write(header)\n",
    "        f_out.writelines(lines)\n",
    "\n",
    "with open(\"C:\\\\Users\\\\Facu\\\\PycharmProjects\\\\Proyecto_Final_IA\\\\proyecto_final\\\\data\\\\matchData.csv\", \"r\") as f:\n",
    "    count = 0\n",
    "    header = f.readline()\n",
    "    lines = []\n",
    "    for line in f:\n",
    "        count += 1\n",
    "        lines.append(line)\n",
    "        if count % chunk_size == 0:\n",
    "            write_chunk(count // chunk_size, lines)\n",
    "            lines = []\n",
    "    # write remainder\n",
    "    if len(lines) > 0:\n",
    "        write_chunk((count // chunk_size) + 1, lines)"
   ],
   "metadata": {
    "collapsed": false,
    "ExecuteTime": {
     "end_time": "2023-11-24T20:20:15.560217600Z",
     "start_time": "2023-11-24T20:20:15.480670200Z"
    }
   },
   "id": "22a211ee7bee3d36"
  },
  {
   "cell_type": "code",
   "execution_count": 48,
   "outputs": [],
   "source": [
    "# Load the newest version of riot_champion csv file\n",
    "champion_data_df = pd.read_csv('C:\\\\Users\\\\Facu\\\\PycharmProjects\\\\Proyecto_Final_IA\\\\proyecto_final\\\\data\\\\riot_champion.csv')"
   ],
   "metadata": {
    "collapsed": false,
    "ExecuteTime": {
     "end_time": "2023-11-24T20:20:42.272970Z",
     "start_time": "2023-11-24T20:20:42.230303500Z"
    }
   },
   "id": "6e23df39cf7f8717"
  },
  {
   "cell_type": "code",
   "execution_count": 49,
   "outputs": [],
   "source": [
    "# First, we need to drop 'Unnamed: 0'(Unnamed index column), version, 'image.full', 'image.sprite',\n",
    "# 'image.group', 'image.x', 'image.y', 'image.w', 'image.h'\n",
    "# since these are either unique value column or null or irrelevant to our app.\n",
    "champion_data_df.drop(['Unnamed: 0', 'version', 'image.full', 'image.sprite',\n",
    "                       'image.group', 'image.x', 'image.y', 'image.w', 'image.h',\n",
    "                       'stats.crit', 'stats.critperlevel'], axis=1, inplace=True)"
   ],
   "metadata": {
    "collapsed": false,
    "ExecuteTime": {
     "end_time": "2023-11-24T20:20:45.287794400Z",
     "start_time": "2023-11-24T20:20:45.273131200Z"
    }
   },
   "id": "a66935e0914766d6"
  },
  {
   "cell_type": "code",
   "execution_count": 50,
   "outputs": [],
   "source": [
    "# Second, we rename some of the columns so that the column names are more trival.\n",
    "champion_data_df.rename(columns={'info.attack' : 'baseAttack', 'info.defense' : 'baseDefense',\n",
    "                                 'info.magic' : 'baseMagic', 'info.difficulty' : 'difficulty',\n",
    "                                 'stats.hp' : 'hp', 'stats.hpperlevel' : 'hpPerLevel',\n",
    "                                 'stats.mp' : 'mp', 'stats.mpperlevel' : 'mpPerLevel',\n",
    "                                 'stats.movespeed' : 'moveSpeed', 'stats.armor' : 'armor',\n",
    "                                 'stats.armorperlevel' : 'armorPerLevel', 'stats.spellblock' : 'spellBlock',\n",
    "                                 'stats.spellblockperlevel' : 'spellBlockPerLevel', 'stats.attackrange' : 'attackRange',\n",
    "                                 'stats.hpregen' : 'hpRegen', 'stats.hpregenperlevel' : 'hpRegenPerLevel',\n",
    "                                 'stats.mpregen' : 'mpRegen', 'stats.mpregenperlevel' : 'mpRegenPerLevel',\n",
    "                                 'stats.attackdamage' : 'attackDamage', 'stats.attackdamageperlevel' : 'attackDamagePerLevel',\n",
    "                                 'stats.attackspeed' : 'attackSpeed', 'stats.attackspeedperlevel' : 'attackSpeedPerLevel'}, inplace=True)"
   ],
   "metadata": {
    "collapsed": false,
    "ExecuteTime": {
     "end_time": "2023-11-24T20:20:48.953354600Z",
     "start_time": "2023-11-24T20:20:48.924145400Z"
    }
   },
   "id": "392952a0c5e258d4"
  },
  {
   "cell_type": "code",
   "execution_count": 51,
   "outputs": [],
   "source": [
    "champion_data_df.to_csv('championData.csv', index=False, encoding='utf-8')"
   ],
   "metadata": {
    "collapsed": false,
    "ExecuteTime": {
     "end_time": "2023-11-24T20:20:54.183828Z",
     "start_time": "2023-11-24T20:20:54.167206600Z"
    }
   },
   "id": "a7cc6b6b391fca57"
  },
  {
   "cell_type": "code",
   "execution_count": 52,
   "outputs": [],
   "source": [
    "# Load the newest version of riot_item.csv csv file\n",
    "item_data_df = pd.read_csv('C:\\\\Users\\\\Facu\\\\PycharmProjects\\\\Proyecto_Final_IA\\\\proyecto_final\\\\data\\\\riot_item.csv')"
   ],
   "metadata": {
    "collapsed": false,
    "ExecuteTime": {
     "end_time": "2023-11-24T20:20:59.813144300Z",
     "start_time": "2023-11-24T20:20:59.789257400Z"
    }
   },
   "id": "128fda3701b5a55f"
  },
  {
   "cell_type": "code",
   "execution_count": 53,
   "outputs": [],
   "source": [
    "# First, we need to drop 'Unnamed: 0'(Unnamed index column)\n",
    "item_data_df.drop(['Unnamed: 0'], axis=1, inplace=True)"
   ],
   "metadata": {
    "collapsed": false,
    "ExecuteTime": {
     "end_time": "2023-11-24T20:21:03.154557600Z",
     "start_time": "2023-11-24T20:21:03.149097800Z"
    }
   },
   "id": "a18791378b940baa"
  },
  {
   "cell_type": "code",
   "execution_count": 54,
   "outputs": [],
   "source": [
    "# Second, we need to rename some of the columns for this dataset.\n",
    "item_data_df.rename(columns={'item_id' : 'itemId', 'upper_item' : 'upperItem',\n",
    "                             'buy_price' : 'buyPrice', 'sell_price' : 'sellPrice'}, inplace=True)"
   ],
   "metadata": {
    "collapsed": false,
    "ExecuteTime": {
     "end_time": "2023-11-24T20:21:04.768754600Z",
     "start_time": "2023-11-24T20:21:04.743349500Z"
    }
   },
   "id": "58bdc47c005e7962"
  },
  {
   "cell_type": "code",
   "execution_count": 55,
   "outputs": [],
   "source": [
    "item_data_df.to_csv('itemData.csv', index=False, encoding='utf-8')"
   ],
   "metadata": {
    "collapsed": false,
    "ExecuteTime": {
     "end_time": "2023-11-24T20:21:08.132591200Z",
     "start_time": "2023-11-24T20:21:08.094870800Z"
    }
   },
   "id": "82603f00c615abab"
  },
  {
   "cell_type": "code",
   "execution_count": null,
   "outputs": [],
   "source": [],
   "metadata": {
    "collapsed": false
   },
   "id": "5f91f80c075e7f85"
  }
 ],
 "metadata": {
  "kernelspec": {
   "display_name": "Python 3",
   "language": "python",
   "name": "python3"
  },
  "language_info": {
   "codemirror_mode": {
    "name": "ipython",
    "version": 2
   },
   "file_extension": ".py",
   "mimetype": "text/x-python",
   "name": "python",
   "nbconvert_exporter": "python",
   "pygments_lexer": "ipython2",
   "version": "2.7.6"
  }
 },
 "nbformat": 4,
 "nbformat_minor": 5
}
