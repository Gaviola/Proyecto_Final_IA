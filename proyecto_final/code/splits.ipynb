{
 "cells": [
  {
   "cell_type": "code",
   "execution_count": 1,
   "id": "initial_id",
   "metadata": {
    "collapsed": true,
    "ExecuteTime": {
     "end_time": "2023-12-19T21:57:14.198917800Z",
     "start_time": "2023-12-19T21:57:13.751946700Z"
    }
   },
   "outputs": [],
   "source": [
    "from sklearn.model_selection import train_test_split,cross_val_score, KFold\n",
    "from sklearn.ensemble import RandomForestClassifier, RandomForestRegressor,HistGradientBoostingRegressor\n",
    "from sklearn.model_selection import RandomizedSearchCV\n",
    "from scipy.stats import randint\n",
    "import seaborn as sns\n",
    "import numpy as np\n",
    "import pandas as pd\n",
    "import xgboost as xgb"
   ]
  },
  {
   "cell_type": "code",
   "execution_count": 6,
   "outputs": [],
   "source": [
    "match_data = pd.read_csv('..\\\\Data\\\\matchData2.csv')\n",
    "wins = pd.read_csv('..\\\\Data\\\\matchDataWins.csv')"
   ],
   "metadata": {
    "collapsed": false,
    "ExecuteTime": {
     "end_time": "2023-12-19T22:00:14.273158100Z",
     "start_time": "2023-12-19T22:00:13.803229700Z"
    }
   },
   "id": "90d74a278fdf4537"
  },
  {
   "cell_type": "code",
   "execution_count": 73,
   "outputs": [],
   "source": [
    "# Realizo el split de los datos con un random state de 42 para que siempre se divida igual\n",
    "predictors_train, predictors_test, wins_team1_train, wins_team1_test, wins_team2_train, wins_team2_test = train_test_split(predictors, win_team1, win_team2, test_size=0.2, random_state=42)\n",
    "\n",
    "# Transformo los datos a formato csv\n",
    "predictors_train.to_csv('..\\\\Data\\\\predictors_train.csv', index=False)\n",
    "predictors_test.to_csv('..\\\\Data\\\\predictors_test.csv', index=False)\n",
    "wins_team1_train.to_csv('..\\\\Data\\\\wins_team1_train.csv', index=False)\n",
    "wins_team1_test.to_csv('..\\\\Data\\\\wins_team1_test.csv', index=False)\n",
    "wins_team2_train.to_csv('..\\\\Data\\\\wins_team2_train.csv', index=False)\n",
    "wins_team2_test.to_csv('..\\\\Data\\\\wins_team2_test.csv', index=False)"
   ],
   "metadata": {
    "collapsed": false,
    "ExecuteTime": {
     "end_time": "2023-12-19T18:39:19.641147700Z",
     "start_time": "2023-12-19T18:39:17.859086Z"
    }
   },
   "id": "e57e7856e8f564db"
  },
  {
   "cell_type": "code",
   "execution_count": null,
   "outputs": [],
   "source": [
    "match_data = match_data.drop(['win_team1', 'win_team2'], axis=1)"
   ],
   "metadata": {
    "collapsed": false
   },
   "id": "7d41f478570f412c"
  },
  {
   "cell_type": "code",
   "execution_count": 7,
   "outputs": [],
   "source": [
    "match_data = match_data.drop(['firstBaronTeam1', 'firstBaronTeam2'], axis=1)\n",
    "predictors = match_data\n",
    "win_team1 = pd.DataFrame(wins['win_team1'])\n",
    "win_team2 = pd.DataFrame(wins['win_team2'])"
   ],
   "metadata": {
    "collapsed": false,
    "ExecuteTime": {
     "end_time": "2023-12-19T22:00:18.601385600Z",
     "start_time": "2023-12-19T22:00:18.578760400Z"
    }
   },
   "id": "c89f03e71c4c94a4"
  },
  {
   "cell_type": "code",
   "execution_count": 8,
   "outputs": [],
   "source": [
    "# Modelos utilizados\n",
    "RF_classifier = RandomForestClassifier()\n",
    "RF_regressor = RandomForestRegressor()\n",
    "B_classifier = xgb.XGBClassifier()\n",
    "B_regressor = HistGradientBoostingRegressor()"
   ],
   "metadata": {
    "collapsed": false,
    "ExecuteTime": {
     "end_time": "2023-12-19T22:00:20.764465900Z",
     "start_time": "2023-12-19T22:00:20.754610700Z"
    }
   },
   "id": "f4e2e524ecf3ef4a"
  },
  {
   "cell_type": "code",
   "execution_count": 5,
   "outputs": [
    {
     "name": "stdout",
     "output_type": "stream",
     "text": [
      "Precisión de Validación Cruzada en RF: [0.74705324 0.74904033 0.7479113  0.74402746 0.74600307]\n",
      "Precisión Promedio en RF: 74.68%\n",
      "Precisión de Validación Cruzada en Boosting con victorias del equipo 1: [0.75351127 0.75608544 0.75734995 0.75184031 0.75467437]\n",
      "Precisión Promedio en Boosting con victorias del equipo 1: 75.47%\n",
      "Precisión de Validación Cruzada en Boosting con victorias del equipo 2: [0.75351127 0.75608544 0.75734995 0.75184031 0.75467437]\n",
      "Precisión Promedio en Boosting con victorias del equipo 2: 75.47%\n"
     ]
    }
   ],
   "source": [
    "# Aplicamos Cross Validation a los modelos\n",
    "kfold = KFold(n_splits=5, shuffle=True, random_state=42)\n",
    "\n",
    "# Realizar la validación cruzada y obtener los puntajes de rendimiento para la predicción de partidas\n",
    "RF_scores_win = cross_val_score(RF_classifier, predictors, wins, cv=kfold, n_jobs=-1)\n",
    "B_scores_win1 = cross_val_score(B_classifier, predictors, win_team1, cv=kfold, n_jobs=-1)\n",
    "B_scores_win2 = cross_val_score(B_classifier, predictors, win_team2, cv=kfold, n_jobs=-1)\n",
    "\n",
    "\n",
    "# Imprimir los resultados\n",
    "print(\"Precisión de Validación Cruzada en RF:\", RF_scores_win)\n",
    "print(\"Precisión Promedio en RF: {:.2f}%\".format(100 * RF_scores_win.mean()))\n",
    "print(\"Precisión de Validación Cruzada en Boosting con victorias del equipo 1:\", B_scores_win1)\n",
    "print(\"Precisión Promedio en Boosting con victorias del equipo 1: {:.2f}%\".format(100 * B_scores_win1.mean()))\n",
    "print(\"Precisión de Validación Cruzada en Boosting con victorias del equipo 2:\", B_scores_win2)\n",
    "print(\"Precisión Promedio en Boosting con victorias del equipo 2: {:.2f}%\".format(100 * B_scores_win2.mean()))"
   ],
   "metadata": {
    "collapsed": false,
    "ExecuteTime": {
     "end_time": "2023-12-19T21:59:44.874635200Z",
     "start_time": "2023-12-19T21:57:48.162540800Z"
    }
   },
   "id": "66eadffd9f508840"
  },
  {
   "cell_type": "code",
   "execution_count": 9,
   "outputs": [],
   "source": [
    "game_duration = match_data['gameDuration']\n",
    "match_data = match_data.drop(['gameDuration'], axis=1)\n",
    "predictors = match_data"
   ],
   "metadata": {
    "collapsed": false,
    "ExecuteTime": {
     "end_time": "2023-12-19T22:00:24.381019800Z",
     "start_time": "2023-12-19T22:00:24.358518500Z"
    }
   },
   "id": "3367dc4f3b44a88a"
  },
  {
   "cell_type": "code",
   "execution_count": 10,
   "outputs": [
    {
     "name": "stdout",
     "output_type": "stream",
     "text": [
      "Error cuadratico medio de Validación Cruzada en RF: [103449.03486657 104784.67593615 104292.78388293 104216.90298291\n",
      " 103801.5763174 ]\n",
      "Error cuadratico medio Promedio en RF: 104108.99\n",
      "Error cuadratico medio de Validación Cruzada en Boosting: [102085.94799173 102713.90984556 102927.14190557 102568.64864911\n",
      " 101321.97685493]\n",
      "Error cuadratico medio Promedio en Boosting: 102323.53\n"
     ]
    }
   ],
   "source": [
    "# Aplicamos Cross Validation a los modelos para la predicción de la duración de las partidas\n",
    "RF_scores_time = cross_val_score(RF_regressor, predictors, game_duration, cv=kfold, n_jobs=-1, scoring='neg_mean_squared_error')\n",
    "B_scores_time = cross_val_score(B_regressor, predictors, game_duration, cv=kfold, n_jobs=-1, scoring='neg_mean_squared_error')\n",
    "\n",
    "# Imprimir los resultados\n",
    "print(\"Error cuadratico medio de Validación Cruzada en RF:\", -1 * RF_scores_time)\n",
    "print(\"Error cuadratico medio Promedio en RF: {:.2f}\".format(-1 * RF_scores_time.mean()))\n",
    "print(\"Error cuadratico medio de Validación Cruzada en Boosting:\", -1 * B_scores_time)\n",
    "print(\"Error cuadratico medio Promedio en Boosting: {:.2f}\".format(-1 * B_scores_time.mean()))"
   ],
   "metadata": {
    "collapsed": false,
    "ExecuteTime": {
     "end_time": "2023-12-19T22:13:19.565918500Z",
     "start_time": "2023-12-19T22:00:28.673603600Z"
    }
   },
   "id": "454723d0be68086"
  },
  {
   "cell_type": "code",
   "execution_count": 11,
   "outputs": [
    {
     "name": "stdout",
     "output_type": "stream",
     "text": [
      "Fitting 3 folds for each of 25 candidates, totalling 75 fits\n"
     ]
    },
    {
     "data": {
      "text/plain": "{'bootstrap': True,\n 'max_depth': 15,\n 'max_features': 11,\n 'min_samples_leaf': 8,\n 'min_samples_split': 8,\n 'n_estimators': 171}"
     },
     "execution_count": 11,
     "metadata": {},
     "output_type": "execute_result"
    }
   ],
   "source": [
    "# Buscamos los mejores parametros para el modelo de Random Forest para clasificacion (te detona la compu si lo ejecutas)\n",
    "param_distributions = { \n",
    "    'n_estimators': randint(50, 500),\n",
    "    'max_depth': randint(1, 20),\n",
    "    'max_features': randint(1, 20),\n",
    "    'min_samples_leaf': randint(1, 20),\n",
    "    'min_samples_split': randint(2, 20),\n",
    "    'bootstrap': [True, False]\n",
    "}\n",
    "\n",
    "random_search = RandomizedSearchCV(RF_classifier, param_distributions=param_distributions, n_iter=25, cv=3, verbose=2, random_state=42, n_jobs=-1)\n",
    "random_search.fit(predictors, wins)\n",
    "random_search.best_params_"
   ],
   "metadata": {
    "collapsed": false,
    "ExecuteTime": {
     "end_time": "2023-12-19T22:36:01.409390300Z",
     "start_time": "2023-12-19T22:30:35.341903500Z"
    }
   },
   "id": "e1501a7d9865c39f"
  },
  {
   "cell_type": "code",
   "execution_count": 18,
   "outputs": [
    {
     "name": "stdout",
     "output_type": "stream",
     "text": [
      "Fitting 3 folds for each of 25 candidates, totalling 75 fits\n"
     ]
    },
    {
     "data": {
      "text/plain": "{'bootstrap': False,\n 'max_depth': 18,\n 'max_features': 8,\n 'min_samples_leaf': 4,\n 'min_samples_split': 3,\n 'n_estimators': 439}"
     },
     "execution_count": 18,
     "metadata": {},
     "output_type": "execute_result"
    }
   ],
   "source": [
    "# Buscamos los mejores parametros para el modelo de Random Forest para regresion (te detona la compu si lo ejecutas)\n",
    "param_distributions = { \n",
    "    'n_estimators': randint(50, 500),\n",
    "    'max_depth': randint(1, 20),\n",
    "    'max_features': randint(1, 20),\n",
    "    'min_samples_leaf': randint(1, 20),\n",
    "    'min_samples_split': randint(2, 20),\n",
    "    'bootstrap': [True, False]\n",
    "}\n",
    "\n",
    "random_search = RandomizedSearchCV(RF_regressor, param_distributions=param_distributions, n_iter=25, cv=3, verbose=2, random_state=42, n_jobs=-1)\n",
    "random_search.fit(predictors, game_duration)\n",
    "random_search.best_params_"
   ],
   "metadata": {
    "collapsed": false,
    "ExecuteTime": {
     "end_time": "2023-12-20T00:00:50.579557600Z",
     "start_time": "2023-12-19T23:36:47.755967600Z"
    }
   },
   "id": "5c3bd91f0b2376ea"
  },
  {
   "cell_type": "code",
   "execution_count": 19,
   "outputs": [
    {
     "name": "stdout",
     "output_type": "stream",
     "text": [
      "Fitting 5 folds for each of 150 candidates, totalling 750 fits\n"
     ]
    },
    {
     "data": {
      "text/plain": "{'eta': 0.5,\n 'gamma': 1,\n 'learning_rate': 0.01,\n 'max_depth': 15,\n 'n_estimators': 156,\n 'reg_alpha': 1}"
     },
     "execution_count": 19,
     "metadata": {},
     "output_type": "execute_result"
    }
   ],
   "source": [
    "# Buscamos los mejores parametros para el modelo de Boosting para clasificacion (El resultado encontrado es peor que los parametros por defecto)\n",
    "param_distributions = { \n",
    "    'learning_rate': [0.01, 0.1, 0.2],\n",
    "    'max_depth': randint(1, 20),\n",
    "    'n_estimators': randint(50, 500),\n",
    "    'gamma': [0, 0.1, 0.5, 1],\n",
    "    'reg_alpha': [0, 0.1, 0.5, 1],\n",
    "    'eta': [0.01, 0.1, 0.5, 1],\n",
    "}\n",
    "\n",
    "random_search = RandomizedSearchCV(B_classifier, param_distributions=param_distributions, n_iter=150, cv=5, verbose=2, random_state=42, n_jobs=-1)\n",
    "random_search.fit(predictors, wins)\n",
    "random_search.best_params_"
   ],
   "metadata": {
    "collapsed": false,
    "ExecuteTime": {
     "end_time": "2023-12-20T00:13:53.829517100Z",
     "start_time": "2023-12-20T00:00:50.573562400Z"
    }
   },
   "id": "23a155db1c69bdd5"
  },
  {
   "cell_type": "code",
   "execution_count": 22,
   "outputs": [
    {
     "name": "stdout",
     "output_type": "stream",
     "text": [
      "Fitting 5 folds for each of 500 candidates, totalling 2500 fits\n"
     ]
    },
    {
     "data": {
      "text/plain": "{'l2_regularization': 0.5,\n 'learning_rate': 0.5,\n 'max_depth': 10,\n 'max_iter': 16,\n 'max_leaf_nodes': 16,\n 'min_samples_leaf': 15}"
     },
     "execution_count": 22,
     "metadata": {},
     "output_type": "execute_result"
    }
   ],
   "source": [
    "# Buscamos los mejores parametros para el modelo de Boosting para regresion \n",
    "param_distributions = { \n",
    "    'learning_rate': [0.01, 0.1, 0.5, 1],\n",
    "    'max_depth': randint(1, 20),\n",
    "    'max_iter': randint(1, 20),\n",
    "    'max_leaf_nodes': randint(2, 20),\n",
    "    'min_samples_leaf': randint(1, 20),\n",
    "    'l2_regularization': [0, 0.1, 0.5, 1]\n",
    "}\n",
    "\n",
    "random_search = RandomizedSearchCV(B_regressor, param_distributions=param_distributions, n_iter=500, cv=5, verbose=2, random_state=42, n_jobs=-1)\n",
    "random_search.fit(predictors, game_duration)\n",
    "random_search.best_params_"
   ],
   "metadata": {
    "collapsed": false,
    "ExecuteTime": {
     "end_time": "2023-12-20T00:41:16.230150500Z",
     "start_time": "2023-12-20T00:36:41.555022800Z"
    }
   },
   "id": "af709f8b773617c1"
  },
  {
   "cell_type": "code",
   "execution_count": null,
   "outputs": [],
   "source": [],
   "metadata": {
    "collapsed": false
   },
   "id": "9009e0a3a45289bd"
  }
 ],
 "metadata": {
  "kernelspec": {
   "display_name": "Python 3",
   "language": "python",
   "name": "python3"
  },
  "language_info": {
   "codemirror_mode": {
    "name": "ipython",
    "version": 2
   },
   "file_extension": ".py",
   "mimetype": "text/x-python",
   "name": "python",
   "nbconvert_exporter": "python",
   "pygments_lexer": "ipython2",
   "version": "2.7.6"
  }
 },
 "nbformat": 4,
 "nbformat_minor": 5
}
