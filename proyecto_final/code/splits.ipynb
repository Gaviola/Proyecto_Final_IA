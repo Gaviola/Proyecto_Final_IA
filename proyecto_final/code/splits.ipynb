{
 "cells": [
  {
   "cell_type": "code",
   "execution_count": 53,
   "id": "initial_id",
   "metadata": {
    "collapsed": true,
    "ExecuteTime": {
     "end_time": "2023-12-19T15:41:41.171983300Z",
     "start_time": "2023-12-19T15:41:41.164628100Z"
    }
   },
   "outputs": [],
   "source": [
    "from sklearn.model_selection import train_test_split,cross_val_score, KFold\n",
    "from sklearn.ensemble import RandomForestClassifier, RandomForestRegressor,HistGradientBoostingRegressor\n",
    "import seaborn as sns\n",
    "import numpy as np\n",
    "import pandas as pd\n",
    "import xgboost as xgb"
   ]
  },
  {
   "cell_type": "code",
   "execution_count": 54,
   "outputs": [],
   "source": [
    "match_data = pd.read_csv('..\\\\Data\\\\matchData2.csv')\n",
    "wins = pd.read_csv('..\\\\Data\\\\matchDataWins.csv')"
   ],
   "metadata": {
    "collapsed": false,
    "ExecuteTime": {
     "end_time": "2023-12-19T15:41:41.664243300Z",
     "start_time": "2023-12-19T15:41:41.175981100Z"
    }
   },
   "id": "90d74a278fdf4537"
  },
  {
   "cell_type": "code",
   "execution_count": 55,
   "outputs": [],
   "source": [
    "match_data = match_data.drop(['firstBaronTeam1', 'firstBaronTeam2', 'win_team1', 'win_team2'], axis=1)\n",
    "predictors = match_data\n",
    "win_team1 = pd.DataFrame(wins['win_team1'])\n",
    "win_team2 = pd.DataFrame(wins['win_team2'])"
   ],
   "metadata": {
    "collapsed": false,
    "ExecuteTime": {
     "end_time": "2023-12-19T15:41:41.668245500Z",
     "start_time": "2023-12-19T15:41:41.649956100Z"
    }
   },
   "id": "c89f03e71c4c94a4"
  },
  {
   "cell_type": "code",
   "execution_count": 56,
   "outputs": [],
   "source": [
    "# Modelos utilizados\n",
    "RF_classifier = RandomForestClassifier()\n",
    "RF_regressor = RandomForestRegressor()\n",
    "B_classifier = xgb.XGBClassifier()\n",
    "B_regressor = HistGradientBoostingRegressor()"
   ],
   "metadata": {
    "collapsed": false,
    "ExecuteTime": {
     "end_time": "2023-12-19T15:41:41.711192300Z",
     "start_time": "2023-12-19T15:41:41.668245500Z"
    }
   },
   "id": "f4e2e524ecf3ef4a"
  },
  {
   "cell_type": "code",
   "execution_count": 57,
   "outputs": [
    {
     "name": "stdout",
     "output_type": "stream",
     "text": [
      "Puntajes de Validación Cruzada en RF: [0.74700808 0.74660163 0.75053064 0.74371133 0.74342878]\n",
      "Precisión Promedio en RF: 74.63%\n",
      "Puntajes de Validación Cruzada en Boosting con victorias del equipo 1: [0.75351127 0.75608544 0.75734995 0.75184031 0.75467437]\n",
      "Precisión Promedio en Boosting con victorias del equipo 1: 75.47%\n",
      "Puntajes de Validación Cruzada en Boosting con victorias del equipo 2: [0.75351127 0.75608544 0.75734995 0.75184031 0.75467437]\n",
      "Precisión Promedio en Boosting con victorias del equipo 2: 75.47%\n"
     ]
    }
   ],
   "source": [
    "# Aplicamos Cross Validation a los modelos\n",
    "kfold = KFold(n_splits=5, shuffle=True, random_state=42)\n",
    "\n",
    "# Realizar la validación cruzada y obtener los puntajes de rendimiento para la predicción de partidas\n",
    "RF_scores_win = cross_val_score(RF_classifier, predictors, wins, cv=kfold, n_jobs=-1)\n",
    "B_scores_win1 = cross_val_score(B_classifier, predictors, win_team1, cv=kfold, n_jobs=-1)\n",
    "B_scores_win2 = cross_val_score(B_classifier, predictors, win_team2, cv=kfold, n_jobs=-1)\n",
    "\n",
    "\n",
    "# Imprimir los resultados\n",
    "print(\"Puntajes de Validación Cruzada en RF:\", RF_scores_win)\n",
    "print(\"Precisión Promedio en RF: {:.2f}%\".format(100 * RF_scores_win.mean()))\n",
    "print(\"Puntajes de Validación Cruzada en Boosting con victorias del equipo 1:\", B_scores_win1)\n",
    "print(\"Precisión Promedio en Boosting con victorias del equipo 1: {:.2f}%\".format(100 * B_scores_win1.mean()))\n",
    "print(\"Puntajes de Validación Cruzada en Boosting con victorias del equipo 2:\", B_scores_win2)\n",
    "print(\"Precisión Promedio en Boosting con victorias del equipo 2: {:.2f}%\".format(100 * B_scores_win2.mean()))"
   ],
   "metadata": {
    "collapsed": false,
    "ExecuteTime": {
     "end_time": "2023-12-19T15:43:54.667011900Z",
     "start_time": "2023-12-19T15:41:41.677206500Z"
    }
   },
   "id": "66eadffd9f508840"
  },
  {
   "cell_type": "code",
   "execution_count": 58,
   "outputs": [],
   "source": [
    "game_duration = match_data['gameDuration']\n",
    "match_data = match_data.drop(['gameDuration'], axis=1)\n",
    "predictors = match_data"
   ],
   "metadata": {
    "collapsed": false,
    "ExecuteTime": {
     "end_time": "2023-12-19T15:43:54.678790900Z",
     "start_time": "2023-12-19T15:43:54.659016400Z"
    }
   },
   "id": "3367dc4f3b44a88a"
  },
  {
   "cell_type": "code",
   "execution_count": 59,
   "outputs": [
    {
     "name": "stdout",
     "output_type": "stream",
     "text": [
      "Puntajes de Validación Cruzada en RF: [114321.00357182 115701.16829645 115418.82430958 114150.6218106\n",
      " 113575.82747411]\n",
      "Raíz cuadrada media Promedio en RF: 114633.49\n",
      "Puntajes de Validación Cruzada en Boosting: [111854.4188323  113049.58511378 112576.81527083 111944.69104756\n",
      " 110922.52557155]\n",
      "Raíz cuadrada media Promedio en Boosting: 112069.61\n"
     ]
    }
   ],
   "source": [
    "# Aplicamos Cross Validation a los modelos para la predicción de la duración de las partidas\n",
    "RF_scores_time = cross_val_score(RF_regressor, predictors, game_duration, cv=kfold, n_jobs=-1, scoring='neg_mean_squared_error')\n",
    "B_scores_time = cross_val_score(B_regressor, predictors, game_duration, cv=kfold, n_jobs=-1, scoring='neg_mean_squared_error')\n",
    "\n",
    "# Imprimir los resultados\n",
    "print(\"Puntajes de Validación Cruzada en RF:\", -1 * RF_scores_time)\n",
    "print(\"Raíz cuadrada media Promedio en RF: {:.2f}\".format(-1 * RF_scores_time.mean()))\n",
    "print(\"Puntajes de Validación Cruzada en Boosting:\", -1 * B_scores_time)\n",
    "print(\"Raíz cuadrada media Promedio en Boosting: {:.2f}\".format(-1 * B_scores_time.mean()))"
   ],
   "metadata": {
    "collapsed": false,
    "ExecuteTime": {
     "end_time": "2023-12-19T15:56:59.035738500Z",
     "start_time": "2023-12-19T15:43:54.674792200Z"
    }
   },
   "id": "454723d0be68086"
  },
  {
   "cell_type": "code",
   "execution_count": 59,
   "outputs": [],
   "source": [],
   "metadata": {
    "collapsed": false,
    "ExecuteTime": {
     "end_time": "2023-12-19T15:56:59.039737Z",
     "start_time": "2023-12-19T15:56:59.031224300Z"
    }
   },
   "id": "e57e7856e8f564db"
  }
 ],
 "metadata": {
  "kernelspec": {
   "display_name": "Python 3",
   "language": "python",
   "name": "python3"
  },
  "language_info": {
   "codemirror_mode": {
    "name": "ipython",
    "version": 2
   },
   "file_extension": ".py",
   "mimetype": "text/x-python",
   "name": "python",
   "nbconvert_exporter": "python",
   "pygments_lexer": "ipython2",
   "version": "2.7.6"
  }
 },
 "nbformat": 4,
 "nbformat_minor": 5
}
