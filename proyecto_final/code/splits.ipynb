{
 "cells": [
  {
   "cell_type": "code",
   "execution_count": 71,
   "id": "initial_id",
   "metadata": {
    "collapsed": true,
    "ExecuteTime": {
     "end_time": "2023-12-19T18:39:04.839714600Z",
     "start_time": "2023-12-19T18:39:04.823354200Z"
    }
   },
   "outputs": [],
   "source": [
    "from sklearn.model_selection import train_test_split,cross_val_score, KFold\n",
    "from sklearn.ensemble import RandomForestClassifier, RandomForestRegressor,HistGradientBoostingRegressor\n",
    "from sklearn.model_selection import RandomizedSearchCV\n",
    "from scipy.stats import randint\n",
    "import seaborn as sns\n",
    "import numpy as np\n",
    "import pandas as pd\n",
    "import xgboost as xgb"
   ]
  },
  {
   "cell_type": "code",
   "execution_count": 72,
   "outputs": [],
   "source": [
    "match_data = pd.read_csv('..\\\\Data\\\\matchData2.csv')\n",
    "wins = pd.read_csv('..\\\\Data\\\\matchDataWins.csv')"
   ],
   "metadata": {
    "collapsed": false,
    "ExecuteTime": {
     "end_time": "2023-12-19T18:39:06.363855200Z",
     "start_time": "2023-12-19T18:39:05.847661300Z"
    }
   },
   "id": "90d74a278fdf4537"
  },
  {
   "cell_type": "code",
   "execution_count": 73,
   "outputs": [],
   "source": [
    "# Realizo el split de los datos con un random state de 42 para que siempre se divida igual\n",
    "predictors_train, predictors_test, wins_team1_train, wins_team1_test, wins_team2_train, wins_team2_test = train_test_split(predictors, win_team1, win_team2, test_size=0.2, random_state=42)\n",
    "\n",
    "# Transformo los datos a formato csv\n",
    "predictors_train.to_csv('..\\\\Data\\\\predictors_train.csv', index=False)\n",
    "predictors_test.to_csv('..\\\\Data\\\\predictors_test.csv', index=False)\n",
    "wins_team1_train.to_csv('..\\\\Data\\\\wins_team1_train.csv', index=False)\n",
    "wins_team1_test.to_csv('..\\\\Data\\\\wins_team1_test.csv', index=False)\n",
    "wins_team2_train.to_csv('..\\\\Data\\\\wins_team2_train.csv', index=False)\n",
    "wins_team2_test.to_csv('..\\\\Data\\\\wins_team2_test.csv', index=False)"
   ],
   "metadata": {
    "collapsed": false,
    "ExecuteTime": {
     "end_time": "2023-12-19T18:39:19.641147700Z",
     "start_time": "2023-12-19T18:39:17.859086Z"
    }
   },
   "id": "e57e7856e8f564db"
  },
  {
   "cell_type": "code",
   "execution_count": 65,
   "outputs": [],
   "source": [
    "match_data = match_data.drop(['firstBaronTeam1', 'firstBaronTeam2', 'win_team1', 'win_team2'], axis=1)\n",
    "predictors = match_data\n",
    "win_team1 = pd.DataFrame(wins['win_team1'])\n",
    "win_team2 = pd.DataFrame(wins['win_team2'])"
   ],
   "metadata": {
    "collapsed": false,
    "ExecuteTime": {
     "end_time": "2023-12-19T17:11:12.003688900Z",
     "start_time": "2023-12-19T17:11:11.984945200Z"
    }
   },
   "id": "c89f03e71c4c94a4"
  },
  {
   "cell_type": "code",
   "execution_count": 66,
   "outputs": [],
   "source": [
    "# Modelos utilizados\n",
    "RF_classifier = RandomForestClassifier()\n",
    "RF_regressor = RandomForestRegressor()\n",
    "B_classifier = xgb.XGBClassifier()\n",
    "B_regressor = HistGradientBoostingRegressor()"
   ],
   "metadata": {
    "collapsed": false,
    "ExecuteTime": {
     "end_time": "2023-12-19T17:11:17.961221200Z",
     "start_time": "2023-12-19T17:11:17.953337300Z"
    }
   },
   "id": "f4e2e524ecf3ef4a"
  },
  {
   "cell_type": "code",
   "execution_count": 57,
   "outputs": [
    {
     "name": "stdout",
     "output_type": "stream",
     "text": [
      "Puntajes de Validación Cruzada en RF: [0.74700808 0.74660163 0.75053064 0.74371133 0.74342878]\n",
      "Precisión Promedio en RF: 74.63%\n",
      "Puntajes de Validación Cruzada en Boosting con victorias del equipo 1: [0.75351127 0.75608544 0.75734995 0.75184031 0.75467437]\n",
      "Precisión Promedio en Boosting con victorias del equipo 1: 75.47%\n",
      "Puntajes de Validación Cruzada en Boosting con victorias del equipo 2: [0.75351127 0.75608544 0.75734995 0.75184031 0.75467437]\n",
      "Precisión Promedio en Boosting con victorias del equipo 2: 75.47%\n"
     ]
    }
   ],
   "source": [
    "# Aplicamos Cross Validation a los modelos\n",
    "kfold = KFold(n_splits=5, shuffle=True, random_state=42)\n",
    "\n",
    "# Realizar la validación cruzada y obtener los puntajes de rendimiento para la predicción de partidas\n",
    "RF_scores_win = cross_val_score(RF_classifier, predictors, wins, cv=kfold, n_jobs=-1)\n",
    "B_scores_win1 = cross_val_score(B_classifier, predictors, win_team1, cv=kfold, n_jobs=-1)\n",
    "B_scores_win2 = cross_val_score(B_classifier, predictors, win_team2, cv=kfold, n_jobs=-1)\n",
    "\n",
    "\n",
    "# Imprimir los resultados\n",
    "print(\"Puntajes de Validación Cruzada en RF:\", RF_scores_win)\n",
    "print(\"Precisión Promedio en RF: {:.2f}%\".format(100 * RF_scores_win.mean()))\n",
    "print(\"Puntajes de Validación Cruzada en Boosting con victorias del equipo 1:\", B_scores_win1)\n",
    "print(\"Precisión Promedio en Boosting con victorias del equipo 1: {:.2f}%\".format(100 * B_scores_win1.mean()))\n",
    "print(\"Puntajes de Validación Cruzada en Boosting con victorias del equipo 2:\", B_scores_win2)\n",
    "print(\"Precisión Promedio en Boosting con victorias del equipo 2: {:.2f}%\".format(100 * B_scores_win2.mean()))"
   ],
   "metadata": {
    "collapsed": false,
    "ExecuteTime": {
     "end_time": "2023-12-19T15:43:54.667011900Z",
     "start_time": "2023-12-19T15:41:41.677206500Z"
    }
   },
   "id": "66eadffd9f508840"
  },
  {
   "cell_type": "code",
   "execution_count": 58,
   "outputs": [],
   "source": [
    "game_duration = match_data['gameDuration']\n",
    "match_data = match_data.drop(['gameDuration'], axis=1)\n",
    "predictors = match_data"
   ],
   "metadata": {
    "collapsed": false,
    "ExecuteTime": {
     "end_time": "2023-12-19T15:43:54.678790900Z",
     "start_time": "2023-12-19T15:43:54.659016400Z"
    }
   },
   "id": "3367dc4f3b44a88a"
  },
  {
   "cell_type": "code",
   "execution_count": 59,
   "outputs": [
    {
     "name": "stdout",
     "output_type": "stream",
     "text": [
      "Puntajes de Validación Cruzada en RF: [114321.00357182 115701.16829645 115418.82430958 114150.6218106\n",
      " 113575.82747411]\n",
      "Raíz cuadrada media Promedio en RF: 114633.49\n",
      "Puntajes de Validación Cruzada en Boosting: [111854.4188323  113049.58511378 112576.81527083 111944.69104756\n",
      " 110922.52557155]\n",
      "Raíz cuadrada media Promedio en Boosting: 112069.61\n"
     ]
    }
   ],
   "source": [
    "# Aplicamos Cross Validation a los modelos para la predicción de la duración de las partidas\n",
    "RF_scores_time = cross_val_score(RF_regressor, predictors, game_duration, cv=kfold, n_jobs=-1, scoring='neg_mean_squared_error')\n",
    "B_scores_time = cross_val_score(B_regressor, predictors, game_duration, cv=kfold, n_jobs=-1, scoring='neg_mean_squared_error')\n",
    "\n",
    "# Imprimir los resultados\n",
    "print(\"Puntajes de Validación Cruzada en RF:\", -1 * RF_scores_time)\n",
    "print(\"Raíz cuadrada media Promedio en RF: {:.2f}\".format(-1 * RF_scores_time.mean()))\n",
    "print(\"Puntajes de Validación Cruzada en Boosting:\", -1 * B_scores_time)\n",
    "print(\"Raíz cuadrada media Promedio en Boosting: {:.2f}\".format(-1 * B_scores_time.mean()))"
   ],
   "metadata": {
    "collapsed": false,
    "ExecuteTime": {
     "end_time": "2023-12-19T15:56:59.035738500Z",
     "start_time": "2023-12-19T15:43:54.674792200Z"
    }
   },
   "id": "454723d0be68086"
  },
  {
   "cell_type": "code",
   "execution_count": 70,
   "outputs": [
    {
     "name": "stdout",
     "output_type": "stream",
     "text": [
      "Fitting 2 folds for each of 20 candidates, totalling 40 fits\n"
     ]
    },
    {
     "data": {
      "text/plain": "{'bootstrap': True,\n 'max_depth': 15,\n 'max_features': 11,\n 'min_samples_leaf': 8,\n 'min_samples_split': 8,\n 'n_estimators': 171}"
     },
     "execution_count": 70,
     "metadata": {},
     "output_type": "execute_result"
    }
   ],
   "source": [
    "# Buscamos los mejores parametros para el modelo de Random Forest para clasificacion ()\n",
    "param_distributions = { \n",
    "    'n_estimators': randint(50, 500),\n",
    "    'max_depth': randint(1, 20),\n",
    "    'max_features': randint(1, 20),\n",
    "    'min_samples_leaf': randint(1, 20),\n",
    "    'min_samples_split': randint(2, 20),\n",
    "    'bootstrap': [True, False]\n",
    "}\n",
    "\n",
    "random_search = RandomizedSearchCV(RF_classifier, param_distributions=param_distributions, n_iter=20, cv=2, verbose=2, random_state=42, n_jobs=-1)\n",
    "random_search.fit(predictors, wins)\n",
    "random_search.best_params_"
   ],
   "metadata": {
    "collapsed": false,
    "ExecuteTime": {
     "end_time": "2023-12-19T18:38:51.122199100Z",
     "start_time": "2023-12-19T18:26:16.785128900Z"
    }
   },
   "id": "e1501a7d9865c39f"
  },
  {
   "cell_type": "code",
   "execution_count": null,
   "outputs": [],
   "source": [],
   "metadata": {
    "collapsed": false
   },
   "id": "5c3bd91f0b2376ea"
  }
 ],
 "metadata": {
  "kernelspec": {
   "display_name": "Python 3",
   "language": "python",
   "name": "python3"
  },
  "language_info": {
   "codemirror_mode": {
    "name": "ipython",
    "version": 2
   },
   "file_extension": ".py",
   "mimetype": "text/x-python",
   "name": "python",
   "nbconvert_exporter": "python",
   "pygments_lexer": "ipython2",
   "version": "2.7.6"
  }
 },
 "nbformat": 4,
 "nbformat_minor": 5
}
