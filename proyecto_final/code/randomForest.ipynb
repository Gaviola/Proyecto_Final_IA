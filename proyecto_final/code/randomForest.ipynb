{
 "cells": [
  {
   "cell_type": "code",
   "execution_count": 1,
   "id": "initial_id",
   "metadata": {
    "collapsed": true,
    "ExecuteTime": {
     "end_time": "2023-11-29T23:20:10.731043400Z",
     "start_time": "2023-11-29T23:20:09.875951700Z"
    }
   },
   "outputs": [],
   "source": [
    "from sklearn.ensemble import RandomForestClassifier\n",
    "from sklearn.model_selection import train_test_split\n",
    "from sklearn.metrics import accuracy_score\n",
    "import pandas as pd"
   ]
  },
  {
   "cell_type": "code",
   "execution_count": 2,
   "outputs": [],
   "source": [
    "match_data = pd.read_csv('D:\\\\Facultad\\\\3_año\\\\Inteligencia_Artificial_1\\\\Dataset\\\\matchDataClean.csv')\n",
    "#Serializamos el data frame\n",
    "match_data['teams'] = match_data['teams'].apply(eval)  # Convierte la cadena JSON a una lista de diccionarios\n"
   ],
   "metadata": {
    "collapsed": false,
    "ExecuteTime": {
     "end_time": "2023-11-29T23:20:32.504075600Z",
     "start_time": "2023-11-29T23:20:15.213864800Z"
    }
   },
   "id": "35aad2fcc7851554"
  },
  {
   "cell_type": "code",
   "execution_count": 3,
   "outputs": [],
   "source": [
    "# agrega las columnas: firstBloodTeam1', 'firstTowerTeam1,'firstBaronTeam1','firstDragonTeam1', 'firstRiftHeraldTeam1', 'ban1Team1', 'ban2Team1', 'ban3Team1', 'ban4Team1', 'ban5Team1', champ1Team1, champ2Team1, champ3Team1, champ4Team1, champ5Team1, 'firstBloodTeam2', 'firstTowerTeam2', 'firstBaronTeam2', 'firstDragonTeam2', 'firstRiftHeraldTeam2', 'ban1Team2', 'ban2Team2', 'ban3Team2', 'ban4Team2', 'ban5Team2', champ1Team2, champ2Team2, champ3Team2, champ4Team2, champ5Team2.\n",
    "match_data['firstBloodTeam1'] = [None for _ in range(len(match_data))]\n",
    "match_data['firstTowerTeam1'] = [None for _ in range(len(match_data))]\n",
    "match_data['firstBaronTeam1'] = [None for _ in range(len(match_data))]\n",
    "match_data['firstDragonTeam1'] = [None for _ in range(len(match_data))]\n",
    "match_data['firstRiftHeraldTeam1'] = [None for _ in range(len(match_data))]\n",
    "match_data['ban1Team1'] = [None for _ in range(len(match_data))]\n",
    "match_data['ban2Team1'] = [None for _ in range(len(match_data))]\n",
    "match_data['ban3Team1'] = [None for _ in range(len(match_data))]\n",
    "match_data['ban4Team1'] = [None for _ in range(len(match_data))]\n",
    "match_data['ban5Team1'] = [None for _ in range(len(match_data))]\n",
    "match_data['champ1Team1'] = [None for _ in range(len(match_data))]\n",
    "match_data['champ2Team1'] = [None for _ in range(len(match_data))]\n",
    "match_data['champ3Team1'] = [None for _ in range(len(match_data))]\n",
    "match_data['champ4Team1'] = [None for _ in range(len(match_data))]\n",
    "match_data['champ5Team1'] = [None for _ in range(len(match_data))]\n",
    "match_data['firstBloodTeam2'] = [None for _ in range(len(match_data))]\n",
    "match_data['firstTowerTeam2'] = [None for _ in range(len(match_data))]\n",
    "match_data['firstBaronTeam2'] = [None for _ in range(len(match_data))]\n",
    "match_data['firstDragonTeam2'] = [None for _ in range(len(match_data))]\n",
    "match_data['firstRiftHeraldTeam2'] = [None for _ in range(len(match_data))]\n",
    "match_data['ban1Team2'] = [None for _ in range(len(match_data))]\n",
    "match_data['ban2Team2'] = [None for _ in range(len(match_data))]\n",
    "match_data['ban3Team2'] = [None for _ in range(len(match_data))]\n",
    "match_data['ban4Team2'] = [None for _ in range(len(match_data))]\n",
    "match_data['ban5Team2'] = [None for _ in range(len(match_data))]\n",
    "match_data['champ1Team2'] = [None for _ in range(len(match_data))]\n",
    "match_data['champ2Team2'] = [None for _ in range(len(match_data))]\n",
    "match_data['champ3Team2'] = [None for _ in range(len(match_data))]\n",
    "match_data['champ4Team2'] = [None for _ in range(len(match_data))]\n",
    "match_data['champ5Team2'] = [None for _ in range(len(match_data))]"
   ],
   "metadata": {
    "collapsed": false,
    "ExecuteTime": {
     "end_time": "2023-11-29T23:20:36.322232600Z",
     "start_time": "2023-11-29T23:20:35.760548400Z"
    }
   },
   "id": "2ef72d8fbc6cc53e"
  },
  {
   "cell_type": "code",
   "execution_count": 17,
   "outputs": [],
   "source": [
    "# Busca los valores de las columnas anteriores en la columna 'teams' y los agrega en las columnas correspondientes\n",
    "def get_team_data(teams, n):\n",
    "    team1 = None  \n",
    "    team2 = None  \n",
    "    for team in teams:\n",
    "        if team['teamId'] == 100:\n",
    "            team1 = team\n",
    "        else:\n",
    "            team2 = team\n",
    "    match_data.at[match_data.index[n], 'firstBloodTeam1'] = team1.get('firstBlood', None)\n",
    "    match_data.at[match_data.index[n], 'firstTowerTeam1'] = team1.get('firstTower', None)\n",
    "    match_data.at[match_data.index[n], 'firstBaronTeam1'] = team1.get('firstBaron', None)\n",
    "    match_data.at[match_data.index[n], 'firstDragonTeam1'] = team1.get('firstDragon', None)\n",
    "    match_data.at[match_data.index[n], 'firstRiftHeraldTeam1'] = team1.get('firstRiftHerald', None)\n",
    "    \n",
    "    if team1['bans']:\n",
    "        match_data.at[match_data.index[n], 'ban1Team1'] = team1['bans'][0].get('championId', None)\n",
    "        match_data.at[match_data.index[n], 'ban2Team1'] = team1['bans'][1].get('championId', None)\n",
    "        match_data.at[match_data.index[n], 'ban3Team1'] = team1['bans'][2].get('championId', None)\n",
    "        match_data.at[match_data.index[n], 'ban4Team1'] = team1['bans'][3].get('championId', None)\n",
    "        match_data.at[match_data.index[n], 'ban5Team1'] = team1['bans'][4].get('championId', None)\n",
    "\n",
    "    match_data.at[match_data.index[n], 'champ1Team1'] = team1.get('championId', None)\n",
    "    match_data.at[match_data.index[n], 'champ2Team1'] = team1.get('championId', None)\n",
    "    match_data.at[match_data.index[n], 'champ3Team1'] = team1.get('championId', None)\n",
    "    match_data.at[match_data.index[n], 'champ4Team1'] = team1.get('championId', None)\n",
    "    match_data.at[match_data.index[n], 'champ5Team1'] = team1.get('championId', None)\n",
    "    match_data.at[match_data.index[n], 'firstBloodTeam2'] = team2.get('firstBlood', None)\n",
    "    match_data.at[match_data.index[n], 'firstTowerTeam2'] = team2.get('firstTower', None)\n",
    "    match_data.at[match_data.index[n], 'firstBaronTeam2'] = team2.get('firstBaron', None)\n",
    "    match_data.at[match_data.index[n], 'firstDragonTeam2'] = team2.get('firstDragon', None)\n",
    "    match_data.at[match_data.index[n], 'firstRiftHeraldTeam2'] = team2.get('firstRiftHerald', None)\n",
    "    \n",
    "    if team2['bans']:\n",
    "        match_data.at[match_data.index[n], 'ban1Team2'] = team2['bans'][0].get('championId', None)\n",
    "        match_data.at[match_data.index[n], 'ban2Team2'] = team2['bans'][1].get('championId', None)\n",
    "        match_data.at[match_data.index[n], 'ban3Team2'] = team2['bans'][2].get('championId', None)\n",
    "        match_data.at[match_data.index[n], 'ban4Team2'] = team2['bans'][3].get('championId', None)\n",
    "        match_data.at[match_data.index[n], 'ban5Team2'] = team2['bans'][4].get('championId', None)\n",
    "\n",
    "    match_data.at[match_data.index[n], 'champ1Team2'] = team2.get('championId', None)\n",
    "    match_data.at[match_data.index[n], 'champ2Team2'] = team2.get('championId', None)\n",
    "    match_data.at[match_data.index[n], 'champ3Team2'] = team2.get('championId', None)\n",
    "    match_data.at[match_data.index[n], 'champ4Team2'] = team2.get('championId', None)\n",
    "    match_data.at[match_data.index[n], 'champ5Team2'] = team2.get('championId', None)\n",
    "    return n+1\n",
    "\n",
    "match_data['index'] = match_data.index\n",
    "match_data.apply(lambda row: get_team_data(row['teams'], row['index']), axis=1)  # Aplica la función a cada fila del dataframe\n",
    "match_data.drop('index', axis=1, inplace=True)  # Elimina la columna temporal 'index'\n"
   ],
   "metadata": {
    "collapsed": false,
    "ExecuteTime": {
     "end_time": "2023-11-30T00:20:05.382056700Z",
     "start_time": "2023-11-30T00:19:40.060312200Z"
    }
   },
   "id": "7e6b45238283ff0d"
  },
  {
   "cell_type": "code",
   "execution_count": 20,
   "outputs": [],
   "source": [
    "match_data['participants'] = match_data['participants'].apply(eval)"
   ],
   "metadata": {
    "collapsed": false,
    "ExecuteTime": {
     "end_time": "2023-11-30T00:29:38.131171600Z",
     "start_time": "2023-11-30T00:29:02.442869400Z"
    }
   },
   "id": "8fc3c5a04082b0e5"
  },
  {
   "cell_type": "code",
   "execution_count": 22,
   "outputs": [],
   "source": [
    "\n",
    "# rellena las columas de campeones con el ID del campeón que seleccionó cada jugador\n",
    "def get_champ_data(participants, n):\n",
    "    for participant in participants:\n",
    "        if participant['teamId'] == 100:\n",
    "            if participant['participantId'] == 1:\n",
    "                match_data.at[match_data.index[n], 'champ1Team1'] = participant.get('championId', None)\n",
    "            elif participant['participantId'] == 2:\n",
    "                match_data.at[match_data.index[n], 'champ2Team1'] = participant.get('championId', None)\n",
    "            elif participant['participantId'] == 3:\n",
    "                match_data.at[match_data.index[n], 'champ3Team1'] = participant.get('championId', None)\n",
    "            elif participant['participantId'] == 4:\n",
    "                match_data.at[match_data.index[n], 'champ4Team1'] = participant.get('championId', None)\n",
    "            elif participant['participantId'] == 5:\n",
    "                match_data.at[match_data.index[n], 'champ5Team1'] = participant.get('championId', None)\n",
    "        else:\n",
    "            if participant['participantId'] == 6:\n",
    "                match_data.at[match_data.index[n], 'champ1Team2'] = participant.get('championId', None)\n",
    "            elif participant['participantId'] == 7:\n",
    "                match_data.at[match_data.index[n], 'champ2Team2'] = participant.get('championId', None)\n",
    "            elif participant['participantId'] == 8:\n",
    "                match_data.at[match_data.index[n], 'champ3Team2'] = participant.get('championId', None)\n",
    "            elif participant['participantId'] == 9:\n",
    "                match_data.at[match_data.index[n], 'champ4Team2'] = participant.get('championId', None)\n",
    "            elif participant['participantId'] == 10:\n",
    "                match_data.at[match_data.index[n], 'champ5Team2'] = participant.get('championId', None)\n",
    "    return n+1\n",
    "\n",
    "match_data['index'] = match_data.index\n",
    "match_data.apply(lambda row: get_champ_data(row['participants'], row['index']), axis=1)\n",
    "match_data.drop('index', axis=1, inplace=True)  # Elimina la columna temporal 'index'\n"
   ],
   "metadata": {
    "collapsed": false,
    "ExecuteTime": {
     "end_time": "2023-11-30T00:32:41.990834100Z",
     "start_time": "2023-11-30T00:32:31.909457300Z"
    }
   },
   "id": "98b5e2cfc613692c"
  },
  {
   "cell_type": "code",
   "execution_count": 23,
   "outputs": [],
   "source": [
    "# Elimina las columas 'participantsIdentities', 'participants', y 'teams'\n",
    "match_data.drop('participantIdentities', axis=1, inplace=True)\n",
    "match_data.drop('participants', axis=1, inplace=True)\n",
    "match_data.drop('teams', axis=1, inplace=True)"
   ],
   "metadata": {
    "collapsed": false,
    "ExecuteTime": {
     "end_time": "2023-11-30T00:34:47.007243Z",
     "start_time": "2023-11-30T00:34:46.413657900Z"
    }
   },
   "id": "a62881ce3a81c5f5"
  },
  {
   "cell_type": "code",
   "execution_count": 24,
   "outputs": [
    {
     "data": {
      "text/plain": "   gameDuration      gameId firstBloodTeam1 firstTowerTeam1 firstBaronTeam1  \\\n0        1323.0  4247263043            True           False           False   \n1        1317.0  4247155821           False           False           False   \n2         932.0  4243963257           False           False           False   \n3        2098.0  4241678498           False           False            True   \n4        2344.0  4241538868            True            True            True   \n\n  firstDragonTeam1 firstRiftHeraldTeam1 ban1Team1 ban2Team1 ban3Team1  ...  \\\n0            False                False        -1        80       875  ...   \n1             True                 True       523       429        60  ...   \n2            False                False       110       142       875  ...   \n3             True                False       523       412       429  ...   \n4             True                 True        30       429       523  ...   \n\n  ban1Team2 ban2Team2 ban3Team2 ban4Team2 ban5Team2 champ1Team2 champ2Team2  \\\n0       523       429       142        62        -1         235          81   \n1       875       432        76         2        64         235         126   \n2       350         4       105       875        80          12         429   \n3        81       110       523       429        60         875          41   \n4       523       106        80       110       105          62           2   \n\n  champ3Team2 champ4Team2 champ5Team2  \n0         127          84         421  \n1         517          58          15  \n2           7          64          82  \n3          21         154         157  \n4         517         142         350  \n\n[5 rows x 32 columns]",
      "text/html": "<div>\n<style scoped>\n    .dataframe tbody tr th:only-of-type {\n        vertical-align: middle;\n    }\n\n    .dataframe tbody tr th {\n        vertical-align: top;\n    }\n\n    .dataframe thead th {\n        text-align: right;\n    }\n</style>\n<table border=\"1\" class=\"dataframe\">\n  <thead>\n    <tr style=\"text-align: right;\">\n      <th></th>\n      <th>gameDuration</th>\n      <th>gameId</th>\n      <th>firstBloodTeam1</th>\n      <th>firstTowerTeam1</th>\n      <th>firstBaronTeam1</th>\n      <th>firstDragonTeam1</th>\n      <th>firstRiftHeraldTeam1</th>\n      <th>ban1Team1</th>\n      <th>ban2Team1</th>\n      <th>ban3Team1</th>\n      <th>...</th>\n      <th>ban1Team2</th>\n      <th>ban2Team2</th>\n      <th>ban3Team2</th>\n      <th>ban4Team2</th>\n      <th>ban5Team2</th>\n      <th>champ1Team2</th>\n      <th>champ2Team2</th>\n      <th>champ3Team2</th>\n      <th>champ4Team2</th>\n      <th>champ5Team2</th>\n    </tr>\n  </thead>\n  <tbody>\n    <tr>\n      <th>0</th>\n      <td>1323.0</td>\n      <td>4247263043</td>\n      <td>True</td>\n      <td>False</td>\n      <td>False</td>\n      <td>False</td>\n      <td>False</td>\n      <td>-1</td>\n      <td>80</td>\n      <td>875</td>\n      <td>...</td>\n      <td>523</td>\n      <td>429</td>\n      <td>142</td>\n      <td>62</td>\n      <td>-1</td>\n      <td>235</td>\n      <td>81</td>\n      <td>127</td>\n      <td>84</td>\n      <td>421</td>\n    </tr>\n    <tr>\n      <th>1</th>\n      <td>1317.0</td>\n      <td>4247155821</td>\n      <td>False</td>\n      <td>False</td>\n      <td>False</td>\n      <td>True</td>\n      <td>True</td>\n      <td>523</td>\n      <td>429</td>\n      <td>60</td>\n      <td>...</td>\n      <td>875</td>\n      <td>432</td>\n      <td>76</td>\n      <td>2</td>\n      <td>64</td>\n      <td>235</td>\n      <td>126</td>\n      <td>517</td>\n      <td>58</td>\n      <td>15</td>\n    </tr>\n    <tr>\n      <th>2</th>\n      <td>932.0</td>\n      <td>4243963257</td>\n      <td>False</td>\n      <td>False</td>\n      <td>False</td>\n      <td>False</td>\n      <td>False</td>\n      <td>110</td>\n      <td>142</td>\n      <td>875</td>\n      <td>...</td>\n      <td>350</td>\n      <td>4</td>\n      <td>105</td>\n      <td>875</td>\n      <td>80</td>\n      <td>12</td>\n      <td>429</td>\n      <td>7</td>\n      <td>64</td>\n      <td>82</td>\n    </tr>\n    <tr>\n      <th>3</th>\n      <td>2098.0</td>\n      <td>4241678498</td>\n      <td>False</td>\n      <td>False</td>\n      <td>True</td>\n      <td>True</td>\n      <td>False</td>\n      <td>523</td>\n      <td>412</td>\n      <td>429</td>\n      <td>...</td>\n      <td>81</td>\n      <td>110</td>\n      <td>523</td>\n      <td>429</td>\n      <td>60</td>\n      <td>875</td>\n      <td>41</td>\n      <td>21</td>\n      <td>154</td>\n      <td>157</td>\n    </tr>\n    <tr>\n      <th>4</th>\n      <td>2344.0</td>\n      <td>4241538868</td>\n      <td>True</td>\n      <td>True</td>\n      <td>True</td>\n      <td>True</td>\n      <td>True</td>\n      <td>30</td>\n      <td>429</td>\n      <td>523</td>\n      <td>...</td>\n      <td>523</td>\n      <td>106</td>\n      <td>80</td>\n      <td>110</td>\n      <td>105</td>\n      <td>62</td>\n      <td>2</td>\n      <td>517</td>\n      <td>142</td>\n      <td>350</td>\n    </tr>\n  </tbody>\n</table>\n<p>5 rows × 32 columns</p>\n</div>"
     },
     "execution_count": 24,
     "metadata": {},
     "output_type": "execute_result"
    }
   ],
   "source": [
    "match_data.head()"
   ],
   "metadata": {
    "collapsed": false,
    "ExecuteTime": {
     "end_time": "2023-11-30T00:35:43.441962900Z",
     "start_time": "2023-11-30T00:35:43.366605800Z"
    }
   },
   "id": "26256f6cb4c0349d"
  },
  {
   "cell_type": "code",
   "execution_count": 10,
   "outputs": [],
   "source": [
    "match_data['teams1'] = [[] for _ in range(len(match_data))]\n",
    "match_data['teams2'] = [[] for _ in range(len(match_data))]\n",
    "\n",
    "def divide_teams(teams, n):\n",
    "    team1 = None  \n",
    "    team2 = None  \n",
    "    for team in teams:\n",
    "        if team['teamId'] == 100:\n",
    "            team1 = team\n",
    "            match_data.at[match_data.index[n], 'teams1'].append(team1)\n",
    "        else:\n",
    "            team2 = team\n",
    "            match_data.at[match_data.index[n], 'teams2'].append(team2)\n",
    "    return n+1\n",
    "\n",
    "match_data['index'] = match_data.index\n",
    "match_data.apply(lambda row: divide_teams(row['teams'], row['index']), axis=1)\n",
    "match_data.drop('index', axis=1, inplace=True)  # Elimina la columna temporal 'index'"
   ],
   "metadata": {
    "collapsed": false,
    "ExecuteTime": {
     "end_time": "2023-11-29T19:03:12.200780Z",
     "start_time": "2023-11-29T19:03:10.087270700Z"
    }
   },
   "id": "36486bf7fbb74418"
  },
  {
   "cell_type": "code",
   "execution_count": 15,
   "outputs": [],
   "source": [
    "def pop_win(team_list):\n",
    "    for team in team_list:\n",
    "        if 'win' in team:\n",
    "            del team['win']\n",
    "    return team_list\n",
    "\n",
    "def get_win(team_list):\n",
    "    wins = [team.get('win', None) for team in team_list]\n",
    "    return wins\n",
    "\n",
    "# Aplica la función a la columna 'teams' para obtener la columna 'win'\n",
    "wins = match_data['teams'].apply(get_win)\n",
    "match_data['teams'].apply(pop_win)\n",
    "predictors = match_data"
   ],
   "metadata": {
    "collapsed": false,
    "ExecuteTime": {
     "end_time": "2023-11-29T19:12:11.496484800Z",
     "start_time": "2023-11-29T19:12:10.520885100Z"
    }
   },
   "id": "3c6b490e70830640"
  },
  {
   "cell_type": "code",
   "execution_count": 12,
   "outputs": [],
   "source": [
    "win_team1 = [win[0] for win in wins]\n",
    "win_team2 = [win[1] for win in wins]"
   ],
   "metadata": {
    "collapsed": false,
    "ExecuteTime": {
     "end_time": "2023-11-29T19:03:24.761258Z",
     "start_time": "2023-11-29T19:03:24.735085500Z"
    }
   },
   "id": "d02eff7955ea4c09"
  },
  {
   "cell_type": "code",
   "execution_count": 16,
   "outputs": [],
   "source": [
    "# Dividir los datos en conjunto de entrenamiento y conjunto de prueba\n",
    "predictors_train, predictors_test, wins_team1_train, wins_team1_test, wins_team2_train, wins_team2_test = train_test_split(predictors, win_team1, win_team2, test_size=0.2, random_state=42)"
   ],
   "metadata": {
    "collapsed": false,
    "ExecuteTime": {
     "end_time": "2023-11-29T19:12:38.809557100Z",
     "start_time": "2023-11-29T19:12:38.698419200Z"
    }
   },
   "id": "c82fca96a36a7ebf"
  },
  {
   "cell_type": "code",
   "execution_count": 17,
   "outputs": [
    {
     "ename": "ValueError",
     "evalue": "could not convert string to float: \"[{'participantId': 1, 'player': {'summonerName': 'LeveI 5', 'summonerId': 'tYDE4kmO2WNkh4Deeo5PZuQmAF04YKt8iYX-fiPmB8HPi0Q'}}, {'participantId': 2, 'player': {'summonerName': '자메이카흑인', 'summonerId': '1RhLQR06NhFSZZKqQto1o1LLXTiAHtAbv3vVqULzxPEFgA'}}, {'participantId': 3, 'player': {'summonerName': '정글여', 'summonerId': 'e78EgB1e7GrtwTXA0ZrHamr9PRqMYDce10Gf9WUqGHnVB9w'}}, {'participantId': 4, 'player': {'summonerName': '완벽한 내 인생', 'summonerId': '3yz1CIPRQfzEz3fFfmJr4BsegMAgkCDc7TZWJodkoOkjDRI'}}, {'participantId': 5, 'player': {'summonerName': '얏소충', 'summonerId': 'HXTo4d7gBFTUA34J-Z3_0TiHWeAKtqQPLsLgOHeKB2NTaQ4'}}, {'participantId': 6, 'player': {'summonerName': '팍에리', 'summonerId': 'sKvK8-POl0UE4TunQmC390_y7hZmU54jEXYSsPYLqyQh4A'}}, {'participantId': 7, 'player': {'summonerName': 'Sin서월', 'summonerId': 'GWpYrOfId-9DWLCOGlRfH-_2cXs8HrEvUfxQ1jIEQxRfId0'}}, {'participantId': 8, 'player': {'summonerName': '겨울왕국3안나왕', 'summonerId': 'aqfy_N2fiXgeqDjZe-n9ocP_RIzea1PJrbsmRW1ggsgx2cg'}}, {'participantId': 9, 'player': {'summonerName': 'AF Dread', 'summonerId': '7vBClg5qqDOCWWKKC693Kg2PYIJNY7_485wHydW1uk1D3hA'}}, {'participantId': 10, 'player': {'summonerName': '나한테만', 'summonerId': '64NAa9iNVNvHZbxaqdZizwmec-4k7Ikke1cvujiYlfTNsxM'}}]\"",
     "output_type": "error",
     "traceback": [
      "\u001B[1;31m---------------------------------------------------------------------------\u001B[0m",
      "\u001B[1;31mValueError\u001B[0m                                Traceback (most recent call last)",
      "\u001B[1;32m~\\AppData\\Local\\Temp\\ipykernel_18220\\1599803279.py\u001B[0m in \u001B[0;36m?\u001B[1;34m()\u001B[0m\n\u001B[0;32m      1\u001B[0m \u001B[1;31m# Inicializa el clasificador\u001B[0m\u001B[1;33m\u001B[0m\u001B[1;33m\u001B[0m\u001B[0m\n\u001B[0;32m      2\u001B[0m \u001B[0mrandom_forest_model\u001B[0m \u001B[1;33m=\u001B[0m \u001B[0mRandomForestClassifier\u001B[0m\u001B[1;33m(\u001B[0m\u001B[0mn_estimators\u001B[0m\u001B[1;33m=\u001B[0m\u001B[1;36m100\u001B[0m\u001B[1;33m,\u001B[0m \u001B[0mrandom_state\u001B[0m\u001B[1;33m=\u001B[0m\u001B[1;36m42\u001B[0m\u001B[1;33m)\u001B[0m\u001B[1;33m\u001B[0m\u001B[1;33m\u001B[0m\u001B[0m\n\u001B[0;32m      3\u001B[0m \u001B[1;33m\u001B[0m\u001B[0m\n\u001B[0;32m      4\u001B[0m \u001B[1;31m# Entrena el modelo\u001B[0m\u001B[1;33m\u001B[0m\u001B[1;33m\u001B[0m\u001B[0m\n\u001B[1;32m----> 5\u001B[1;33m \u001B[0mrandom_forest_model\u001B[0m\u001B[1;33m.\u001B[0m\u001B[0mfit\u001B[0m\u001B[1;33m(\u001B[0m\u001B[0mpredictors_train\u001B[0m\u001B[1;33m,\u001B[0m \u001B[0mwins_team1_train\u001B[0m\u001B[1;33m)\u001B[0m\u001B[1;33m\u001B[0m\u001B[1;33m\u001B[0m\u001B[0m\n\u001B[0m",
      "\u001B[1;32mD:\\Facultad\\3_año\\Inteligencia_Artificial_1\\Proyecto_Final_IA\\venv\\lib\\site-packages\\sklearn\\base.py\u001B[0m in \u001B[0;36m?\u001B[1;34m(estimator, *args, **kwargs)\u001B[0m\n\u001B[0;32m   1148\u001B[0m                 skip_parameter_validation=(\n\u001B[0;32m   1149\u001B[0m                     \u001B[0mprefer_skip_nested_validation\u001B[0m \u001B[1;32mor\u001B[0m \u001B[0mglobal_skip_validation\u001B[0m\u001B[1;33m\u001B[0m\u001B[1;33m\u001B[0m\u001B[0m\n\u001B[0;32m   1150\u001B[0m                 )\n\u001B[0;32m   1151\u001B[0m             ):\n\u001B[1;32m-> 1152\u001B[1;33m                 \u001B[1;32mreturn\u001B[0m \u001B[0mfit_method\u001B[0m\u001B[1;33m(\u001B[0m\u001B[0mestimator\u001B[0m\u001B[1;33m,\u001B[0m \u001B[1;33m*\u001B[0m\u001B[0margs\u001B[0m\u001B[1;33m,\u001B[0m \u001B[1;33m**\u001B[0m\u001B[0mkwargs\u001B[0m\u001B[1;33m)\u001B[0m\u001B[1;33m\u001B[0m\u001B[1;33m\u001B[0m\u001B[0m\n\u001B[0m",
      "\u001B[1;32mD:\\Facultad\\3_año\\Inteligencia_Artificial_1\\Proyecto_Final_IA\\venv\\lib\\site-packages\\sklearn\\ensemble\\_forest.py\u001B[0m in \u001B[0;36m?\u001B[1;34m(self, X, y, sample_weight)\u001B[0m\n\u001B[0;32m    344\u001B[0m         \"\"\"\n\u001B[0;32m    345\u001B[0m         \u001B[1;31m# Validate or convert input data\u001B[0m\u001B[1;33m\u001B[0m\u001B[1;33m\u001B[0m\u001B[0m\n\u001B[0;32m    346\u001B[0m         \u001B[1;32mif\u001B[0m \u001B[0missparse\u001B[0m\u001B[1;33m(\u001B[0m\u001B[0my\u001B[0m\u001B[1;33m)\u001B[0m\u001B[1;33m:\u001B[0m\u001B[1;33m\u001B[0m\u001B[1;33m\u001B[0m\u001B[0m\n\u001B[0;32m    347\u001B[0m             \u001B[1;32mraise\u001B[0m \u001B[0mValueError\u001B[0m\u001B[1;33m(\u001B[0m\u001B[1;34m\"sparse multilabel-indicator for y is not supported.\"\u001B[0m\u001B[1;33m)\u001B[0m\u001B[1;33m\u001B[0m\u001B[1;33m\u001B[0m\u001B[0m\n\u001B[1;32m--> 348\u001B[1;33m         X, y = self._validate_data(\n\u001B[0m\u001B[0;32m    349\u001B[0m             \u001B[0mX\u001B[0m\u001B[1;33m,\u001B[0m \u001B[0my\u001B[0m\u001B[1;33m,\u001B[0m \u001B[0mmulti_output\u001B[0m\u001B[1;33m=\u001B[0m\u001B[1;32mTrue\u001B[0m\u001B[1;33m,\u001B[0m \u001B[0maccept_sparse\u001B[0m\u001B[1;33m=\u001B[0m\u001B[1;34m\"csc\"\u001B[0m\u001B[1;33m,\u001B[0m \u001B[0mdtype\u001B[0m\u001B[1;33m=\u001B[0m\u001B[0mDTYPE\u001B[0m\u001B[1;33m\u001B[0m\u001B[1;33m\u001B[0m\u001B[0m\n\u001B[0;32m    350\u001B[0m         )\n\u001B[0;32m    351\u001B[0m         \u001B[1;32mif\u001B[0m \u001B[0msample_weight\u001B[0m \u001B[1;32mis\u001B[0m \u001B[1;32mnot\u001B[0m \u001B[1;32mNone\u001B[0m\u001B[1;33m:\u001B[0m\u001B[1;33m\u001B[0m\u001B[1;33m\u001B[0m\u001B[0m\n",
      "\u001B[1;32mD:\\Facultad\\3_año\\Inteligencia_Artificial_1\\Proyecto_Final_IA\\venv\\lib\\site-packages\\sklearn\\base.py\u001B[0m in \u001B[0;36m?\u001B[1;34m(self, X, y, reset, validate_separately, cast_to_ndarray, **check_params)\u001B[0m\n\u001B[0;32m    618\u001B[0m                 \u001B[1;32mif\u001B[0m \u001B[1;34m\"estimator\"\u001B[0m \u001B[1;32mnot\u001B[0m \u001B[1;32min\u001B[0m \u001B[0mcheck_y_params\u001B[0m\u001B[1;33m:\u001B[0m\u001B[1;33m\u001B[0m\u001B[1;33m\u001B[0m\u001B[0m\n\u001B[0;32m    619\u001B[0m                     \u001B[0mcheck_y_params\u001B[0m \u001B[1;33m=\u001B[0m \u001B[1;33m{\u001B[0m\u001B[1;33m**\u001B[0m\u001B[0mdefault_check_params\u001B[0m\u001B[1;33m,\u001B[0m \u001B[1;33m**\u001B[0m\u001B[0mcheck_y_params\u001B[0m\u001B[1;33m}\u001B[0m\u001B[1;33m\u001B[0m\u001B[1;33m\u001B[0m\u001B[0m\n\u001B[0;32m    620\u001B[0m                 \u001B[0my\u001B[0m \u001B[1;33m=\u001B[0m \u001B[0mcheck_array\u001B[0m\u001B[1;33m(\u001B[0m\u001B[0my\u001B[0m\u001B[1;33m,\u001B[0m \u001B[0minput_name\u001B[0m\u001B[1;33m=\u001B[0m\u001B[1;34m\"y\"\u001B[0m\u001B[1;33m,\u001B[0m \u001B[1;33m**\u001B[0m\u001B[0mcheck_y_params\u001B[0m\u001B[1;33m)\u001B[0m\u001B[1;33m\u001B[0m\u001B[1;33m\u001B[0m\u001B[0m\n\u001B[0;32m    621\u001B[0m             \u001B[1;32melse\u001B[0m\u001B[1;33m:\u001B[0m\u001B[1;33m\u001B[0m\u001B[1;33m\u001B[0m\u001B[0m\n\u001B[1;32m--> 622\u001B[1;33m                 \u001B[0mX\u001B[0m\u001B[1;33m,\u001B[0m \u001B[0my\u001B[0m \u001B[1;33m=\u001B[0m \u001B[0mcheck_X_y\u001B[0m\u001B[1;33m(\u001B[0m\u001B[0mX\u001B[0m\u001B[1;33m,\u001B[0m \u001B[0my\u001B[0m\u001B[1;33m,\u001B[0m \u001B[1;33m**\u001B[0m\u001B[0mcheck_params\u001B[0m\u001B[1;33m)\u001B[0m\u001B[1;33m\u001B[0m\u001B[1;33m\u001B[0m\u001B[0m\n\u001B[0m\u001B[0;32m    623\u001B[0m             \u001B[0mout\u001B[0m \u001B[1;33m=\u001B[0m \u001B[0mX\u001B[0m\u001B[1;33m,\u001B[0m \u001B[0my\u001B[0m\u001B[1;33m\u001B[0m\u001B[1;33m\u001B[0m\u001B[0m\n\u001B[0;32m    624\u001B[0m \u001B[1;33m\u001B[0m\u001B[0m\n\u001B[0;32m    625\u001B[0m         \u001B[1;32mif\u001B[0m \u001B[1;32mnot\u001B[0m \u001B[0mno_val_X\u001B[0m \u001B[1;32mand\u001B[0m \u001B[0mcheck_params\u001B[0m\u001B[1;33m.\u001B[0m\u001B[0mget\u001B[0m\u001B[1;33m(\u001B[0m\u001B[1;34m\"ensure_2d\"\u001B[0m\u001B[1;33m,\u001B[0m \u001B[1;32mTrue\u001B[0m\u001B[1;33m)\u001B[0m\u001B[1;33m:\u001B[0m\u001B[1;33m\u001B[0m\u001B[1;33m\u001B[0m\u001B[0m\n",
      "\u001B[1;32mD:\\Facultad\\3_año\\Inteligencia_Artificial_1\\Proyecto_Final_IA\\venv\\lib\\site-packages\\sklearn\\utils\\validation.py\u001B[0m in \u001B[0;36m?\u001B[1;34m(X, y, accept_sparse, accept_large_sparse, dtype, order, copy, force_all_finite, ensure_2d, allow_nd, multi_output, ensure_min_samples, ensure_min_features, y_numeric, estimator)\u001B[0m\n\u001B[0;32m   1142\u001B[0m         raise ValueError(\n\u001B[0;32m   1143\u001B[0m             \u001B[1;34mf\"{estimator_name} requires y to be passed, but the target y is None\"\u001B[0m\u001B[1;33m\u001B[0m\u001B[1;33m\u001B[0m\u001B[0m\n\u001B[0;32m   1144\u001B[0m         )\n\u001B[0;32m   1145\u001B[0m \u001B[1;33m\u001B[0m\u001B[0m\n\u001B[1;32m-> 1146\u001B[1;33m     X = check_array(\n\u001B[0m\u001B[0;32m   1147\u001B[0m         \u001B[0mX\u001B[0m\u001B[1;33m,\u001B[0m\u001B[1;33m\u001B[0m\u001B[1;33m\u001B[0m\u001B[0m\n\u001B[0;32m   1148\u001B[0m         \u001B[0maccept_sparse\u001B[0m\u001B[1;33m=\u001B[0m\u001B[0maccept_sparse\u001B[0m\u001B[1;33m,\u001B[0m\u001B[1;33m\u001B[0m\u001B[1;33m\u001B[0m\u001B[0m\n\u001B[0;32m   1149\u001B[0m         \u001B[0maccept_large_sparse\u001B[0m\u001B[1;33m=\u001B[0m\u001B[0maccept_large_sparse\u001B[0m\u001B[1;33m,\u001B[0m\u001B[1;33m\u001B[0m\u001B[1;33m\u001B[0m\u001B[0m\n",
      "\u001B[1;32mD:\\Facultad\\3_año\\Inteligencia_Artificial_1\\Proyecto_Final_IA\\venv\\lib\\site-packages\\sklearn\\utils\\validation.py\u001B[0m in \u001B[0;36m?\u001B[1;34m(array, accept_sparse, accept_large_sparse, dtype, order, copy, force_all_finite, ensure_2d, allow_nd, ensure_min_samples, ensure_min_features, estimator, input_name)\u001B[0m\n\u001B[0;32m    912\u001B[0m                         )\n\u001B[0;32m    913\u001B[0m                     \u001B[0marray\u001B[0m \u001B[1;33m=\u001B[0m \u001B[0mxp\u001B[0m\u001B[1;33m.\u001B[0m\u001B[0mastype\u001B[0m\u001B[1;33m(\u001B[0m\u001B[0marray\u001B[0m\u001B[1;33m,\u001B[0m \u001B[0mdtype\u001B[0m\u001B[1;33m,\u001B[0m \u001B[0mcopy\u001B[0m\u001B[1;33m=\u001B[0m\u001B[1;32mFalse\u001B[0m\u001B[1;33m)\u001B[0m\u001B[1;33m\u001B[0m\u001B[1;33m\u001B[0m\u001B[0m\n\u001B[0;32m    914\u001B[0m                 \u001B[1;32melse\u001B[0m\u001B[1;33m:\u001B[0m\u001B[1;33m\u001B[0m\u001B[1;33m\u001B[0m\u001B[0m\n\u001B[0;32m    915\u001B[0m                     \u001B[0marray\u001B[0m \u001B[1;33m=\u001B[0m \u001B[0m_asarray_with_order\u001B[0m\u001B[1;33m(\u001B[0m\u001B[0marray\u001B[0m\u001B[1;33m,\u001B[0m \u001B[0morder\u001B[0m\u001B[1;33m=\u001B[0m\u001B[0morder\u001B[0m\u001B[1;33m,\u001B[0m \u001B[0mdtype\u001B[0m\u001B[1;33m=\u001B[0m\u001B[0mdtype\u001B[0m\u001B[1;33m,\u001B[0m \u001B[0mxp\u001B[0m\u001B[1;33m=\u001B[0m\u001B[0mxp\u001B[0m\u001B[1;33m)\u001B[0m\u001B[1;33m\u001B[0m\u001B[1;33m\u001B[0m\u001B[0m\n\u001B[1;32m--> 916\u001B[1;33m             \u001B[1;32mexcept\u001B[0m \u001B[0mComplexWarning\u001B[0m \u001B[1;32mas\u001B[0m \u001B[0mcomplex_warning\u001B[0m\u001B[1;33m:\u001B[0m\u001B[1;33m\u001B[0m\u001B[1;33m\u001B[0m\u001B[0m\n\u001B[0m\u001B[0;32m    917\u001B[0m                 raise ValueError(\n\u001B[0;32m    918\u001B[0m                     \u001B[1;34m\"Complex data not supported\\n{}\\n\"\u001B[0m\u001B[1;33m.\u001B[0m\u001B[0mformat\u001B[0m\u001B[1;33m(\u001B[0m\u001B[0marray\u001B[0m\u001B[1;33m)\u001B[0m\u001B[1;33m\u001B[0m\u001B[1;33m\u001B[0m\u001B[0m\n\u001B[0;32m    919\u001B[0m                 ) from complex_warning\n",
      "\u001B[1;32mD:\\Facultad\\3_año\\Inteligencia_Artificial_1\\Proyecto_Final_IA\\venv\\lib\\site-packages\\sklearn\\utils\\_array_api.py\u001B[0m in \u001B[0;36m?\u001B[1;34m(array, dtype, order, copy, xp)\u001B[0m\n\u001B[0;32m    376\u001B[0m         \u001B[1;31m# Use NumPy API to support order\u001B[0m\u001B[1;33m\u001B[0m\u001B[1;33m\u001B[0m\u001B[0m\n\u001B[0;32m    377\u001B[0m         \u001B[1;32mif\u001B[0m \u001B[0mcopy\u001B[0m \u001B[1;32mis\u001B[0m \u001B[1;32mTrue\u001B[0m\u001B[1;33m:\u001B[0m\u001B[1;33m\u001B[0m\u001B[1;33m\u001B[0m\u001B[0m\n\u001B[0;32m    378\u001B[0m             \u001B[0marray\u001B[0m \u001B[1;33m=\u001B[0m \u001B[0mnumpy\u001B[0m\u001B[1;33m.\u001B[0m\u001B[0marray\u001B[0m\u001B[1;33m(\u001B[0m\u001B[0marray\u001B[0m\u001B[1;33m,\u001B[0m \u001B[0morder\u001B[0m\u001B[1;33m=\u001B[0m\u001B[0morder\u001B[0m\u001B[1;33m,\u001B[0m \u001B[0mdtype\u001B[0m\u001B[1;33m=\u001B[0m\u001B[0mdtype\u001B[0m\u001B[1;33m)\u001B[0m\u001B[1;33m\u001B[0m\u001B[1;33m\u001B[0m\u001B[0m\n\u001B[0;32m    379\u001B[0m         \u001B[1;32melse\u001B[0m\u001B[1;33m:\u001B[0m\u001B[1;33m\u001B[0m\u001B[1;33m\u001B[0m\u001B[0m\n\u001B[1;32m--> 380\u001B[1;33m             \u001B[0marray\u001B[0m \u001B[1;33m=\u001B[0m \u001B[0mnumpy\u001B[0m\u001B[1;33m.\u001B[0m\u001B[0masarray\u001B[0m\u001B[1;33m(\u001B[0m\u001B[0marray\u001B[0m\u001B[1;33m,\u001B[0m \u001B[0morder\u001B[0m\u001B[1;33m=\u001B[0m\u001B[0morder\u001B[0m\u001B[1;33m,\u001B[0m \u001B[0mdtype\u001B[0m\u001B[1;33m=\u001B[0m\u001B[0mdtype\u001B[0m\u001B[1;33m)\u001B[0m\u001B[1;33m\u001B[0m\u001B[1;33m\u001B[0m\u001B[0m\n\u001B[0m\u001B[0;32m    381\u001B[0m \u001B[1;33m\u001B[0m\u001B[0m\n\u001B[0;32m    382\u001B[0m         \u001B[1;31m# At this point array is a NumPy ndarray. We convert it to an array\u001B[0m\u001B[1;33m\u001B[0m\u001B[1;33m\u001B[0m\u001B[0m\n\u001B[0;32m    383\u001B[0m         \u001B[1;31m# container that is consistent with the input's namespace.\u001B[0m\u001B[1;33m\u001B[0m\u001B[1;33m\u001B[0m\u001B[0m\n",
      "\u001B[1;32mD:\\Facultad\\3_año\\Inteligencia_Artificial_1\\Proyecto_Final_IA\\venv\\lib\\site-packages\\pandas\\core\\generic.py\u001B[0m in \u001B[0;36m?\u001B[1;34m(self, dtype)\u001B[0m\n\u001B[0;32m   2082\u001B[0m     \u001B[1;32mdef\u001B[0m \u001B[0m__array__\u001B[0m\u001B[1;33m(\u001B[0m\u001B[0mself\u001B[0m\u001B[1;33m,\u001B[0m \u001B[0mdtype\u001B[0m\u001B[1;33m:\u001B[0m \u001B[0mnpt\u001B[0m\u001B[1;33m.\u001B[0m\u001B[0mDTypeLike\u001B[0m \u001B[1;33m|\u001B[0m \u001B[1;32mNone\u001B[0m \u001B[1;33m=\u001B[0m \u001B[1;32mNone\u001B[0m\u001B[1;33m)\u001B[0m \u001B[1;33m->\u001B[0m \u001B[0mnp\u001B[0m\u001B[1;33m.\u001B[0m\u001B[0mndarray\u001B[0m\u001B[1;33m:\u001B[0m\u001B[1;33m\u001B[0m\u001B[1;33m\u001B[0m\u001B[0m\n\u001B[0;32m   2083\u001B[0m         \u001B[0mvalues\u001B[0m \u001B[1;33m=\u001B[0m \u001B[0mself\u001B[0m\u001B[1;33m.\u001B[0m\u001B[0m_values\u001B[0m\u001B[1;33m\u001B[0m\u001B[1;33m\u001B[0m\u001B[0m\n\u001B[1;32m-> 2084\u001B[1;33m         \u001B[0marr\u001B[0m \u001B[1;33m=\u001B[0m \u001B[0mnp\u001B[0m\u001B[1;33m.\u001B[0m\u001B[0masarray\u001B[0m\u001B[1;33m(\u001B[0m\u001B[0mvalues\u001B[0m\u001B[1;33m,\u001B[0m \u001B[0mdtype\u001B[0m\u001B[1;33m=\u001B[0m\u001B[0mdtype\u001B[0m\u001B[1;33m)\u001B[0m\u001B[1;33m\u001B[0m\u001B[1;33m\u001B[0m\u001B[0m\n\u001B[0m\u001B[0;32m   2085\u001B[0m         if (\n\u001B[0;32m   2086\u001B[0m             \u001B[0mastype_is_view\u001B[0m\u001B[1;33m(\u001B[0m\u001B[0mvalues\u001B[0m\u001B[1;33m.\u001B[0m\u001B[0mdtype\u001B[0m\u001B[1;33m,\u001B[0m \u001B[0marr\u001B[0m\u001B[1;33m.\u001B[0m\u001B[0mdtype\u001B[0m\u001B[1;33m)\u001B[0m\u001B[1;33m\u001B[0m\u001B[1;33m\u001B[0m\u001B[0m\n\u001B[0;32m   2087\u001B[0m             \u001B[1;32mand\u001B[0m \u001B[0musing_copy_on_write\u001B[0m\u001B[1;33m(\u001B[0m\u001B[1;33m)\u001B[0m\u001B[1;33m\u001B[0m\u001B[1;33m\u001B[0m\u001B[0m\n",
      "\u001B[1;31mValueError\u001B[0m: could not convert string to float: \"[{'participantId': 1, 'player': {'summonerName': 'LeveI 5', 'summonerId': 'tYDE4kmO2WNkh4Deeo5PZuQmAF04YKt8iYX-fiPmB8HPi0Q'}}, {'participantId': 2, 'player': {'summonerName': '자메이카흑인', 'summonerId': '1RhLQR06NhFSZZKqQto1o1LLXTiAHtAbv3vVqULzxPEFgA'}}, {'participantId': 3, 'player': {'summonerName': '정글여', 'summonerId': 'e78EgB1e7GrtwTXA0ZrHamr9PRqMYDce10Gf9WUqGHnVB9w'}}, {'participantId': 4, 'player': {'summonerName': '완벽한 내 인생', 'summonerId': '3yz1CIPRQfzEz3fFfmJr4BsegMAgkCDc7TZWJodkoOkjDRI'}}, {'participantId': 5, 'player': {'summonerName': '얏소충', 'summonerId': 'HXTo4d7gBFTUA34J-Z3_0TiHWeAKtqQPLsLgOHeKB2NTaQ4'}}, {'participantId': 6, 'player': {'summonerName': '팍에리', 'summonerId': 'sKvK8-POl0UE4TunQmC390_y7hZmU54jEXYSsPYLqyQh4A'}}, {'participantId': 7, 'player': {'summonerName': 'Sin서월', 'summonerId': 'GWpYrOfId-9DWLCOGlRfH-_2cXs8HrEvUfxQ1jIEQxRfId0'}}, {'participantId': 8, 'player': {'summonerName': '겨울왕국3안나왕', 'summonerId': 'aqfy_N2fiXgeqDjZe-n9ocP_RIzea1PJrbsmRW1ggsgx2cg'}}, {'participantId': 9, 'player': {'summonerName': 'AF Dread', 'summonerId': '7vBClg5qqDOCWWKKC693Kg2PYIJNY7_485wHydW1uk1D3hA'}}, {'participantId': 10, 'player': {'summonerName': '나한테만', 'summonerId': '64NAa9iNVNvHZbxaqdZizwmec-4k7Ikke1cvujiYlfTNsxM'}}]\""
     ]
    }
   ],
   "source": [
    "# Inicializa el clasificador\n",
    "random_forest_model = RandomForestClassifier(n_estimators=100, random_state=42)\n",
    "\n",
    "# Entrena el modelo\n",
    "random_forest_model.fit(predictors_train, wins_team1_train)"
   ],
   "metadata": {
    "collapsed": false,
    "ExecuteTime": {
     "end_time": "2023-11-29T19:12:51.496697800Z",
     "start_time": "2023-11-29T19:12:51.402603100Z"
    }
   },
   "id": "988911a6a3d0992b"
  },
  {
   "cell_type": "code",
   "execution_count": null,
   "outputs": [],
   "source": [
    "wins_pred = random_forest_model.predict(predictors_test)\n",
    "\n",
    "# Evalúa el rendimiento del modelo\n",
    "accuracy = accuracy_score(wins_test, wins_pred)\n",
    "print(f'Accuracy: {accuracy}')"
   ],
   "metadata": {
    "collapsed": false
   },
   "id": "d7becbee1da39247"
  },
  {
   "cell_type": "code",
   "execution_count": null,
   "outputs": [],
   "source": [
    "# Si deseas ver la importancia de las características, puedes hacerlo con:\n",
    "feature_importances = random_forest_model.feature_importances_\n",
    "print('Importancia de las características:')\n",
    "for i, importance in enumerate(feature_importances):\n",
    "    print(f'Feature {i + 1}: {importance}')"
   ],
   "metadata": {
    "collapsed": false
   },
   "id": "9c02d192fd48e71d"
  }
 ],
 "metadata": {
  "kernelspec": {
   "display_name": "Python 3",
   "language": "python",
   "name": "python3"
  },
  "language_info": {
   "codemirror_mode": {
    "name": "ipython",
    "version": 2
   },
   "file_extension": ".py",
   "mimetype": "text/x-python",
   "name": "python",
   "nbconvert_exporter": "python",
   "pygments_lexer": "ipython2",
   "version": "2.7.6"
  }
 },
 "nbformat": 4,
 "nbformat_minor": 5
}
