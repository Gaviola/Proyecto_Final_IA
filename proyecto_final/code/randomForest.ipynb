{
 "cells": [
  {
   "cell_type": "code",
   "execution_count": 1,
   "id": "initial_id",
   "metadata": {
    "collapsed": true,
    "ExecuteTime": {
     "end_time": "2023-11-30T18:44:25.339358500Z",
     "start_time": "2023-11-30T18:44:24.488369400Z"
    }
   },
   "outputs": [],
   "source": [
    "from sklearn.ensemble import RandomForestClassifier\n",
    "from sklearn.model_selection import train_test_split\n",
    "from sklearn.metrics import accuracy_score\n",
    "import pandas as pd"
   ]
  },
  {
   "cell_type": "code",
   "execution_count": 2,
   "outputs": [],
   "source": [
    "match_data = pd.read_csv('D:\\\\Facultad\\\\3_año\\\\Inteligencia_Artificial_1\\\\Dataset\\\\matchDataClean.csv')\n",
    "#Serializamos el data frame\n",
    "match_data['teams'] = match_data['teams'].apply(eval)  # Convierte la cadena JSON a una lista de diccionarios\n"
   ],
   "metadata": {
    "collapsed": false,
    "ExecuteTime": {
     "end_time": "2023-11-30T18:44:43.635504900Z",
     "start_time": "2023-11-30T18:44:26.241343500Z"
    }
   },
   "id": "35aad2fcc7851554"
  },
  {
   "cell_type": "code",
   "execution_count": 3,
   "outputs": [],
   "source": [
    "# agrega las columnas: firstBloodTeam1', 'firstTowerTeam1,'firstBaronTeam1','firstDragonTeam1', 'firstRiftHeraldTeam1', 'ban1Team1', 'ban2Team1', 'ban3Team1', 'ban4Team1', 'ban5Team1', champ1Team1, champ2Team1, champ3Team1, champ4Team1, champ5Team1, 'firstBloodTeam2', 'firstTowerTeam2', 'firstBaronTeam2', 'firstDragonTeam2', 'firstRiftHeraldTeam2', 'ban1Team2', 'ban2Team2', 'ban3Team2', 'ban4Team2', 'ban5Team2', champ1Team2, champ2Team2, champ3Team2, champ4Team2, champ5Team2.\n",
    "match_data['firstBloodTeam1'] = [None for _ in range(len(match_data))]\n",
    "match_data['firstTowerTeam1'] = [None for _ in range(len(match_data))]\n",
    "match_data['firstBaronTeam1'] = [None for _ in range(len(match_data))]\n",
    "match_data['firstDragonTeam1'] = [None for _ in range(len(match_data))]\n",
    "match_data['firstRiftHeraldTeam1'] = [None for _ in range(len(match_data))]\n",
    "match_data['ban1Team1'] = [None for _ in range(len(match_data))]\n",
    "match_data['ban2Team1'] = [None for _ in range(len(match_data))]\n",
    "match_data['ban3Team1'] = [None for _ in range(len(match_data))]\n",
    "match_data['ban4Team1'] = [None for _ in range(len(match_data))]\n",
    "match_data['ban5Team1'] = [None for _ in range(len(match_data))]\n",
    "match_data['champ1Team1'] = [None for _ in range(len(match_data))]\n",
    "match_data['champ2Team1'] = [None for _ in range(len(match_data))]\n",
    "match_data['champ3Team1'] = [None for _ in range(len(match_data))]\n",
    "match_data['champ4Team1'] = [None for _ in range(len(match_data))]\n",
    "match_data['champ5Team1'] = [None for _ in range(len(match_data))]\n",
    "match_data['firstBloodTeam2'] = [None for _ in range(len(match_data))]\n",
    "match_data['firstTowerTeam2'] = [None for _ in range(len(match_data))]\n",
    "match_data['firstBaronTeam2'] = [None for _ in range(len(match_data))]\n",
    "match_data['firstDragonTeam2'] = [None for _ in range(len(match_data))]\n",
    "match_data['firstRiftHeraldTeam2'] = [None for _ in range(len(match_data))]\n",
    "match_data['ban1Team2'] = [None for _ in range(len(match_data))]\n",
    "match_data['ban2Team2'] = [None for _ in range(len(match_data))]\n",
    "match_data['ban3Team2'] = [None for _ in range(len(match_data))]\n",
    "match_data['ban4Team2'] = [None for _ in range(len(match_data))]\n",
    "match_data['ban5Team2'] = [None for _ in range(len(match_data))]\n",
    "match_data['champ1Team2'] = [None for _ in range(len(match_data))]\n",
    "match_data['champ2Team2'] = [None for _ in range(len(match_data))]\n",
    "match_data['champ3Team2'] = [None for _ in range(len(match_data))]\n",
    "match_data['champ4Team2'] = [None for _ in range(len(match_data))]\n",
    "match_data['champ5Team2'] = [None for _ in range(len(match_data))]"
   ],
   "metadata": {
    "collapsed": false,
    "ExecuteTime": {
     "end_time": "2023-11-30T18:44:45.431417500Z",
     "start_time": "2023-11-30T18:44:44.850973700Z"
    }
   },
   "id": "2ef72d8fbc6cc53e"
  },
  {
   "cell_type": "code",
   "execution_count": 4,
   "outputs": [],
   "source": [
    "# Busca los valores de las columnas anteriores en la columna 'teams' y los agrega en las columnas correspondientes\n",
    "def get_team_data(teams, n):\n",
    "    team1 = None  \n",
    "    team2 = None  \n",
    "    for team in teams:\n",
    "        if team['teamId'] == 100:\n",
    "            team1 = team\n",
    "        else:\n",
    "            team2 = team\n",
    "    match_data.at[match_data.index[n], 'firstBloodTeam1'] = team1.get('firstBlood', None)\n",
    "    match_data.at[match_data.index[n], 'firstTowerTeam1'] = team1.get('firstTower', None)\n",
    "    match_data.at[match_data.index[n], 'firstBaronTeam1'] = team1.get('firstBaron', None)\n",
    "    match_data.at[match_data.index[n], 'firstDragonTeam1'] = team1.get('firstDragon', None)\n",
    "    match_data.at[match_data.index[n], 'firstRiftHeraldTeam1'] = team1.get('firstRiftHerald', None)\n",
    "    \n",
    "    if team1['bans']:\n",
    "        match_data.at[match_data.index[n], 'ban1Team1'] = team1['bans'][0].get('championId', None)\n",
    "        match_data.at[match_data.index[n], 'ban2Team1'] = team1['bans'][1].get('championId', None)\n",
    "        match_data.at[match_data.index[n], 'ban3Team1'] = team1['bans'][2].get('championId', None)\n",
    "        match_data.at[match_data.index[n], 'ban4Team1'] = team1['bans'][3].get('championId', None)\n",
    "        match_data.at[match_data.index[n], 'ban5Team1'] = team1['bans'][4].get('championId', None)\n",
    "\n",
    "    match_data.at[match_data.index[n], 'champ1Team1'] = team1.get('championId', None)\n",
    "    match_data.at[match_data.index[n], 'champ2Team1'] = team1.get('championId', None)\n",
    "    match_data.at[match_data.index[n], 'champ3Team1'] = team1.get('championId', None)\n",
    "    match_data.at[match_data.index[n], 'champ4Team1'] = team1.get('championId', None)\n",
    "    match_data.at[match_data.index[n], 'champ5Team1'] = team1.get('championId', None)\n",
    "    match_data.at[match_data.index[n], 'firstBloodTeam2'] = team2.get('firstBlood', None)\n",
    "    match_data.at[match_data.index[n], 'firstTowerTeam2'] = team2.get('firstTower', None)\n",
    "    match_data.at[match_data.index[n], 'firstBaronTeam2'] = team2.get('firstBaron', None)\n",
    "    match_data.at[match_data.index[n], 'firstDragonTeam2'] = team2.get('firstDragon', None)\n",
    "    match_data.at[match_data.index[n], 'firstRiftHeraldTeam2'] = team2.get('firstRiftHerald', None)\n",
    "    \n",
    "    if team2['bans']:\n",
    "        match_data.at[match_data.index[n], 'ban1Team2'] = team2['bans'][0].get('championId', None)\n",
    "        match_data.at[match_data.index[n], 'ban2Team2'] = team2['bans'][1].get('championId', None)\n",
    "        match_data.at[match_data.index[n], 'ban3Team2'] = team2['bans'][2].get('championId', None)\n",
    "        match_data.at[match_data.index[n], 'ban4Team2'] = team2['bans'][3].get('championId', None)\n",
    "        match_data.at[match_data.index[n], 'ban5Team2'] = team2['bans'][4].get('championId', None)\n",
    "\n",
    "    match_data.at[match_data.index[n], 'champ1Team2'] = team2.get('championId', None)\n",
    "    match_data.at[match_data.index[n], 'champ2Team2'] = team2.get('championId', None)\n",
    "    match_data.at[match_data.index[n], 'champ3Team2'] = team2.get('championId', None)\n",
    "    match_data.at[match_data.index[n], 'champ4Team2'] = team2.get('championId', None)\n",
    "    match_data.at[match_data.index[n], 'champ5Team2'] = team2.get('championId', None)\n",
    "    return n+1\n",
    "\n",
    "match_data['index'] = match_data.index\n",
    "match_data.apply(lambda row: get_team_data(row['teams'], row['index']), axis=1)  # Aplica la función a cada fila del dataframe\n",
    "match_data.drop('index', axis=1, inplace=True)  # Elimina la columna temporal 'index'\n"
   ],
   "metadata": {
    "collapsed": false,
    "ExecuteTime": {
     "end_time": "2023-11-30T18:45:13.272594600Z",
     "start_time": "2023-11-30T18:44:47.145322600Z"
    }
   },
   "id": "7e6b45238283ff0d"
  },
  {
   "cell_type": "code",
   "execution_count": 5,
   "outputs": [],
   "source": [
    "match_data['participants'] = match_data['participants'].apply(eval)"
   ],
   "metadata": {
    "collapsed": false,
    "ExecuteTime": {
     "end_time": "2023-11-30T18:45:52.347969600Z",
     "start_time": "2023-11-30T18:45:17.424471800Z"
    }
   },
   "id": "8fc3c5a04082b0e5"
  },
  {
   "cell_type": "code",
   "execution_count": 6,
   "outputs": [],
   "source": [
    "# rellena las columas de campeones con el ID del campeón que seleccionó cada jugador\n",
    "def get_champ_data(participants, n):\n",
    "    for participant in participants:\n",
    "        if participant['teamId'] == 100:\n",
    "            if participant['participantId'] == 1:\n",
    "                match_data.at[match_data.index[n], 'champ1Team1'] = participant.get('championId', None)\n",
    "            elif participant['participantId'] == 2:\n",
    "                match_data.at[match_data.index[n], 'champ2Team1'] = participant.get('championId', None)\n",
    "            elif participant['participantId'] == 3:\n",
    "                match_data.at[match_data.index[n], 'champ3Team1'] = participant.get('championId', None)\n",
    "            elif participant['participantId'] == 4:\n",
    "                match_data.at[match_data.index[n], 'champ4Team1'] = participant.get('championId', None)\n",
    "            elif participant['participantId'] == 5:\n",
    "                match_data.at[match_data.index[n], 'champ5Team1'] = participant.get('championId', None)\n",
    "        else:\n",
    "            if participant['participantId'] == 6:\n",
    "                match_data.at[match_data.index[n], 'champ1Team2'] = participant.get('championId', None)\n",
    "            elif participant['participantId'] == 7:\n",
    "                match_data.at[match_data.index[n], 'champ2Team2'] = participant.get('championId', None)\n",
    "            elif participant['participantId'] == 8:\n",
    "                match_data.at[match_data.index[n], 'champ3Team2'] = participant.get('championId', None)\n",
    "            elif participant['participantId'] == 9:\n",
    "                match_data.at[match_data.index[n], 'champ4Team2'] = participant.get('championId', None)\n",
    "            elif participant['participantId'] == 10:\n",
    "                match_data.at[match_data.index[n], 'champ5Team2'] = participant.get('championId', None)\n",
    "    return n+1\n",
    "\n",
    "match_data['index'] = match_data.index\n",
    "match_data.apply(lambda row: get_champ_data(row['participants'], row['index']), axis=1)\n",
    "match_data.drop('index', axis=1, inplace=True)  # Elimina la columna temporal 'index'\n"
   ],
   "metadata": {
    "collapsed": false,
    "ExecuteTime": {
     "end_time": "2023-11-30T18:46:05.660258200Z",
     "start_time": "2023-11-30T18:45:55.102437700Z"
    }
   },
   "id": "98b5e2cfc613692c"
  },
  {
   "cell_type": "code",
   "execution_count": 7,
   "outputs": [],
   "source": [
    "# Elimina las filas con valores nulos\n",
    "match_data.dropna(inplace=True)"
   ],
   "metadata": {
    "collapsed": false,
    "ExecuteTime": {
     "end_time": "2023-11-30T18:46:18.543573Z",
     "start_time": "2023-11-30T18:46:18.249018900Z"
    }
   },
   "id": "b67c5bfa61428def"
  },
  {
   "cell_type": "code",
   "execution_count": 8,
   "outputs": [],
   "source": [
    "def get_win(team_list):\n",
    "    wins = [team.get('win', None) for team in team_list]\n",
    "    return wins\n",
    "\n",
    "# Aplica la función a la columna 'teams' para obtener la columna 'win'\n",
    "wins = match_data['teams'].apply(get_win)"
   ],
   "metadata": {
    "collapsed": false,
    "ExecuteTime": {
     "end_time": "2023-11-30T18:46:20.045511500Z",
     "start_time": "2023-11-30T18:46:19.963329100Z"
    }
   },
   "id": "86d987581d2f8783"
  },
  {
   "cell_type": "code",
   "execution_count": 16,
   "outputs": [
    {
     "ename": "KeyError",
     "evalue": "\"['participantIdentities'] not found in axis\"",
     "output_type": "error",
     "traceback": [
      "\u001B[1;31m---------------------------------------------------------------------------\u001B[0m",
      "\u001B[1;31mKeyError\u001B[0m                                  Traceback (most recent call last)",
      "Cell \u001B[1;32mIn[16], line 2\u001B[0m\n\u001B[0;32m      1\u001B[0m \u001B[38;5;66;03m# Elimina las columas 'participantsIdentities', 'participants', y 'teams'\u001B[39;00m\n\u001B[1;32m----> 2\u001B[0m \u001B[43mmatch_data\u001B[49m\u001B[38;5;241;43m.\u001B[39;49m\u001B[43mdrop\u001B[49m\u001B[43m(\u001B[49m\u001B[38;5;124;43m'\u001B[39;49m\u001B[38;5;124;43mparticipantIdentities\u001B[39;49m\u001B[38;5;124;43m'\u001B[39;49m\u001B[43m,\u001B[49m\u001B[43m \u001B[49m\u001B[43maxis\u001B[49m\u001B[38;5;241;43m=\u001B[39;49m\u001B[38;5;241;43m1\u001B[39;49m\u001B[43m,\u001B[49m\u001B[43m \u001B[49m\u001B[43minplace\u001B[49m\u001B[38;5;241;43m=\u001B[39;49m\u001B[38;5;28;43;01mTrue\u001B[39;49;00m\u001B[43m)\u001B[49m\n\u001B[0;32m      3\u001B[0m match_data\u001B[38;5;241m.\u001B[39mdrop(\u001B[38;5;124m'\u001B[39m\u001B[38;5;124mparticipants\u001B[39m\u001B[38;5;124m'\u001B[39m, axis\u001B[38;5;241m=\u001B[39m\u001B[38;5;241m1\u001B[39m, inplace\u001B[38;5;241m=\u001B[39m\u001B[38;5;28;01mTrue\u001B[39;00m)\n\u001B[0;32m      4\u001B[0m match_data\u001B[38;5;241m.\u001B[39mdrop(\u001B[38;5;124m'\u001B[39m\u001B[38;5;124mteams\u001B[39m\u001B[38;5;124m'\u001B[39m, axis\u001B[38;5;241m=\u001B[39m\u001B[38;5;241m1\u001B[39m, inplace\u001B[38;5;241m=\u001B[39m\u001B[38;5;28;01mTrue\u001B[39;00m)\n",
      "File \u001B[1;32mD:\\Facultad\\3_año\\Inteligencia_Artificial_1\\Proyecto_Final_IA\\venv\\lib\\site-packages\\pandas\\core\\frame.py:5344\u001B[0m, in \u001B[0;36mDataFrame.drop\u001B[1;34m(self, labels, axis, index, columns, level, inplace, errors)\u001B[0m\n\u001B[0;32m   5196\u001B[0m \u001B[38;5;28;01mdef\u001B[39;00m \u001B[38;5;21mdrop\u001B[39m(\n\u001B[0;32m   5197\u001B[0m     \u001B[38;5;28mself\u001B[39m,\n\u001B[0;32m   5198\u001B[0m     labels: IndexLabel \u001B[38;5;241m|\u001B[39m \u001B[38;5;28;01mNone\u001B[39;00m \u001B[38;5;241m=\u001B[39m \u001B[38;5;28;01mNone\u001B[39;00m,\n\u001B[1;32m   (...)\u001B[0m\n\u001B[0;32m   5205\u001B[0m     errors: IgnoreRaise \u001B[38;5;241m=\u001B[39m \u001B[38;5;124m\"\u001B[39m\u001B[38;5;124mraise\u001B[39m\u001B[38;5;124m\"\u001B[39m,\n\u001B[0;32m   5206\u001B[0m ) \u001B[38;5;241m-\u001B[39m\u001B[38;5;241m>\u001B[39m DataFrame \u001B[38;5;241m|\u001B[39m \u001B[38;5;28;01mNone\u001B[39;00m:\n\u001B[0;32m   5207\u001B[0m \u001B[38;5;250m    \u001B[39m\u001B[38;5;124;03m\"\"\"\u001B[39;00m\n\u001B[0;32m   5208\u001B[0m \u001B[38;5;124;03m    Drop specified labels from rows or columns.\u001B[39;00m\n\u001B[0;32m   5209\u001B[0m \n\u001B[1;32m   (...)\u001B[0m\n\u001B[0;32m   5342\u001B[0m \u001B[38;5;124;03m            weight  1.0     0.8\u001B[39;00m\n\u001B[0;32m   5343\u001B[0m \u001B[38;5;124;03m    \"\"\"\u001B[39;00m\n\u001B[1;32m-> 5344\u001B[0m     \u001B[38;5;28;01mreturn\u001B[39;00m \u001B[38;5;28;43msuper\u001B[39;49m\u001B[43m(\u001B[49m\u001B[43m)\u001B[49m\u001B[38;5;241;43m.\u001B[39;49m\u001B[43mdrop\u001B[49m\u001B[43m(\u001B[49m\n\u001B[0;32m   5345\u001B[0m \u001B[43m        \u001B[49m\u001B[43mlabels\u001B[49m\u001B[38;5;241;43m=\u001B[39;49m\u001B[43mlabels\u001B[49m\u001B[43m,\u001B[49m\n\u001B[0;32m   5346\u001B[0m \u001B[43m        \u001B[49m\u001B[43maxis\u001B[49m\u001B[38;5;241;43m=\u001B[39;49m\u001B[43maxis\u001B[49m\u001B[43m,\u001B[49m\n\u001B[0;32m   5347\u001B[0m \u001B[43m        \u001B[49m\u001B[43mindex\u001B[49m\u001B[38;5;241;43m=\u001B[39;49m\u001B[43mindex\u001B[49m\u001B[43m,\u001B[49m\n\u001B[0;32m   5348\u001B[0m \u001B[43m        \u001B[49m\u001B[43mcolumns\u001B[49m\u001B[38;5;241;43m=\u001B[39;49m\u001B[43mcolumns\u001B[49m\u001B[43m,\u001B[49m\n\u001B[0;32m   5349\u001B[0m \u001B[43m        \u001B[49m\u001B[43mlevel\u001B[49m\u001B[38;5;241;43m=\u001B[39;49m\u001B[43mlevel\u001B[49m\u001B[43m,\u001B[49m\n\u001B[0;32m   5350\u001B[0m \u001B[43m        \u001B[49m\u001B[43minplace\u001B[49m\u001B[38;5;241;43m=\u001B[39;49m\u001B[43minplace\u001B[49m\u001B[43m,\u001B[49m\n\u001B[0;32m   5351\u001B[0m \u001B[43m        \u001B[49m\u001B[43merrors\u001B[49m\u001B[38;5;241;43m=\u001B[39;49m\u001B[43merrors\u001B[49m\u001B[43m,\u001B[49m\n\u001B[0;32m   5352\u001B[0m \u001B[43m    \u001B[49m\u001B[43m)\u001B[49m\n",
      "File \u001B[1;32mD:\\Facultad\\3_año\\Inteligencia_Artificial_1\\Proyecto_Final_IA\\venv\\lib\\site-packages\\pandas\\core\\generic.py:4711\u001B[0m, in \u001B[0;36mNDFrame.drop\u001B[1;34m(self, labels, axis, index, columns, level, inplace, errors)\u001B[0m\n\u001B[0;32m   4709\u001B[0m \u001B[38;5;28;01mfor\u001B[39;00m axis, labels \u001B[38;5;129;01min\u001B[39;00m axes\u001B[38;5;241m.\u001B[39mitems():\n\u001B[0;32m   4710\u001B[0m     \u001B[38;5;28;01mif\u001B[39;00m labels \u001B[38;5;129;01mis\u001B[39;00m \u001B[38;5;129;01mnot\u001B[39;00m \u001B[38;5;28;01mNone\u001B[39;00m:\n\u001B[1;32m-> 4711\u001B[0m         obj \u001B[38;5;241m=\u001B[39m \u001B[43mobj\u001B[49m\u001B[38;5;241;43m.\u001B[39;49m\u001B[43m_drop_axis\u001B[49m\u001B[43m(\u001B[49m\u001B[43mlabels\u001B[49m\u001B[43m,\u001B[49m\u001B[43m \u001B[49m\u001B[43maxis\u001B[49m\u001B[43m,\u001B[49m\u001B[43m \u001B[49m\u001B[43mlevel\u001B[49m\u001B[38;5;241;43m=\u001B[39;49m\u001B[43mlevel\u001B[49m\u001B[43m,\u001B[49m\u001B[43m \u001B[49m\u001B[43merrors\u001B[49m\u001B[38;5;241;43m=\u001B[39;49m\u001B[43merrors\u001B[49m\u001B[43m)\u001B[49m\n\u001B[0;32m   4713\u001B[0m \u001B[38;5;28;01mif\u001B[39;00m inplace:\n\u001B[0;32m   4714\u001B[0m     \u001B[38;5;28mself\u001B[39m\u001B[38;5;241m.\u001B[39m_update_inplace(obj)\n",
      "File \u001B[1;32mD:\\Facultad\\3_año\\Inteligencia_Artificial_1\\Proyecto_Final_IA\\venv\\lib\\site-packages\\pandas\\core\\generic.py:4753\u001B[0m, in \u001B[0;36mNDFrame._drop_axis\u001B[1;34m(self, labels, axis, level, errors, only_slice)\u001B[0m\n\u001B[0;32m   4751\u001B[0m         new_axis \u001B[38;5;241m=\u001B[39m axis\u001B[38;5;241m.\u001B[39mdrop(labels, level\u001B[38;5;241m=\u001B[39mlevel, errors\u001B[38;5;241m=\u001B[39merrors)\n\u001B[0;32m   4752\u001B[0m     \u001B[38;5;28;01melse\u001B[39;00m:\n\u001B[1;32m-> 4753\u001B[0m         new_axis \u001B[38;5;241m=\u001B[39m \u001B[43maxis\u001B[49m\u001B[38;5;241;43m.\u001B[39;49m\u001B[43mdrop\u001B[49m\u001B[43m(\u001B[49m\u001B[43mlabels\u001B[49m\u001B[43m,\u001B[49m\u001B[43m \u001B[49m\u001B[43merrors\u001B[49m\u001B[38;5;241;43m=\u001B[39;49m\u001B[43merrors\u001B[49m\u001B[43m)\u001B[49m\n\u001B[0;32m   4754\u001B[0m     indexer \u001B[38;5;241m=\u001B[39m axis\u001B[38;5;241m.\u001B[39mget_indexer(new_axis)\n\u001B[0;32m   4756\u001B[0m \u001B[38;5;66;03m# Case for non-unique axis\u001B[39;00m\n\u001B[0;32m   4757\u001B[0m \u001B[38;5;28;01melse\u001B[39;00m:\n",
      "File \u001B[1;32mD:\\Facultad\\3_año\\Inteligencia_Artificial_1\\Proyecto_Final_IA\\venv\\lib\\site-packages\\pandas\\core\\indexes\\base.py:6992\u001B[0m, in \u001B[0;36mIndex.drop\u001B[1;34m(self, labels, errors)\u001B[0m\n\u001B[0;32m   6990\u001B[0m \u001B[38;5;28;01mif\u001B[39;00m mask\u001B[38;5;241m.\u001B[39many():\n\u001B[0;32m   6991\u001B[0m     \u001B[38;5;28;01mif\u001B[39;00m errors \u001B[38;5;241m!=\u001B[39m \u001B[38;5;124m\"\u001B[39m\u001B[38;5;124mignore\u001B[39m\u001B[38;5;124m\"\u001B[39m:\n\u001B[1;32m-> 6992\u001B[0m         \u001B[38;5;28;01mraise\u001B[39;00m \u001B[38;5;167;01mKeyError\u001B[39;00m(\u001B[38;5;124mf\u001B[39m\u001B[38;5;124m\"\u001B[39m\u001B[38;5;132;01m{\u001B[39;00mlabels[mask]\u001B[38;5;241m.\u001B[39mtolist()\u001B[38;5;132;01m}\u001B[39;00m\u001B[38;5;124m not found in axis\u001B[39m\u001B[38;5;124m\"\u001B[39m)\n\u001B[0;32m   6993\u001B[0m     indexer \u001B[38;5;241m=\u001B[39m indexer[\u001B[38;5;241m~\u001B[39mmask]\n\u001B[0;32m   6994\u001B[0m \u001B[38;5;28;01mreturn\u001B[39;00m \u001B[38;5;28mself\u001B[39m\u001B[38;5;241m.\u001B[39mdelete(indexer)\n",
      "\u001B[1;31mKeyError\u001B[0m: \"['participantIdentities'] not found in axis\""
     ]
    }
   ],
   "source": [
    "# Elimina las columas 'participantsIdentities', 'participants', y 'teams'\n",
    "match_data.drop('participantIdentities', axis=1, inplace=True)\n",
    "match_data.drop('participants', axis=1, inplace=True)\n",
    "match_data.drop('teams', axis=1, inplace=True)"
   ],
   "metadata": {
    "collapsed": false,
    "ExecuteTime": {
     "end_time": "2023-11-30T18:54:01.145769Z",
     "start_time": "2023-11-30T18:53:59.701133700Z"
    }
   },
   "id": "a62881ce3a81c5f5"
  },
  {
   "cell_type": "code",
   "execution_count": 18,
   "outputs": [
    {
     "data": {
      "text/plain": "   gameDuration firstBloodTeam1 firstTowerTeam1 firstBaronTeam1  \\\n0        1323.0            True           False           False   \n1        1317.0           False           False           False   \n2         932.0           False           False           False   \n3        2098.0           False           False            True   \n4        2344.0            True            True            True   \n\n  firstDragonTeam1 firstRiftHeraldTeam1 ban1Team1 ban2Team1 ban3Team1  \\\n0            False                False        -1        80       875   \n1             True                 True       523       429        60   \n2            False                False       110       142       875   \n3             True                False       523       412       429   \n4             True                 True        30       429       523   \n\n  ban4Team1  ... ban1Team2 ban2Team2 ban3Team2 ban4Team2 ban5Team2  \\\n0       555  ...       523       429       142        62        -1   \n1         2  ...       875       432        76         2        64   \n2       432  ...       350         4       105       875        80   \n3        80  ...        81       110       523       429        60   \n4       235  ...       523       106        80       110       105   \n\n  champ1Team2 champ2Team2 champ3Team2 champ4Team2 champ5Team2  \n0         235          81         127          84         421  \n1         235         126         517          58          15  \n2          12         429           7          64          82  \n3         875          41          21         154         157  \n4          62           2         517         142         350  \n\n[5 rows x 31 columns]",
      "text/html": "<div>\n<style scoped>\n    .dataframe tbody tr th:only-of-type {\n        vertical-align: middle;\n    }\n\n    .dataframe tbody tr th {\n        vertical-align: top;\n    }\n\n    .dataframe thead th {\n        text-align: right;\n    }\n</style>\n<table border=\"1\" class=\"dataframe\">\n  <thead>\n    <tr style=\"text-align: right;\">\n      <th></th>\n      <th>gameDuration</th>\n      <th>firstBloodTeam1</th>\n      <th>firstTowerTeam1</th>\n      <th>firstBaronTeam1</th>\n      <th>firstDragonTeam1</th>\n      <th>firstRiftHeraldTeam1</th>\n      <th>ban1Team1</th>\n      <th>ban2Team1</th>\n      <th>ban3Team1</th>\n      <th>ban4Team1</th>\n      <th>...</th>\n      <th>ban1Team2</th>\n      <th>ban2Team2</th>\n      <th>ban3Team2</th>\n      <th>ban4Team2</th>\n      <th>ban5Team2</th>\n      <th>champ1Team2</th>\n      <th>champ2Team2</th>\n      <th>champ3Team2</th>\n      <th>champ4Team2</th>\n      <th>champ5Team2</th>\n    </tr>\n  </thead>\n  <tbody>\n    <tr>\n      <th>0</th>\n      <td>1323.0</td>\n      <td>True</td>\n      <td>False</td>\n      <td>False</td>\n      <td>False</td>\n      <td>False</td>\n      <td>-1</td>\n      <td>80</td>\n      <td>875</td>\n      <td>555</td>\n      <td>...</td>\n      <td>523</td>\n      <td>429</td>\n      <td>142</td>\n      <td>62</td>\n      <td>-1</td>\n      <td>235</td>\n      <td>81</td>\n      <td>127</td>\n      <td>84</td>\n      <td>421</td>\n    </tr>\n    <tr>\n      <th>1</th>\n      <td>1317.0</td>\n      <td>False</td>\n      <td>False</td>\n      <td>False</td>\n      <td>True</td>\n      <td>True</td>\n      <td>523</td>\n      <td>429</td>\n      <td>60</td>\n      <td>2</td>\n      <td>...</td>\n      <td>875</td>\n      <td>432</td>\n      <td>76</td>\n      <td>2</td>\n      <td>64</td>\n      <td>235</td>\n      <td>126</td>\n      <td>517</td>\n      <td>58</td>\n      <td>15</td>\n    </tr>\n    <tr>\n      <th>2</th>\n      <td>932.0</td>\n      <td>False</td>\n      <td>False</td>\n      <td>False</td>\n      <td>False</td>\n      <td>False</td>\n      <td>110</td>\n      <td>142</td>\n      <td>875</td>\n      <td>432</td>\n      <td>...</td>\n      <td>350</td>\n      <td>4</td>\n      <td>105</td>\n      <td>875</td>\n      <td>80</td>\n      <td>12</td>\n      <td>429</td>\n      <td>7</td>\n      <td>64</td>\n      <td>82</td>\n    </tr>\n    <tr>\n      <th>3</th>\n      <td>2098.0</td>\n      <td>False</td>\n      <td>False</td>\n      <td>True</td>\n      <td>True</td>\n      <td>False</td>\n      <td>523</td>\n      <td>412</td>\n      <td>429</td>\n      <td>80</td>\n      <td>...</td>\n      <td>81</td>\n      <td>110</td>\n      <td>523</td>\n      <td>429</td>\n      <td>60</td>\n      <td>875</td>\n      <td>41</td>\n      <td>21</td>\n      <td>154</td>\n      <td>157</td>\n    </tr>\n    <tr>\n      <th>4</th>\n      <td>2344.0</td>\n      <td>True</td>\n      <td>True</td>\n      <td>True</td>\n      <td>True</td>\n      <td>True</td>\n      <td>30</td>\n      <td>429</td>\n      <td>523</td>\n      <td>235</td>\n      <td>...</td>\n      <td>523</td>\n      <td>106</td>\n      <td>80</td>\n      <td>110</td>\n      <td>105</td>\n      <td>62</td>\n      <td>2</td>\n      <td>517</td>\n      <td>142</td>\n      <td>350</td>\n    </tr>\n  </tbody>\n</table>\n<p>5 rows × 31 columns</p>\n</div>"
     },
     "execution_count": 18,
     "metadata": {},
     "output_type": "execute_result"
    }
   ],
   "source": [
    "match_data.head()"
   ],
   "metadata": {
    "collapsed": false,
    "ExecuteTime": {
     "end_time": "2023-11-30T18:54:21.389921900Z",
     "start_time": "2023-11-30T18:54:21.375247600Z"
    }
   },
   "id": "26256f6cb4c0349d"
  },
  {
   "cell_type": "code",
   "execution_count": 17,
   "outputs": [],
   "source": [
    "match_data.drop('gameId', axis=1, inplace=True)"
   ],
   "metadata": {
    "collapsed": false,
    "ExecuteTime": {
     "end_time": "2023-11-30T18:54:18.601832500Z",
     "start_time": "2023-11-30T18:54:18.533978700Z"
    }
   },
   "id": "88dec795946e2179"
  },
  {
   "cell_type": "code",
   "execution_count": 19,
   "outputs": [],
   "source": [
    "win_team1 = [win[0] for win in wins]\n",
    "win_team2 = [win[1] for win in wins]"
   ],
   "metadata": {
    "collapsed": false,
    "ExecuteTime": {
     "end_time": "2023-11-30T18:54:42.765353300Z",
     "start_time": "2023-11-30T18:54:42.726969900Z"
    }
   },
   "id": "d02eff7955ea4c09"
  },
  {
   "cell_type": "code",
   "execution_count": 20,
   "outputs": [],
   "source": [
    "# Dividir los datos en conjunto de entrenamiento y conjunto de prueba\n",
    "predictors = match_data\n",
    "predictors_train, predictors_test, wins_team1_train, wins_team1_test, wins_team2_train, wins_team2_test = train_test_split(predictors, win_team1, win_team2, test_size=0.2, random_state=42)"
   ],
   "metadata": {
    "collapsed": false,
    "ExecuteTime": {
     "end_time": "2023-11-30T18:54:45.040959Z",
     "start_time": "2023-11-30T18:54:44.918272400Z"
    }
   },
   "id": "c82fca96a36a7ebf"
  },
  {
   "cell_type": "code",
   "execution_count": 21,
   "outputs": [
    {
     "data": {
      "text/plain": "RandomForestClassifier(random_state=42)",
      "text/html": "<style>#sk-container-id-2 {color: black;}#sk-container-id-2 pre{padding: 0;}#sk-container-id-2 div.sk-toggleable {background-color: white;}#sk-container-id-2 label.sk-toggleable__label {cursor: pointer;display: block;width: 100%;margin-bottom: 0;padding: 0.3em;box-sizing: border-box;text-align: center;}#sk-container-id-2 label.sk-toggleable__label-arrow:before {content: \"▸\";float: left;margin-right: 0.25em;color: #696969;}#sk-container-id-2 label.sk-toggleable__label-arrow:hover:before {color: black;}#sk-container-id-2 div.sk-estimator:hover label.sk-toggleable__label-arrow:before {color: black;}#sk-container-id-2 div.sk-toggleable__content {max-height: 0;max-width: 0;overflow: hidden;text-align: left;background-color: #f0f8ff;}#sk-container-id-2 div.sk-toggleable__content pre {margin: 0.2em;color: black;border-radius: 0.25em;background-color: #f0f8ff;}#sk-container-id-2 input.sk-toggleable__control:checked~div.sk-toggleable__content {max-height: 200px;max-width: 100%;overflow: auto;}#sk-container-id-2 input.sk-toggleable__control:checked~label.sk-toggleable__label-arrow:before {content: \"▾\";}#sk-container-id-2 div.sk-estimator input.sk-toggleable__control:checked~label.sk-toggleable__label {background-color: #d4ebff;}#sk-container-id-2 div.sk-label input.sk-toggleable__control:checked~label.sk-toggleable__label {background-color: #d4ebff;}#sk-container-id-2 input.sk-hidden--visually {border: 0;clip: rect(1px 1px 1px 1px);clip: rect(1px, 1px, 1px, 1px);height: 1px;margin: -1px;overflow: hidden;padding: 0;position: absolute;width: 1px;}#sk-container-id-2 div.sk-estimator {font-family: monospace;background-color: #f0f8ff;border: 1px dotted black;border-radius: 0.25em;box-sizing: border-box;margin-bottom: 0.5em;}#sk-container-id-2 div.sk-estimator:hover {background-color: #d4ebff;}#sk-container-id-2 div.sk-parallel-item::after {content: \"\";width: 100%;border-bottom: 1px solid gray;flex-grow: 1;}#sk-container-id-2 div.sk-label:hover label.sk-toggleable__label {background-color: #d4ebff;}#sk-container-id-2 div.sk-serial::before {content: \"\";position: absolute;border-left: 1px solid gray;box-sizing: border-box;top: 0;bottom: 0;left: 50%;z-index: 0;}#sk-container-id-2 div.sk-serial {display: flex;flex-direction: column;align-items: center;background-color: white;padding-right: 0.2em;padding-left: 0.2em;position: relative;}#sk-container-id-2 div.sk-item {position: relative;z-index: 1;}#sk-container-id-2 div.sk-parallel {display: flex;align-items: stretch;justify-content: center;background-color: white;position: relative;}#sk-container-id-2 div.sk-item::before, #sk-container-id-2 div.sk-parallel-item::before {content: \"\";position: absolute;border-left: 1px solid gray;box-sizing: border-box;top: 0;bottom: 0;left: 50%;z-index: -1;}#sk-container-id-2 div.sk-parallel-item {display: flex;flex-direction: column;z-index: 1;position: relative;background-color: white;}#sk-container-id-2 div.sk-parallel-item:first-child::after {align-self: flex-end;width: 50%;}#sk-container-id-2 div.sk-parallel-item:last-child::after {align-self: flex-start;width: 50%;}#sk-container-id-2 div.sk-parallel-item:only-child::after {width: 0;}#sk-container-id-2 div.sk-dashed-wrapped {border: 1px dashed gray;margin: 0 0.4em 0.5em 0.4em;box-sizing: border-box;padding-bottom: 0.4em;background-color: white;}#sk-container-id-2 div.sk-label label {font-family: monospace;font-weight: bold;display: inline-block;line-height: 1.2em;}#sk-container-id-2 div.sk-label-container {text-align: center;}#sk-container-id-2 div.sk-container {/* jupyter's `normalize.less` sets `[hidden] { display: none; }` but bootstrap.min.css set `[hidden] { display: none !important; }` so we also need the `!important` here to be able to override the default hidden behavior on the sphinx rendered scikit-learn.org. See: https://github.com/scikit-learn/scikit-learn/issues/21755 */display: inline-block !important;position: relative;}#sk-container-id-2 div.sk-text-repr-fallback {display: none;}</style><div id=\"sk-container-id-2\" class=\"sk-top-container\"><div class=\"sk-text-repr-fallback\"><pre>RandomForestClassifier(random_state=42)</pre><b>In a Jupyter environment, please rerun this cell to show the HTML representation or trust the notebook. <br />On GitHub, the HTML representation is unable to render, please try loading this page with nbviewer.org.</b></div><div class=\"sk-container\" hidden><div class=\"sk-item\"><div class=\"sk-estimator sk-toggleable\"><input class=\"sk-toggleable__control sk-hidden--visually\" id=\"sk-estimator-id-2\" type=\"checkbox\" checked><label for=\"sk-estimator-id-2\" class=\"sk-toggleable__label sk-toggleable__label-arrow\">RandomForestClassifier</label><div class=\"sk-toggleable__content\"><pre>RandomForestClassifier(random_state=42)</pre></div></div></div></div></div>"
     },
     "execution_count": 21,
     "metadata": {},
     "output_type": "execute_result"
    }
   ],
   "source": [
    "# Inicializa el clasificador\n",
    "random_forest_model = RandomForestClassifier(n_estimators=100, random_state=42)\n",
    "\n",
    "# Entrena el modelo\n",
    "random_forest_model.fit(predictors_train, wins_team1_train)"
   ],
   "metadata": {
    "collapsed": false,
    "ExecuteTime": {
     "end_time": "2023-11-30T18:55:08.745566900Z",
     "start_time": "2023-11-30T18:54:46.631774400Z"
    }
   },
   "id": "988911a6a3d0992b"
  },
  {
   "cell_type": "code",
   "execution_count": 22,
   "outputs": [
    {
     "name": "stdout",
     "output_type": "stream",
     "text": [
      "Accuracy: 0.8477171115025064\n"
     ]
    }
   ],
   "source": [
    "wins_pred = random_forest_model.predict(predictors_test)\n",
    "\n",
    "# Evalúa el rendimiento del modelo\n",
    "accuracy = accuracy_score(wins_team1_test, wins_pred)\n",
    "print(f'Accuracy: {accuracy}')"
   ],
   "metadata": {
    "collapsed": false,
    "ExecuteTime": {
     "end_time": "2023-11-30T18:55:11.819559Z",
     "start_time": "2023-11-30T18:55:11.327440300Z"
    }
   },
   "id": "d7becbee1da39247"
  },
  {
   "cell_type": "code",
   "execution_count": 23,
   "outputs": [
    {
     "name": "stdout",
     "output_type": "stream",
     "text": [
      "Importancia de las características:\n",
      "Feature 1: 0.08705084312743484\n",
      "Feature 2: 0.008881691639364869\n",
      "Feature 3: 0.0825205584976236\n",
      "Feature 4: 0.10674255111160987\n",
      "Feature 5: 0.02151483608993732\n",
      "Feature 6: 0.019316369964379708\n",
      "Feature 7: 0.01933797521111957\n",
      "Feature 8: 0.019375694035800597\n",
      "Feature 9: 0.019068490056733726\n",
      "Feature 10: 0.01898673855901859\n",
      "Feature 11: 0.01914907161909964\n",
      "Feature 12: 0.0215230183590603\n",
      "Feature 13: 0.02135493154022055\n",
      "Feature 14: 0.021798068884833616\n",
      "Feature 15: 0.021598227224255955\n",
      "Feature 16: 0.02133417474760227\n",
      "Feature 17: 0.008285272343190007\n",
      "Feature 18: 0.08561416096188963\n",
      "Feature 19: 0.12881791997211628\n",
      "Feature 20: 0.021212963787274875\n",
      "Feature 21: 0.02294293014782672\n",
      "Feature 22: 0.019485112299862342\n",
      "Feature 23: 0.0192590645221861\n",
      "Feature 24: 0.018905297844254404\n",
      "Feature 25: 0.01904215166955008\n",
      "Feature 26: 0.019130863677188442\n",
      "Feature 27: 0.021569971815511405\n",
      "Feature 28: 0.021279174523635706\n",
      "Feature 29: 0.021536030958884966\n",
      "Feature 30: 0.021953619964989218\n",
      "Feature 31: 0.021412224843544724\n"
     ]
    }
   ],
   "source": [
    "# Si deseas ver la importancia de las características, puedes hacerlo con:\n",
    "feature_importances = random_forest_model.feature_importances_\n",
    "print('Importancia de las características:')\n",
    "for i, importance in enumerate(feature_importances):\n",
    "    print(f'Feature {i + 1}: {importance}')"
   ],
   "metadata": {
    "collapsed": false,
    "ExecuteTime": {
     "end_time": "2023-11-30T18:55:20.427407300Z",
     "start_time": "2023-11-30T18:55:20.391724Z"
    }
   },
   "id": "9c02d192fd48e71d"
  },
  {
   "cell_type": "code",
   "execution_count": null,
   "outputs": [],
   "source": [],
   "metadata": {
    "collapsed": false
   },
   "id": "35ad9c21d651e308"
  }
 ],
 "metadata": {
  "kernelspec": {
   "display_name": "Python 3",
   "language": "python",
   "name": "python3"
  },
  "language_info": {
   "codemirror_mode": {
    "name": "ipython",
    "version": 2
   },
   "file_extension": ".py",
   "mimetype": "text/x-python",
   "name": "python",
   "nbconvert_exporter": "python",
   "pygments_lexer": "ipython2",
   "version": "2.7.6"
  }
 },
 "nbformat": 4,
 "nbformat_minor": 5
}
