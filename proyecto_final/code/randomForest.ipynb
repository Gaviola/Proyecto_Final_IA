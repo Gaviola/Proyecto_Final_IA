{
 "cells": [
  {
   "cell_type": "code",
   "execution_count": 19,
   "id": "initial_id",
   "metadata": {
    "collapsed": true,
    "ExecuteTime": {
     "end_time": "2023-12-01T01:59:46.963773600Z",
     "start_time": "2023-12-01T01:59:46.930272800Z"
    }
   },
   "outputs": [],
   "source": [
    "from sklearn.ensemble import RandomForestClassifier\n",
    "from sklearn.model_selection import train_test_split\n",
    "from sklearn.metrics import precision_score, recall_score, f1_score, accuracy_score, confusion_matrix\n",
    "import pandas as pd"
   ]
  },
  {
   "cell_type": "code",
   "execution_count": 2,
   "outputs": [],
   "source": [
    "match_data = pd.read_csv('C:\\\\Users\\\\Facu\\\\PycharmProjects\\\\Proyecto_Final_IA\\\\proyecto_final\\\\data\\\\matchData.csv')\n",
    "#Serializamos el data frame\n",
    "match_data['teams'] = match_data['teams'].apply(eval)  # Convierte la cadena JSON a una lista de diccionarios\n"
   ],
   "metadata": {
    "collapsed": false,
    "ExecuteTime": {
     "end_time": "2023-12-01T01:45:52.112718200Z",
     "start_time": "2023-12-01T01:45:18.376777500Z"
    }
   },
   "id": "35aad2fcc7851554"
  },
  {
   "cell_type": "code",
   "execution_count": 3,
   "outputs": [],
   "source": [
    "# agrega las columnas: firstBloodTeam1', 'firstTowerTeam1,'firstBaronTeam1','firstDragonTeam1', 'firstRiftHeraldTeam1', 'ban1Team1', 'ban2Team1', 'ban3Team1', 'ban4Team1', 'ban5Team1', champ1Team1, champ2Team1, champ3Team1, champ4Team1, champ5Team1, 'firstBloodTeam2', 'firstTowerTeam2', 'firstBaronTeam2', 'firstDragonTeam2', 'firstRiftHeraldTeam2', 'ban1Team2', 'ban2Team2', 'ban3Team2', 'ban4Team2', 'ban5Team2', champ1Team2, champ2Team2, champ3Team2, champ4Team2, champ5Team2.\n",
    "match_data['firstBloodTeam1'] = [None for _ in range(len(match_data))]\n",
    "match_data['firstTowerTeam1'] = [None for _ in range(len(match_data))]\n",
    "match_data['firstBaronTeam1'] = [None for _ in range(len(match_data))]\n",
    "match_data['firstDragonTeam1'] = [None for _ in range(len(match_data))]\n",
    "match_data['firstRiftHeraldTeam1'] = [None for _ in range(len(match_data))]\n",
    "match_data['ban1Team1'] = [None for _ in range(len(match_data))]\n",
    "match_data['ban2Team1'] = [None for _ in range(len(match_data))]\n",
    "match_data['ban3Team1'] = [None for _ in range(len(match_data))]\n",
    "match_data['ban4Team1'] = [None for _ in range(len(match_data))]\n",
    "match_data['ban5Team1'] = [None for _ in range(len(match_data))]\n",
    "match_data['champ1Team1'] = [None for _ in range(len(match_data))]\n",
    "match_data['champ2Team1'] = [None for _ in range(len(match_data))]\n",
    "match_data['champ3Team1'] = [None for _ in range(len(match_data))]\n",
    "match_data['champ4Team1'] = [None for _ in range(len(match_data))]\n",
    "match_data['champ5Team1'] = [None for _ in range(len(match_data))]\n",
    "match_data['firstBloodTeam2'] = [None for _ in range(len(match_data))]\n",
    "match_data['firstTowerTeam2'] = [None for _ in range(len(match_data))]\n",
    "match_data['firstBaronTeam2'] = [None for _ in range(len(match_data))]\n",
    "match_data['firstDragonTeam2'] = [None for _ in range(len(match_data))]\n",
    "match_data['firstRiftHeraldTeam2'] = [None for _ in range(len(match_data))]\n",
    "match_data['ban1Team2'] = [None for _ in range(len(match_data))]\n",
    "match_data['ban2Team2'] = [None for _ in range(len(match_data))]\n",
    "match_data['ban3Team2'] = [None for _ in range(len(match_data))]\n",
    "match_data['ban4Team2'] = [None for _ in range(len(match_data))]\n",
    "match_data['ban5Team2'] = [None for _ in range(len(match_data))]\n",
    "match_data['champ1Team2'] = [None for _ in range(len(match_data))]\n",
    "match_data['champ2Team2'] = [None for _ in range(len(match_data))]\n",
    "match_data['champ3Team2'] = [None for _ in range(len(match_data))]\n",
    "match_data['champ4Team2'] = [None for _ in range(len(match_data))]\n",
    "match_data['champ5Team2'] = [None for _ in range(len(match_data))]"
   ],
   "metadata": {
    "collapsed": false,
    "ExecuteTime": {
     "end_time": "2023-12-01T01:49:11.754722600Z",
     "start_time": "2023-12-01T01:49:10.587198600Z"
    }
   },
   "id": "2ef72d8fbc6cc53e"
  },
  {
   "cell_type": "code",
   "execution_count": 4,
   "outputs": [],
   "source": [
    "# Busca los valores de las columnas anteriores en la columna 'teams' y los agrega en las columnas correspondientes\n",
    "def get_team_data(teams, n):\n",
    "    team1 = None  \n",
    "    team2 = None  \n",
    "    for team in teams:\n",
    "        if team['teamId'] == 100:\n",
    "            team1 = team\n",
    "        else:\n",
    "            team2 = team\n",
    "    match_data.at[match_data.index[n], 'firstBloodTeam1'] = team1.get('firstBlood', None)\n",
    "    match_data.at[match_data.index[n], 'firstTowerTeam1'] = team1.get('firstTower', None)\n",
    "    match_data.at[match_data.index[n], 'firstBaronTeam1'] = team1.get('firstBaron', None)\n",
    "    match_data.at[match_data.index[n], 'firstDragonTeam1'] = team1.get('firstDragon', None)\n",
    "    match_data.at[match_data.index[n], 'firstRiftHeraldTeam1'] = team1.get('firstRiftHerald', None)\n",
    "    \n",
    "    if team1['bans']:\n",
    "        match_data.at[match_data.index[n], 'ban1Team1'] = team1['bans'][0].get('championId', None)\n",
    "        match_data.at[match_data.index[n], 'ban2Team1'] = team1['bans'][1].get('championId', None)\n",
    "        match_data.at[match_data.index[n], 'ban3Team1'] = team1['bans'][2].get('championId', None)\n",
    "        match_data.at[match_data.index[n], 'ban4Team1'] = team1['bans'][3].get('championId', None)\n",
    "        match_data.at[match_data.index[n], 'ban5Team1'] = team1['bans'][4].get('championId', None)\n",
    "\n",
    "    match_data.at[match_data.index[n], 'champ1Team1'] = team1.get('championId', None)\n",
    "    match_data.at[match_data.index[n], 'champ2Team1'] = team1.get('championId', None)\n",
    "    match_data.at[match_data.index[n], 'champ3Team1'] = team1.get('championId', None)\n",
    "    match_data.at[match_data.index[n], 'champ4Team1'] = team1.get('championId', None)\n",
    "    match_data.at[match_data.index[n], 'champ5Team1'] = team1.get('championId', None)\n",
    "    match_data.at[match_data.index[n], 'firstBloodTeam2'] = team2.get('firstBlood', None)\n",
    "    match_data.at[match_data.index[n], 'firstTowerTeam2'] = team2.get('firstTower', None)\n",
    "    match_data.at[match_data.index[n], 'firstBaronTeam2'] = team2.get('firstBaron', None)\n",
    "    match_data.at[match_data.index[n], 'firstDragonTeam2'] = team2.get('firstDragon', None)\n",
    "    match_data.at[match_data.index[n], 'firstRiftHeraldTeam2'] = team2.get('firstRiftHerald', None)\n",
    "    \n",
    "    if team2['bans']:\n",
    "        match_data.at[match_data.index[n], 'ban1Team2'] = team2['bans'][0].get('championId', None)\n",
    "        match_data.at[match_data.index[n], 'ban2Team2'] = team2['bans'][1].get('championId', None)\n",
    "        match_data.at[match_data.index[n], 'ban3Team2'] = team2['bans'][2].get('championId', None)\n",
    "        match_data.at[match_data.index[n], 'ban4Team2'] = team2['bans'][3].get('championId', None)\n",
    "        match_data.at[match_data.index[n], 'ban5Team2'] = team2['bans'][4].get('championId', None)\n",
    "\n",
    "    match_data.at[match_data.index[n], 'champ1Team2'] = team2.get('championId', None)\n",
    "    match_data.at[match_data.index[n], 'champ2Team2'] = team2.get('championId', None)\n",
    "    match_data.at[match_data.index[n], 'champ3Team2'] = team2.get('championId', None)\n",
    "    match_data.at[match_data.index[n], 'champ4Team2'] = team2.get('championId', None)\n",
    "    match_data.at[match_data.index[n], 'champ5Team2'] = team2.get('championId', None)\n",
    "    return n+1\n",
    "\n",
    "match_data['index'] = match_data.index\n",
    "match_data.apply(lambda row: get_team_data(row['teams'], row['index']), axis=1)  # Aplica la función a cada fila del dataframe\n",
    "match_data.drop('index', axis=1, inplace=True)  # Elimina la columna temporal 'index'\n"
   ],
   "metadata": {
    "collapsed": false,
    "ExecuteTime": {
     "end_time": "2023-12-01T01:50:25.993098900Z",
     "start_time": "2023-12-01T01:49:13.058193600Z"
    }
   },
   "id": "7e6b45238283ff0d"
  },
  {
   "cell_type": "code",
   "execution_count": 6,
   "outputs": [],
   "source": [
    "match_data['participants'] = match_data['participants'].apply(eval)"
   ],
   "metadata": {
    "collapsed": false,
    "ExecuteTime": {
     "end_time": "2023-12-01T01:55:09.276570700Z",
     "start_time": "2023-12-01T01:53:48.635802200Z"
    }
   },
   "id": "8fc3c5a04082b0e5"
  },
  {
   "cell_type": "code",
   "execution_count": 7,
   "outputs": [],
   "source": [
    "# rellena las columas de campeones con el ID del campeón que seleccionó cada jugador\n",
    "def get_champ_data(participants, n):\n",
    "    for participant in participants:\n",
    "        if participant['teamId'] == 100:\n",
    "            if participant['participantId'] == 1:\n",
    "                match_data.at[match_data.index[n], 'champ1Team1'] = participant.get('championId', None)\n",
    "            elif participant['participantId'] == 2:\n",
    "                match_data.at[match_data.index[n], 'champ2Team1'] = participant.get('championId', None)\n",
    "            elif participant['participantId'] == 3:\n",
    "                match_data.at[match_data.index[n], 'champ3Team1'] = participant.get('championId', None)\n",
    "            elif participant['participantId'] == 4:\n",
    "                match_data.at[match_data.index[n], 'champ4Team1'] = participant.get('championId', None)\n",
    "            elif participant['participantId'] == 5:\n",
    "                match_data.at[match_data.index[n], 'champ5Team1'] = participant.get('championId', None)\n",
    "        else:\n",
    "            if participant['participantId'] == 6:\n",
    "                match_data.at[match_data.index[n], 'champ1Team2'] = participant.get('championId', None)\n",
    "            elif participant['participantId'] == 7:\n",
    "                match_data.at[match_data.index[n], 'champ2Team2'] = participant.get('championId', None)\n",
    "            elif participant['participantId'] == 8:\n",
    "                match_data.at[match_data.index[n], 'champ3Team2'] = participant.get('championId', None)\n",
    "            elif participant['participantId'] == 9:\n",
    "                match_data.at[match_data.index[n], 'champ4Team2'] = participant.get('championId', None)\n",
    "            elif participant['participantId'] == 10:\n",
    "                match_data.at[match_data.index[n], 'champ5Team2'] = participant.get('championId', None)\n",
    "    return n+1\n",
    "\n",
    "match_data['index'] = match_data.index\n",
    "match_data.apply(lambda row: get_champ_data(row['participants'], row['index']), axis=1)\n",
    "match_data.drop('index', axis=1, inplace=True)  # Elimina la columna temporal 'index'\n"
   ],
   "metadata": {
    "collapsed": false,
    "ExecuteTime": {
     "end_time": "2023-12-01T01:55:47.027821500Z",
     "start_time": "2023-12-01T01:55:18.741967500Z"
    }
   },
   "id": "98b5e2cfc613692c"
  },
  {
   "cell_type": "code",
   "execution_count": 8,
   "outputs": [],
   "source": [
    "# Elimina las filas con valores nulos\n",
    "match_data.dropna(inplace=True)"
   ],
   "metadata": {
    "collapsed": false,
    "ExecuteTime": {
     "end_time": "2023-12-01T01:55:49.979225200Z",
     "start_time": "2023-12-01T01:55:49.589412800Z"
    }
   },
   "id": "b67c5bfa61428def"
  },
  {
   "cell_type": "code",
   "execution_count": 9,
   "outputs": [],
   "source": [
    "def get_win(team_list):\n",
    "    wins = [team.get('win', None) for team in team_list]\n",
    "    return wins\n",
    "\n",
    "# Aplica la función a la columna 'teams' para obtener la columna 'win'\n",
    "wins = match_data['teams'].apply(get_win)"
   ],
   "metadata": {
    "collapsed": false,
    "ExecuteTime": {
     "end_time": "2023-12-01T01:55:51.803901400Z",
     "start_time": "2023-12-01T01:55:50.708595100Z"
    }
   },
   "id": "86d987581d2f8783"
  },
  {
   "cell_type": "code",
   "execution_count": 10,
   "outputs": [],
   "source": [
    "# Elimina las columas 'participantsIdentities', 'participants', y 'teams'\n",
    "match_data.drop('participantIdentities', axis=1, inplace=True)\n",
    "match_data.drop('participants', axis=1, inplace=True)\n",
    "match_data.drop('teams', axis=1, inplace=True)"
   ],
   "metadata": {
    "collapsed": false,
    "ExecuteTime": {
     "end_time": "2023-12-01T01:55:53.649830600Z",
     "start_time": "2023-12-01T01:55:53.054579600Z"
    }
   },
   "id": "a62881ce3a81c5f5"
  },
  {
   "cell_type": "code",
   "execution_count": 11,
   "outputs": [
    {
     "data": {
      "text/plain": "   gameDuration      gameId firstBloodTeam1 firstTowerTeam1 firstBaronTeam1  \\\n0        1323.0  4247263043            True           False           False   \n1        1317.0  4247155821           False           False           False   \n2         932.0  4243963257           False           False           False   \n3        2098.0  4241678498           False           False            True   \n4        2344.0  4241538868            True            True            True   \n\n  firstDragonTeam1 firstRiftHeraldTeam1 ban1Team1 ban2Team1 ban3Team1  ...  \\\n0            False                False        -1        80       875  ...   \n1             True                 True       523       429        60  ...   \n2            False                False       110       142       875  ...   \n3             True                False       523       412       429  ...   \n4             True                 True        30       429       523  ...   \n\n  ban1Team2 ban2Team2 ban3Team2 ban4Team2 ban5Team2 champ1Team2 champ2Team2  \\\n0       523       429       142        62        -1         235          81   \n1       875       432        76         2        64         235         126   \n2       350         4       105       875        80          12         429   \n3        81       110       523       429        60         875          41   \n4       523       106        80       110       105          62           2   \n\n  champ3Team2 champ4Team2 champ5Team2  \n0         127          84         421  \n1         517          58          15  \n2           7          64          82  \n3          21         154         157  \n4         517         142         350  \n\n[5 rows x 32 columns]",
      "text/html": "<div>\n<style scoped>\n    .dataframe tbody tr th:only-of-type {\n        vertical-align: middle;\n    }\n\n    .dataframe tbody tr th {\n        vertical-align: top;\n    }\n\n    .dataframe thead th {\n        text-align: right;\n    }\n</style>\n<table border=\"1\" class=\"dataframe\">\n  <thead>\n    <tr style=\"text-align: right;\">\n      <th></th>\n      <th>gameDuration</th>\n      <th>gameId</th>\n      <th>firstBloodTeam1</th>\n      <th>firstTowerTeam1</th>\n      <th>firstBaronTeam1</th>\n      <th>firstDragonTeam1</th>\n      <th>firstRiftHeraldTeam1</th>\n      <th>ban1Team1</th>\n      <th>ban2Team1</th>\n      <th>ban3Team1</th>\n      <th>...</th>\n      <th>ban1Team2</th>\n      <th>ban2Team2</th>\n      <th>ban3Team2</th>\n      <th>ban4Team2</th>\n      <th>ban5Team2</th>\n      <th>champ1Team2</th>\n      <th>champ2Team2</th>\n      <th>champ3Team2</th>\n      <th>champ4Team2</th>\n      <th>champ5Team2</th>\n    </tr>\n  </thead>\n  <tbody>\n    <tr>\n      <th>0</th>\n      <td>1323.0</td>\n      <td>4247263043</td>\n      <td>True</td>\n      <td>False</td>\n      <td>False</td>\n      <td>False</td>\n      <td>False</td>\n      <td>-1</td>\n      <td>80</td>\n      <td>875</td>\n      <td>...</td>\n      <td>523</td>\n      <td>429</td>\n      <td>142</td>\n      <td>62</td>\n      <td>-1</td>\n      <td>235</td>\n      <td>81</td>\n      <td>127</td>\n      <td>84</td>\n      <td>421</td>\n    </tr>\n    <tr>\n      <th>1</th>\n      <td>1317.0</td>\n      <td>4247155821</td>\n      <td>False</td>\n      <td>False</td>\n      <td>False</td>\n      <td>True</td>\n      <td>True</td>\n      <td>523</td>\n      <td>429</td>\n      <td>60</td>\n      <td>...</td>\n      <td>875</td>\n      <td>432</td>\n      <td>76</td>\n      <td>2</td>\n      <td>64</td>\n      <td>235</td>\n      <td>126</td>\n      <td>517</td>\n      <td>58</td>\n      <td>15</td>\n    </tr>\n    <tr>\n      <th>2</th>\n      <td>932.0</td>\n      <td>4243963257</td>\n      <td>False</td>\n      <td>False</td>\n      <td>False</td>\n      <td>False</td>\n      <td>False</td>\n      <td>110</td>\n      <td>142</td>\n      <td>875</td>\n      <td>...</td>\n      <td>350</td>\n      <td>4</td>\n      <td>105</td>\n      <td>875</td>\n      <td>80</td>\n      <td>12</td>\n      <td>429</td>\n      <td>7</td>\n      <td>64</td>\n      <td>82</td>\n    </tr>\n    <tr>\n      <th>3</th>\n      <td>2098.0</td>\n      <td>4241678498</td>\n      <td>False</td>\n      <td>False</td>\n      <td>True</td>\n      <td>True</td>\n      <td>False</td>\n      <td>523</td>\n      <td>412</td>\n      <td>429</td>\n      <td>...</td>\n      <td>81</td>\n      <td>110</td>\n      <td>523</td>\n      <td>429</td>\n      <td>60</td>\n      <td>875</td>\n      <td>41</td>\n      <td>21</td>\n      <td>154</td>\n      <td>157</td>\n    </tr>\n    <tr>\n      <th>4</th>\n      <td>2344.0</td>\n      <td>4241538868</td>\n      <td>True</td>\n      <td>True</td>\n      <td>True</td>\n      <td>True</td>\n      <td>True</td>\n      <td>30</td>\n      <td>429</td>\n      <td>523</td>\n      <td>...</td>\n      <td>523</td>\n      <td>106</td>\n      <td>80</td>\n      <td>110</td>\n      <td>105</td>\n      <td>62</td>\n      <td>2</td>\n      <td>517</td>\n      <td>142</td>\n      <td>350</td>\n    </tr>\n  </tbody>\n</table>\n<p>5 rows × 32 columns</p>\n</div>"
     },
     "execution_count": 11,
     "metadata": {},
     "output_type": "execute_result"
    }
   ],
   "source": [
    "match_data.head()"
   ],
   "metadata": {
    "collapsed": false,
    "ExecuteTime": {
     "end_time": "2023-12-01T01:55:54.993375800Z",
     "start_time": "2023-12-01T01:55:54.964634300Z"
    }
   },
   "id": "26256f6cb4c0349d"
  },
  {
   "cell_type": "code",
   "execution_count": 12,
   "outputs": [],
   "source": [
    "match_data.drop('gameId', axis=1, inplace=True)"
   ],
   "metadata": {
    "collapsed": false,
    "ExecuteTime": {
     "end_time": "2023-12-01T01:55:56.723914900Z",
     "start_time": "2023-12-01T01:55:56.668783800Z"
    }
   },
   "id": "88dec795946e2179"
  },
  {
   "cell_type": "code",
   "execution_count": 13,
   "outputs": [],
   "source": [
    "win_team1 = [win[0] for win in wins]\n",
    "win_team2 = [win[1] for win in wins]"
   ],
   "metadata": {
    "collapsed": false,
    "ExecuteTime": {
     "end_time": "2023-12-01T01:55:57.600875200Z",
     "start_time": "2023-12-01T01:55:57.548649600Z"
    }
   },
   "id": "d02eff7955ea4c09"
  },
  {
   "cell_type": "code",
   "execution_count": 14,
   "outputs": [],
   "source": [
    "# Dividir los datos en conjunto de entrenamiento y conjunto de prueba\n",
    "predictors = match_data\n",
    "predictors_train, predictors_test, wins_team1_train, wins_team1_test, wins_team2_train, wins_team2_test = train_test_split(predictors, win_team1, win_team2, test_size=0.2, random_state=42)"
   ],
   "metadata": {
    "collapsed": false,
    "ExecuteTime": {
     "end_time": "2023-12-01T01:55:58.516531900Z",
     "start_time": "2023-12-01T01:55:58.400961700Z"
    }
   },
   "id": "c82fca96a36a7ebf"
  },
  {
   "cell_type": "code",
   "execution_count": 15,
   "outputs": [
    {
     "data": {
      "text/plain": "RandomForestClassifier(random_state=42)",
      "text/html": "<style>#sk-container-id-1 {color: black;}#sk-container-id-1 pre{padding: 0;}#sk-container-id-1 div.sk-toggleable {background-color: white;}#sk-container-id-1 label.sk-toggleable__label {cursor: pointer;display: block;width: 100%;margin-bottom: 0;padding: 0.3em;box-sizing: border-box;text-align: center;}#sk-container-id-1 label.sk-toggleable__label-arrow:before {content: \"▸\";float: left;margin-right: 0.25em;color: #696969;}#sk-container-id-1 label.sk-toggleable__label-arrow:hover:before {color: black;}#sk-container-id-1 div.sk-estimator:hover label.sk-toggleable__label-arrow:before {color: black;}#sk-container-id-1 div.sk-toggleable__content {max-height: 0;max-width: 0;overflow: hidden;text-align: left;background-color: #f0f8ff;}#sk-container-id-1 div.sk-toggleable__content pre {margin: 0.2em;color: black;border-radius: 0.25em;background-color: #f0f8ff;}#sk-container-id-1 input.sk-toggleable__control:checked~div.sk-toggleable__content {max-height: 200px;max-width: 100%;overflow: auto;}#sk-container-id-1 input.sk-toggleable__control:checked~label.sk-toggleable__label-arrow:before {content: \"▾\";}#sk-container-id-1 div.sk-estimator input.sk-toggleable__control:checked~label.sk-toggleable__label {background-color: #d4ebff;}#sk-container-id-1 div.sk-label input.sk-toggleable__control:checked~label.sk-toggleable__label {background-color: #d4ebff;}#sk-container-id-1 input.sk-hidden--visually {border: 0;clip: rect(1px 1px 1px 1px);clip: rect(1px, 1px, 1px, 1px);height: 1px;margin: -1px;overflow: hidden;padding: 0;position: absolute;width: 1px;}#sk-container-id-1 div.sk-estimator {font-family: monospace;background-color: #f0f8ff;border: 1px dotted black;border-radius: 0.25em;box-sizing: border-box;margin-bottom: 0.5em;}#sk-container-id-1 div.sk-estimator:hover {background-color: #d4ebff;}#sk-container-id-1 div.sk-parallel-item::after {content: \"\";width: 100%;border-bottom: 1px solid gray;flex-grow: 1;}#sk-container-id-1 div.sk-label:hover label.sk-toggleable__label {background-color: #d4ebff;}#sk-container-id-1 div.sk-serial::before {content: \"\";position: absolute;border-left: 1px solid gray;box-sizing: border-box;top: 0;bottom: 0;left: 50%;z-index: 0;}#sk-container-id-1 div.sk-serial {display: flex;flex-direction: column;align-items: center;background-color: white;padding-right: 0.2em;padding-left: 0.2em;position: relative;}#sk-container-id-1 div.sk-item {position: relative;z-index: 1;}#sk-container-id-1 div.sk-parallel {display: flex;align-items: stretch;justify-content: center;background-color: white;position: relative;}#sk-container-id-1 div.sk-item::before, #sk-container-id-1 div.sk-parallel-item::before {content: \"\";position: absolute;border-left: 1px solid gray;box-sizing: border-box;top: 0;bottom: 0;left: 50%;z-index: -1;}#sk-container-id-1 div.sk-parallel-item {display: flex;flex-direction: column;z-index: 1;position: relative;background-color: white;}#sk-container-id-1 div.sk-parallel-item:first-child::after {align-self: flex-end;width: 50%;}#sk-container-id-1 div.sk-parallel-item:last-child::after {align-self: flex-start;width: 50%;}#sk-container-id-1 div.sk-parallel-item:only-child::after {width: 0;}#sk-container-id-1 div.sk-dashed-wrapped {border: 1px dashed gray;margin: 0 0.4em 0.5em 0.4em;box-sizing: border-box;padding-bottom: 0.4em;background-color: white;}#sk-container-id-1 div.sk-label label {font-family: monospace;font-weight: bold;display: inline-block;line-height: 1.2em;}#sk-container-id-1 div.sk-label-container {text-align: center;}#sk-container-id-1 div.sk-container {/* jupyter's `normalize.less` sets `[hidden] { display: none; }` but bootstrap.min.css set `[hidden] { display: none !important; }` so we also need the `!important` here to be able to override the default hidden behavior on the sphinx rendered scikit-learn.org. See: https://github.com/scikit-learn/scikit-learn/issues/21755 */display: inline-block !important;position: relative;}#sk-container-id-1 div.sk-text-repr-fallback {display: none;}</style><div id=\"sk-container-id-1\" class=\"sk-top-container\"><div class=\"sk-text-repr-fallback\"><pre>RandomForestClassifier(random_state=42)</pre><b>In a Jupyter environment, please rerun this cell to show the HTML representation or trust the notebook. <br />On GitHub, the HTML representation is unable to render, please try loading this page with nbviewer.org.</b></div><div class=\"sk-container\" hidden><div class=\"sk-item\"><div class=\"sk-estimator sk-toggleable\"><input class=\"sk-toggleable__control sk-hidden--visually\" id=\"sk-estimator-id-1\" type=\"checkbox\" checked><label for=\"sk-estimator-id-1\" class=\"sk-toggleable__label sk-toggleable__label-arrow\">RandomForestClassifier</label><div class=\"sk-toggleable__content\"><pre>RandomForestClassifier(random_state=42)</pre></div></div></div></div></div>"
     },
     "execution_count": 15,
     "metadata": {},
     "output_type": "execute_result"
    }
   ],
   "source": [
    "# Inicializa el clasificador\n",
    "random_forest_model = RandomForestClassifier(n_estimators=100, random_state=42)\n",
    "\n",
    "# Entrena el modelo\n",
    "random_forest_model.fit(predictors_train, wins_team1_train)"
   ],
   "metadata": {
    "collapsed": false,
    "ExecuteTime": {
     "end_time": "2023-12-01T01:56:40.705430500Z",
     "start_time": "2023-12-01T01:56:01.043447500Z"
    }
   },
   "id": "988911a6a3d0992b"
  },
  {
   "cell_type": "code",
   "execution_count": 16,
   "outputs": [
    {
     "name": "stdout",
     "output_type": "stream",
     "text": [
      "Accuracy: 0.8477171115025064\n"
     ]
    }
   ],
   "source": [
    "wins_pred = random_forest_model.predict(predictors_test)\n",
    "\n",
    "# Evalúa el rendimiento del modelo\n",
    "accuracy = accuracy_score(wins_team1_test, wins_pred)\n",
    "print(f'Accuracy: {accuracy}')"
   ],
   "metadata": {
    "collapsed": false,
    "ExecuteTime": {
     "end_time": "2023-12-01T01:56:46.610990300Z",
     "start_time": "2023-12-01T01:56:45.708499700Z"
    }
   },
   "id": "d7becbee1da39247"
  },
  {
   "cell_type": "code",
   "execution_count": 17,
   "outputs": [
    {
     "name": "stdout",
     "output_type": "stream",
     "text": [
      "Matriz de Confusión:\n",
      "             Predicted Win  Predicted Lose\n",
      "Actual Win            9458            1704\n",
      "Actual Lose           1668            9313\n"
     ]
    }
   ],
   "source": [
    "# Crear la matriz de confusión para team1\n",
    "conf_matrix = confusion_matrix(wins_team1_test, wins_pred)\n",
    "\n",
    "# Crear un DataFrame de pandas para visualizar mejor la matriz de confusión\n",
    "conf_matrix_df = pd.DataFrame(conf_matrix, index=['Actual Win', 'Actual Lose'], columns=['Predicted Win', 'Predicted Lose'])\n",
    "\n",
    "# Imprimir la matriz de confusión\n",
    "print(\"Matriz de Confusión:\")\n",
    "print(conf_matrix_df)"
   ],
   "metadata": {
    "collapsed": false,
    "ExecuteTime": {
     "end_time": "2023-12-01T01:56:48.708617800Z",
     "start_time": "2023-12-01T01:56:48.646969700Z"
    }
   },
   "id": "2071b1c142ce836d"
  },
  {
   "cell_type": "code",
   "execution_count": 22,
   "outputs": [
    {
     "name": "stdout",
     "output_type": "stream",
     "text": [
      "Matriz de Confusión:\n",
      "             Predicted Win  Predicted Lose\n",
      "Actual Win            1668            9313\n",
      "Actual Lose           9458            1704\n"
     ]
    }
   ],
   "source": [
    "# Crear la matriz de confusión para team1\n",
    "conf_matrix = confusion_matrix(wins_team2_test, wins_pred)\n",
    "\n",
    "# Crear un DataFrame de pandas para visualizar mejor la matriz de confusión\n",
    "conf_matrix_df = pd.DataFrame(conf_matrix, index=['Actual Win', 'Actual Lose'], columns=['Predicted Win', 'Predicted Lose'])\n",
    "\n",
    "# Imprimir la matriz de confusión\n",
    "print(\"Matriz de Confusión:\")\n",
    "print(conf_matrix_df)"
   ],
   "metadata": {
    "collapsed": false,
    "ExecuteTime": {
     "end_time": "2023-12-01T02:03:33.303060500Z",
     "start_time": "2023-12-01T02:03:33.241670800Z"
    }
   },
   "id": "7a8b918641d8c4a4"
  },
  {
   "cell_type": "code",
   "execution_count": 20,
   "outputs": [
    {
     "name": "stdout",
     "output_type": "stream",
     "text": [
      "Precisión: 0.8477\n",
      "Sensibilidad (Recall): 0.8477\n",
      "Puntuación F1: 0.8477\n",
      "Exactitud: 0.8477\n"
     ]
    }
   ],
   "source": [
    "# Calcular la precisión para team1\n",
    "precision = precision_score(wins_team1_test, wins_pred, average='weighted')\n",
    "\n",
    "# Calcular la sensibilidad (recall) para team1\n",
    "recall = recall_score(wins_team1_test, wins_pred, average='weighted')\n",
    "\n",
    "# Calcular la puntuación F1 para team1\n",
    "f1 = f1_score(wins_team1_test, wins_pred, average='weighted')\n",
    "\n",
    "# Calcular la exactitud para team1\n",
    "accuracy = accuracy_score(wins_team1_test, wins_pred)\n",
    "\n",
    "# Imprimir las métricas\n",
    "print(f'Precisión: {precision:.4f}')\n",
    "print(f'Sensibilidad (Recall): {recall:.4f}')\n",
    "print(f'Puntuación F1: {f1:.4f}')\n",
    "print(f'Exactitud: {accuracy:.4f}')"
   ],
   "metadata": {
    "collapsed": false,
    "ExecuteTime": {
     "end_time": "2023-12-01T02:01:48.702873800Z",
     "start_time": "2023-12-01T02:01:48.427232200Z"
    }
   },
   "id": "18a64b3a109fe8d7"
  },
  {
   "cell_type": "code",
   "execution_count": 21,
   "outputs": [
    {
     "name": "stdout",
     "output_type": "stream",
     "text": [
      "Precisión: 0.1523\n",
      "Sensibilidad (Recall): 0.1523\n",
      "Puntuación F1: 0.1523\n",
      "Exactitud: 0.1523\n"
     ]
    }
   ],
   "source": [
    "# Calcular la precisión para team1\n",
    "precision = precision_score(wins_team2_test, wins_pred, average='weighted')\n",
    "\n",
    "# Calcular la sensibilidad (recall) para team1\n",
    "recall = recall_score(wins_team2_test, wins_pred, average='weighted')\n",
    "\n",
    "# Calcular la puntuación F1 para team1\n",
    "f1 = f1_score(wins_team2_test, wins_pred, average='weighted')\n",
    "\n",
    "# Calcular la exactitud para team1\n",
    "accuracy = accuracy_score(wins_team2_test, wins_pred)\n",
    "\n",
    "# Imprimir las métricas\n",
    "print(f'Precisión: {precision:.4f}')\n",
    "print(f'Sensibilidad (Recall): {recall:.4f}')\n",
    "print(f'Puntuación F1: {f1:.4f}')\n",
    "print(f'Exactitud: {accuracy:.4f}')"
   ],
   "metadata": {
    "collapsed": false,
    "ExecuteTime": {
     "end_time": "2023-12-01T02:03:06.074800100Z",
     "start_time": "2023-12-01T02:03:05.806283600Z"
    }
   },
   "id": "5a8d4850e0f4f5b0"
  },
  {
   "cell_type": "code",
   "execution_count": 18,
   "outputs": [
    {
     "name": "stdout",
     "output_type": "stream",
     "text": [
      "Importancia de las características:\n",
      "gameDuration: 0.08705084312743484\n",
      "firstBloodTeam1: 0.008881691639364869\n",
      "firstTowerTeam1: 0.0825205584976236\n",
      "firstBaronTeam1: 0.10674255111160987\n",
      "firstDragonTeam1: 0.02151483608993732\n",
      "firstRiftHeraldTeam1: 0.019316369964379708\n",
      "ban1Team1: 0.01933797521111957\n",
      "ban2Team1: 0.019375694035800597\n",
      "ban3Team1: 0.019068490056733726\n",
      "ban4Team1: 0.01898673855901859\n",
      "ban5Team1: 0.01914907161909964\n",
      "champ1Team1: 0.0215230183590603\n",
      "champ2Team1: 0.02135493154022055\n",
      "champ3Team1: 0.021798068884833616\n",
      "champ4Team1: 0.021598227224255955\n",
      "champ5Team1: 0.02133417474760227\n",
      "firstBloodTeam2: 0.008285272343190007\n",
      "firstTowerTeam2: 0.08561416096188963\n",
      "firstBaronTeam2: 0.12881791997211628\n",
      "firstDragonTeam2: 0.021212963787274875\n",
      "firstRiftHeraldTeam2: 0.02294293014782672\n",
      "ban1Team2: 0.019485112299862342\n",
      "ban2Team2: 0.0192590645221861\n",
      "ban3Team2: 0.018905297844254404\n",
      "ban4Team2: 0.01904215166955008\n",
      "ban5Team2: 0.019130863677188442\n",
      "champ1Team2: 0.021569971815511405\n",
      "champ2Team2: 0.021279174523635706\n",
      "champ3Team2: 0.021536030958884966\n",
      "champ4Team2: 0.021953619964989218\n",
      "champ5Team2: 0.021412224843544724\n"
     ]
    }
   ],
   "source": [
    "# Ver la importancia de cada columna\n",
    "feature_importances = random_forest_model.feature_importances_\n",
    "print('Importancia de las características:')\n",
    "sorted(feature_importances, reverse=True)\n",
    "for i, importance in enumerate(feature_importances):\n",
    "     print(f'{random_forest_model.feature_names_in_[i]}: {importance}')"
   ],
   "metadata": {
    "collapsed": false,
    "ExecuteTime": {
     "end_time": "2023-12-01T01:57:12.753807Z",
     "start_time": "2023-12-01T01:57:12.711862800Z"
    }
   },
   "id": "9c02d192fd48e71d"
  },
  {
   "cell_type": "code",
   "execution_count": null,
   "outputs": [],
   "source": [],
   "metadata": {
    "collapsed": false
   },
   "id": "35ad9c21d651e308"
  }
 ],
 "metadata": {
  "kernelspec": {
   "display_name": "Python 3",
   "language": "python",
   "name": "python3"
  },
  "language_info": {
   "codemirror_mode": {
    "name": "ipython",
    "version": 2
   },
   "file_extension": ".py",
   "mimetype": "text/x-python",
   "name": "python",
   "nbconvert_exporter": "python",
   "pygments_lexer": "ipython2",
   "version": "2.7.6"
  }
 },
 "nbformat": 4,
 "nbformat_minor": 5
}
